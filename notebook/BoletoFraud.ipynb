{
  "nbformat": 4,
  "nbformat_minor": 0,
  "metadata": {
    "colab": {
      "name": "BoletoFraud.ipynb",
      "provenance": [],
      "collapsed_sections": [],
      "authorship_tag": "ABX9TyOqHVPIF2zLGzRLJnbakvA0",
      "include_colab_link": true
    },
    "kernelspec": {
      "name": "python3",
      "display_name": "Python 3"
    },
    "language_info": {
      "name": "python"
    }
  },
  "cells": [
    {
      "cell_type": "markdown",
      "metadata": {
        "id": "view-in-github",
        "colab_type": "text"
      },
      "source": [
        "<a href=\"https://colab.research.google.com/github/JuniorTorresMTJ/FraudBoleto/blob/main/notebook/BoletoFraud.ipynb\" target=\"_parent\"><img src=\"https://colab.research.google.com/assets/colab-badge.svg\" alt=\"Open In Colab\"/></a>"
      ]
    },
    {
      "cell_type": "markdown",
      "metadata": {
        "id": "N7XT3iVabTsu"
      },
      "source": [
        "***\n",
        "***\n",
        "#DETECÇÃO DE FRAUDE DE BOLETO\n",
        "***\n",
        "***"
      ]
    },
    {
      "cell_type": "markdown",
      "metadata": {
        "id": "ASCmOrZoXmbO"
      },
      "source": [
        "- Existe algum padrão no comportamento dos fraudadores?-\n",
        "- Esse dataset é suficiente para tirar alguma conclusão?\n",
        "- Conseguimos fazer alguma “feature engineering” que nos auxilie a identificar os fraudadores?\n",
        "- Como poderíamos identificá-los antes das denúncias?\n",
        "- Consegue propor alguma sugestão do que é necessário ser feito para solucionar o problema?"
      ]
    },
    {
      "cell_type": "markdown",
      "metadata": {
        "id": "XzGlMZEIbdm-"
      },
      "source": [
        "#IMPORTAÇÃO DAS BIBLIOTECAS"
      ]
    },
    {
      "cell_type": "code",
      "metadata": {
        "id": "1Xkn35t1TvRv"
      },
      "source": [
        "import numpy as np\n",
        "import pandas as pd\n",
        "import matplotlib.pyplot as plt\n",
        "import seaborn as sns\n",
        "import plotly.express as px\n",
        "import plotly.graph_objects as go\n",
        "from plotly.subplots import make_subplots\n",
        "import plotly.figure_factory as ff\n",
        "from plotly.subplots import make_subplots"
      ],
      "execution_count": 2,
      "outputs": []
    },
    {
      "cell_type": "markdown",
      "metadata": {
        "id": "0AvwC1jfbjHE"
      },
      "source": [
        "#CARREGAMENTO DA BASE"
      ]
    },
    {
      "cell_type": "code",
      "metadata": {
        "colab": {
          "base_uri": "https://localhost:8080/",
          "height": 444
        },
        "id": "uGqYTvkXT3Ps",
        "outputId": "f49eaffa-04d4-4490-96c3-2aded5bbf818"
      },
      "source": [
        "df_boleto = pd.read_csv(\"https://raw.githubusercontent.com/JuniorTorresMTJ/FraudBoleto/main/Data/dataset_case_boleto.csv\", sep=\";\")\n",
        "df_boleto"
      ],
      "execution_count": 3,
      "outputs": [
        {
          "output_type": "execute_result",
          "data": {
            "text/html": [
              "<div>\n",
              "<style scoped>\n",
              "    .dataframe tbody tr th:only-of-type {\n",
              "        vertical-align: middle;\n",
              "    }\n",
              "\n",
              "    .dataframe tbody tr th {\n",
              "        vertical-align: top;\n",
              "    }\n",
              "\n",
              "    .dataframe thead th {\n",
              "        text-align: right;\n",
              "    }\n",
              "</style>\n",
              "<table border=\"1\" class=\"dataframe\">\n",
              "  <thead>\n",
              "    <tr style=\"text-align: right;\">\n",
              "      <th></th>\n",
              "      <th>mes_ref</th>\n",
              "      <th>company_id</th>\n",
              "      <th>tipo_doc</th>\n",
              "      <th>max_valor_boleto</th>\n",
              "      <th>avg_valor_boleto</th>\n",
              "      <th>total_valor_boleto</th>\n",
              "      <th>valor_boleto_stdv</th>\n",
              "      <th>qtd_boleto_pago</th>\n",
              "      <th>qtd_boleto_total</th>\n",
              "      <th>qtd_boleto_estorno</th>\n",
              "      <th>qnt_cc_total</th>\n",
              "      <th>tempo_credenciamento</th>\n",
              "      <th>conta_bnk_repetida</th>\n",
              "      <th>fraude</th>\n",
              "    </tr>\n",
              "  </thead>\n",
              "  <tbody>\n",
              "    <tr>\n",
              "      <th>0</th>\n",
              "      <td>01/03/2020</td>\n",
              "      <td>5e74d202d1498c5bdf8aafe3</td>\n",
              "      <td>cnpj</td>\n",
              "      <td>6000</td>\n",
              "      <td>4884,61</td>\n",
              "      <td>63500</td>\n",
              "      <td>2122,83</td>\n",
              "      <td>10</td>\n",
              "      <td>13</td>\n",
              "      <td>0</td>\n",
              "      <td>35</td>\n",
              "      <td>11</td>\n",
              "      <td>0</td>\n",
              "      <td>0</td>\n",
              "    </tr>\n",
              "    <tr>\n",
              "      <th>1</th>\n",
              "      <td>01/03/2020</td>\n",
              "      <td>5e78dafeb5ac867c7e85eb5e</td>\n",
              "      <td>cnpj</td>\n",
              "      <td>1800</td>\n",
              "      <td>1800</td>\n",
              "      <td>3600</td>\n",
              "      <td>0</td>\n",
              "      <td>0</td>\n",
              "      <td>2</td>\n",
              "      <td>0</td>\n",
              "      <td>0</td>\n",
              "      <td>11</td>\n",
              "      <td>0</td>\n",
              "      <td>0</td>\n",
              "    </tr>\n",
              "    <tr>\n",
              "      <th>2</th>\n",
              "      <td>01/03/2020</td>\n",
              "      <td>5e73e21359193c2f123c1076</td>\n",
              "      <td>cnpj</td>\n",
              "      <td>159,9</td>\n",
              "      <td>104,9</td>\n",
              "      <td>209,8</td>\n",
              "      <td>77,78</td>\n",
              "      <td>0</td>\n",
              "      <td>2</td>\n",
              "      <td>0</td>\n",
              "      <td>14</td>\n",
              "      <td>11</td>\n",
              "      <td>0</td>\n",
              "      <td>0</td>\n",
              "    </tr>\n",
              "    <tr>\n",
              "      <th>3</th>\n",
              "      <td>01/04/2020</td>\n",
              "      <td>5e7262c49d55ea5dbea59d57</td>\n",
              "      <td>cnpj</td>\n",
              "      <td>600</td>\n",
              "      <td>600</td>\n",
              "      <td>1800</td>\n",
              "      <td>0</td>\n",
              "      <td>0</td>\n",
              "      <td>3</td>\n",
              "      <td>0</td>\n",
              "      <td>18</td>\n",
              "      <td>11</td>\n",
              "      <td>0</td>\n",
              "      <td>0</td>\n",
              "    </tr>\n",
              "    <tr>\n",
              "      <th>4</th>\n",
              "      <td>01/04/2020</td>\n",
              "      <td>5e610d9f66945c0f82dd357f</td>\n",
              "      <td>cnpj</td>\n",
              "      <td>2941</td>\n",
              "      <td>1764,6</td>\n",
              "      <td>8823</td>\n",
              "      <td>657,63</td>\n",
              "      <td>2</td>\n",
              "      <td>5</td>\n",
              "      <td>0</td>\n",
              "      <td>65</td>\n",
              "      <td>12</td>\n",
              "      <td>0</td>\n",
              "      <td>0</td>\n",
              "    </tr>\n",
              "    <tr>\n",
              "      <th>...</th>\n",
              "      <td>...</td>\n",
              "      <td>...</td>\n",
              "      <td>...</td>\n",
              "      <td>...</td>\n",
              "      <td>...</td>\n",
              "      <td>...</td>\n",
              "      <td>...</td>\n",
              "      <td>...</td>\n",
              "      <td>...</td>\n",
              "      <td>...</td>\n",
              "      <td>...</td>\n",
              "      <td>...</td>\n",
              "      <td>...</td>\n",
              "      <td>...</td>\n",
              "    </tr>\n",
              "    <tr>\n",
              "      <th>9272</th>\n",
              "      <td>01/11/2020</td>\n",
              "      <td>5fa6013aec647c00160a173b</td>\n",
              "      <td>cpf</td>\n",
              "      <td>50</td>\n",
              "      <td>50</td>\n",
              "      <td>50</td>\n",
              "      <td>0</td>\n",
              "      <td>0</td>\n",
              "      <td>1</td>\n",
              "      <td>0</td>\n",
              "      <td>0</td>\n",
              "      <td>2</td>\n",
              "      <td>0</td>\n",
              "      <td>1</td>\n",
              "    </tr>\n",
              "    <tr>\n",
              "      <th>9273</th>\n",
              "      <td>01/11/2020</td>\n",
              "      <td>5fc3ed1659018400162a83ad</td>\n",
              "      <td>cpf</td>\n",
              "      <td>10</td>\n",
              "      <td>10</td>\n",
              "      <td>10</td>\n",
              "      <td>0</td>\n",
              "      <td>1</td>\n",
              "      <td>1</td>\n",
              "      <td>0</td>\n",
              "      <td>0</td>\n",
              "      <td>3</td>\n",
              "      <td>0</td>\n",
              "      <td>0</td>\n",
              "    </tr>\n",
              "    <tr>\n",
              "      <th>9274</th>\n",
              "      <td>01/10/2020</td>\n",
              "      <td>5f6f796ccff5532d540c6f58</td>\n",
              "      <td>cpf</td>\n",
              "      <td>160</td>\n",
              "      <td>160</td>\n",
              "      <td>160</td>\n",
              "      <td>0</td>\n",
              "      <td>0</td>\n",
              "      <td>1</td>\n",
              "      <td>0</td>\n",
              "      <td>0</td>\n",
              "      <td>5</td>\n",
              "      <td>0</td>\n",
              "      <td>0</td>\n",
              "    </tr>\n",
              "    <tr>\n",
              "      <th>9275</th>\n",
              "      <td>01/12/2020</td>\n",
              "      <td>5ebd605d4c4cb062ab6b3c66</td>\n",
              "      <td>cnpj</td>\n",
              "      <td>600</td>\n",
              "      <td>600</td>\n",
              "      <td>600</td>\n",
              "      <td>0</td>\n",
              "      <td>0</td>\n",
              "      <td>1</td>\n",
              "      <td>0</td>\n",
              "      <td>0</td>\n",
              "      <td>9</td>\n",
              "      <td>0</td>\n",
              "      <td>0</td>\n",
              "    </tr>\n",
              "    <tr>\n",
              "      <th>9276</th>\n",
              "      <td>01/03/2021</td>\n",
              "      <td>5ec2eef04e34c55a49997326</td>\n",
              "      <td>cnpj</td>\n",
              "      <td>60</td>\n",
              "      <td>60</td>\n",
              "      <td>60</td>\n",
              "      <td>0</td>\n",
              "      <td>1</td>\n",
              "      <td>1</td>\n",
              "      <td>0</td>\n",
              "      <td>0</td>\n",
              "      <td>9</td>\n",
              "      <td>0</td>\n",
              "      <td>0</td>\n",
              "    </tr>\n",
              "  </tbody>\n",
              "</table>\n",
              "<p>9277 rows × 14 columns</p>\n",
              "</div>"
            ],
            "text/plain": [
              "         mes_ref                company_id  ... conta_bnk_repetida fraude\n",
              "0     01/03/2020  5e74d202d1498c5bdf8aafe3  ...                  0      0\n",
              "1     01/03/2020  5e78dafeb5ac867c7e85eb5e  ...                  0      0\n",
              "2     01/03/2020  5e73e21359193c2f123c1076  ...                  0      0\n",
              "3     01/04/2020  5e7262c49d55ea5dbea59d57  ...                  0      0\n",
              "4     01/04/2020  5e610d9f66945c0f82dd357f  ...                  0      0\n",
              "...          ...                       ...  ...                ...    ...\n",
              "9272  01/11/2020  5fa6013aec647c00160a173b  ...                  0      1\n",
              "9273  01/11/2020  5fc3ed1659018400162a83ad  ...                  0      0\n",
              "9274  01/10/2020  5f6f796ccff5532d540c6f58  ...                  0      0\n",
              "9275  01/12/2020  5ebd605d4c4cb062ab6b3c66  ...                  0      0\n",
              "9276  01/03/2021  5ec2eef04e34c55a49997326  ...                  0      0\n",
              "\n",
              "[9277 rows x 14 columns]"
            ]
          },
          "metadata": {},
          "execution_count": 3
        }
      ]
    },
    {
      "cell_type": "markdown",
      "metadata": {
        "id": "5_1219XVeR8D"
      },
      "source": [
        "#FUNÇÕES\n"
      ]
    },
    {
      "cell_type": "code",
      "metadata": {
        "id": "7pMmyWhDeVpE"
      },
      "source": [
        "def get_iqr_values(df_in, col_name):\n",
        "    median = df_in[col_name].median()\n",
        "    q1 = df_in[col_name].quantile(0.25) # 25th percentile / 1st quartile\n",
        "    q3 = df_in[col_name].quantile(0.75) # 7th percentile / 3rd quartile\n",
        "    iqr = q3-q1 #Interquartile range\n",
        "    minimum  = q1-1.5*iqr # The minimum value or the |- marker in the box plot\n",
        "    maximum = q3+1.5*iqr # The maximum value or the -| marker in the box plot\n",
        "    return median, q1, q3, iqr, minimum, maximum\n",
        "\n",
        "def get_iqr_text(df_in, col_name):\n",
        "    median, q1, q3, iqr, minimum, maximum = get_iqr_values(df_in, col_name)\n",
        "    text = f\"median={median:.2f}, q1={q1:.2f}, q3={q3:.2f}, iqr={iqr:.2f}, minimum={minimum:.2f}, maximum={maximum:.2f}\"\n",
        "    return text\n",
        "\n",
        "def remove_outliers(df_in, col_name):\n",
        "    _, _, _, _, minimum, maximum = get_iqr_values(df_in, col_name)\n",
        "    df_out = df_in.loc[(df_in[col_name] > minimum) & (df_in[col_name] < maximum)]\n",
        "    return df_out\n",
        "\n",
        "def count_outliers(df_in, col_name):\n",
        "    _, _, _, _, minimum, maximum = get_iqr_values(df_in, col_name)\n",
        "    df_outliers = df_in.loc[(df_in[col_name] <= minimum) | (df_in[col_name] >= maximum)]\n",
        "    return df_outliers.shape[0]\n",
        "\n",
        "def box_and_whisker(df_in, col_name):\n",
        "    title = get_iqr_text(df_in, col_name)\n",
        "    sns.boxplot(df_in[col_name], color= color[0])\n",
        "    plt.title(title)\n",
        "    plt.show()"
      ],
      "execution_count": 4,
      "outputs": []
    },
    {
      "cell_type": "code",
      "metadata": {
        "id": "hVtroqKJFoto"
      },
      "source": [
        "color =['#87B738',\n",
        "        '#283610',\n",
        "        '#ABCC73'] "
      ],
      "execution_count": 5,
      "outputs": []
    },
    {
      "cell_type": "markdown",
      "metadata": {
        "id": "3VeR5dEkboFr"
      },
      "source": [
        "#LIMPEZA E TRANSFORMAÇÃO"
      ]
    },
    {
      "cell_type": "code",
      "metadata": {
        "id": "-WFrvOwvyH7l"
      },
      "source": [
        "df_boleto['max_valor_boleto'] = df_boleto['max_valor_boleto'].str.replace(',', '.')\n",
        "df_boleto['avg_valor_boleto'] = df_boleto['max_valor_boleto'].str.replace(',', '.')\n",
        "df_boleto['total_valor_boleto'] = df_boleto['max_valor_boleto'].str.replace(',', '.')\n",
        "df_boleto['valor_boleto_stdv'] = df_boleto['max_valor_boleto'].str.replace(',', '.')"
      ],
      "execution_count": 6,
      "outputs": []
    },
    {
      "cell_type": "code",
      "metadata": {
        "colab": {
          "base_uri": "https://localhost:8080/"
        },
        "id": "OJnKymPRv57n",
        "outputId": "726c51b5-d42f-4b57-d16b-f0329f47af5e"
      },
      "source": [
        "df_boleto['valor_boleto_stdv']"
      ],
      "execution_count": 7,
      "outputs": [
        {
          "output_type": "execute_result",
          "data": {
            "text/plain": [
              "0        6000\n",
              "1        1800\n",
              "2       159.9\n",
              "3         600\n",
              "4        2941\n",
              "        ...  \n",
              "9272       50\n",
              "9273       10\n",
              "9274      160\n",
              "9275      600\n",
              "9276       60\n",
              "Name: valor_boleto_stdv, Length: 9277, dtype: object"
            ]
          },
          "metadata": {},
          "execution_count": 7
        }
      ]
    },
    {
      "cell_type": "code",
      "metadata": {
        "colab": {
          "base_uri": "https://localhost:8080/"
        },
        "id": "7S2EH0PctAC7",
        "outputId": "0181b3c7-f286-47b2-cb02-264e21ab3d83"
      },
      "source": [
        "df_boleto.info()"
      ],
      "execution_count": 8,
      "outputs": [
        {
          "output_type": "stream",
          "name": "stdout",
          "text": [
            "<class 'pandas.core.frame.DataFrame'>\n",
            "RangeIndex: 9277 entries, 0 to 9276\n",
            "Data columns (total 14 columns):\n",
            " #   Column                Non-Null Count  Dtype \n",
            "---  ------                --------------  ----- \n",
            " 0   mes_ref               9277 non-null   object\n",
            " 1   company_id            9277 non-null   object\n",
            " 2   tipo_doc              9277 non-null   object\n",
            " 3   max_valor_boleto      9277 non-null   object\n",
            " 4   avg_valor_boleto      9277 non-null   object\n",
            " 5   total_valor_boleto    9277 non-null   object\n",
            " 6   valor_boleto_stdv     9277 non-null   object\n",
            " 7   qtd_boleto_pago       9277 non-null   int64 \n",
            " 8   qtd_boleto_total      9277 non-null   int64 \n",
            " 9   qtd_boleto_estorno    9277 non-null   int64 \n",
            " 10  qnt_cc_total          9277 non-null   int64 \n",
            " 11  tempo_credenciamento  9277 non-null   int64 \n",
            " 12  conta_bnk_repetida    9277 non-null   int64 \n",
            " 13  fraude                9277 non-null   int64 \n",
            "dtypes: int64(7), object(7)\n",
            "memory usage: 1014.8+ KB\n"
          ]
        }
      ]
    },
    {
      "cell_type": "code",
      "metadata": {
        "id": "vzR7M2QIwLsE"
      },
      "source": [
        "df_boleto['max_valor_boleto'] = df_boleto['max_valor_boleto'].astype(float)\n",
        "df_boleto['avg_valor_boleto'] = df_boleto['avg_valor_boleto'].astype(float)\n",
        "df_boleto['total_valor_boleto'] = df_boleto['total_valor_boleto'].astype(float)\n",
        "df_boleto['valor_boleto_stdv'] = df_boleto['valor_boleto_stdv'].astype(float)"
      ],
      "execution_count": 9,
      "outputs": []
    },
    {
      "cell_type": "markdown",
      "metadata": {
        "id": "f5LAvpOycvSy"
      },
      "source": [
        "##Cada id uma linha"
      ]
    },
    {
      "cell_type": "code",
      "metadata": {
        "colab": {
          "base_uri": "https://localhost:8080/"
        },
        "id": "ZyxB_ecNUGee",
        "outputId": "6aa6aa6d-98fa-4baa-f0d9-526ab1890e9e"
      },
      "source": [
        "df_boleto['company_id'].value_counts()"
      ],
      "execution_count": 10,
      "outputs": [
        {
          "output_type": "execute_result",
          "data": {
            "text/plain": [
              "5e1c738d7268a016d9e71108    14\n",
              "5e7cbc38f2eebc591d523154    13\n",
              "5e7e508f03cfe831e3703c26    13\n",
              "5e7507e20a8d7971d0698d79    13\n",
              "5e7cc3118dc5042cae4e94b5    13\n",
              "                            ..\n",
              "5ffe3593f8ada7001029899a     1\n",
              "5efbdc66428caf2e22d2efa2     1\n",
              "5f7ed2541978be65bdb844d2     1\n",
              "60042ac55c2d19001626ba7b     1\n",
              "6038f8382816470011720ff9     1\n",
              "Name: company_id, Length: 4960, dtype: int64"
            ]
          },
          "metadata": {},
          "execution_count": 10
        }
      ]
    },
    {
      "cell_type": "markdown",
      "metadata": {
        "id": "uVBpYuU0I-G-"
      },
      "source": [
        "<img src=\"https://raw.githubusercontent.com/Giatroo/BeeData_GroupBy-in-Pandas/main/split-apply-combine.jpeg\" alt=\"win\" width=\"800\"/>"
      ]
    },
    {
      "cell_type": "code",
      "metadata": {
        "colab": {
          "base_uri": "https://localhost:8080/",
          "height": 477
        },
        "id": "rgeTvN-5nrtD",
        "outputId": "65f583c7-35e8-4b4e-e2bd-c092e92d1c57"
      },
      "source": [
        "df_boleto.query('company_id ==\"5e78c7d101e84d486076b16f\"')"
      ],
      "execution_count": 11,
      "outputs": [
        {
          "output_type": "execute_result",
          "data": {
            "text/html": [
              "<div>\n",
              "<style scoped>\n",
              "    .dataframe tbody tr th:only-of-type {\n",
              "        vertical-align: middle;\n",
              "    }\n",
              "\n",
              "    .dataframe tbody tr th {\n",
              "        vertical-align: top;\n",
              "    }\n",
              "\n",
              "    .dataframe thead th {\n",
              "        text-align: right;\n",
              "    }\n",
              "</style>\n",
              "<table border=\"1\" class=\"dataframe\">\n",
              "  <thead>\n",
              "    <tr style=\"text-align: right;\">\n",
              "      <th></th>\n",
              "      <th>mes_ref</th>\n",
              "      <th>company_id</th>\n",
              "      <th>tipo_doc</th>\n",
              "      <th>max_valor_boleto</th>\n",
              "      <th>avg_valor_boleto</th>\n",
              "      <th>total_valor_boleto</th>\n",
              "      <th>valor_boleto_stdv</th>\n",
              "      <th>qtd_boleto_pago</th>\n",
              "      <th>qtd_boleto_total</th>\n",
              "      <th>qtd_boleto_estorno</th>\n",
              "      <th>qnt_cc_total</th>\n",
              "      <th>tempo_credenciamento</th>\n",
              "      <th>conta_bnk_repetida</th>\n",
              "      <th>fraude</th>\n",
              "    </tr>\n",
              "  </thead>\n",
              "  <tbody>\n",
              "    <tr>\n",
              "      <th>168</th>\n",
              "      <td>01/03/2020</td>\n",
              "      <td>5e78c7d101e84d486076b16f</td>\n",
              "      <td>cnpj</td>\n",
              "      <td>199.99</td>\n",
              "      <td>199.99</td>\n",
              "      <td>199.99</td>\n",
              "      <td>199.99</td>\n",
              "      <td>5</td>\n",
              "      <td>19</td>\n",
              "      <td>0</td>\n",
              "      <td>0</td>\n",
              "      <td>11</td>\n",
              "      <td>0</td>\n",
              "      <td>0</td>\n",
              "    </tr>\n",
              "    <tr>\n",
              "      <th>230</th>\n",
              "      <td>01/04/2020</td>\n",
              "      <td>5e78c7d101e84d486076b16f</td>\n",
              "      <td>cnpj</td>\n",
              "      <td>199.90</td>\n",
              "      <td>199.90</td>\n",
              "      <td>199.90</td>\n",
              "      <td>199.90</td>\n",
              "      <td>2</td>\n",
              "      <td>14</td>\n",
              "      <td>0</td>\n",
              "      <td>2</td>\n",
              "      <td>11</td>\n",
              "      <td>0</td>\n",
              "      <td>0</td>\n",
              "    </tr>\n",
              "    <tr>\n",
              "      <th>377</th>\n",
              "      <td>01/08/2020</td>\n",
              "      <td>5e78c7d101e84d486076b16f</td>\n",
              "      <td>cnpj</td>\n",
              "      <td>531.17</td>\n",
              "      <td>531.17</td>\n",
              "      <td>531.17</td>\n",
              "      <td>531.17</td>\n",
              "      <td>10</td>\n",
              "      <td>14</td>\n",
              "      <td>0</td>\n",
              "      <td>6</td>\n",
              "      <td>11</td>\n",
              "      <td>0</td>\n",
              "      <td>0</td>\n",
              "    </tr>\n",
              "    <tr>\n",
              "      <th>1128</th>\n",
              "      <td>01/07/2020</td>\n",
              "      <td>5e78c7d101e84d486076b16f</td>\n",
              "      <td>cnpj</td>\n",
              "      <td>285.55</td>\n",
              "      <td>285.55</td>\n",
              "      <td>285.55</td>\n",
              "      <td>285.55</td>\n",
              "      <td>9</td>\n",
              "      <td>20</td>\n",
              "      <td>0</td>\n",
              "      <td>1</td>\n",
              "      <td>11</td>\n",
              "      <td>0</td>\n",
              "      <td>0</td>\n",
              "    </tr>\n",
              "    <tr>\n",
              "      <th>1316</th>\n",
              "      <td>01/10/2020</td>\n",
              "      <td>5e78c7d101e84d486076b16f</td>\n",
              "      <td>cnpj</td>\n",
              "      <td>274.97</td>\n",
              "      <td>274.97</td>\n",
              "      <td>274.97</td>\n",
              "      <td>274.97</td>\n",
              "      <td>18</td>\n",
              "      <td>27</td>\n",
              "      <td>0</td>\n",
              "      <td>14</td>\n",
              "      <td>11</td>\n",
              "      <td>0</td>\n",
              "      <td>0</td>\n",
              "    </tr>\n",
              "    <tr>\n",
              "      <th>1616</th>\n",
              "      <td>01/11/2020</td>\n",
              "      <td>5e78c7d101e84d486076b16f</td>\n",
              "      <td>cnpj</td>\n",
              "      <td>549.94</td>\n",
              "      <td>549.94</td>\n",
              "      <td>549.94</td>\n",
              "      <td>549.94</td>\n",
              "      <td>14</td>\n",
              "      <td>29</td>\n",
              "      <td>0</td>\n",
              "      <td>8</td>\n",
              "      <td>11</td>\n",
              "      <td>0</td>\n",
              "      <td>0</td>\n",
              "    </tr>\n",
              "    <tr>\n",
              "      <th>2077</th>\n",
              "      <td>01/06/2020</td>\n",
              "      <td>5e78c7d101e84d486076b16f</td>\n",
              "      <td>cnpj</td>\n",
              "      <td>275.80</td>\n",
              "      <td>275.80</td>\n",
              "      <td>275.80</td>\n",
              "      <td>275.80</td>\n",
              "      <td>1</td>\n",
              "      <td>2</td>\n",
              "      <td>0</td>\n",
              "      <td>1</td>\n",
              "      <td>11</td>\n",
              "      <td>0</td>\n",
              "      <td>0</td>\n",
              "    </tr>\n",
              "    <tr>\n",
              "      <th>2859</th>\n",
              "      <td>01/05/2020</td>\n",
              "      <td>5e78c7d101e84d486076b16f</td>\n",
              "      <td>cnpj</td>\n",
              "      <td>99.00</td>\n",
              "      <td>99.00</td>\n",
              "      <td>99.00</td>\n",
              "      <td>99.00</td>\n",
              "      <td>1</td>\n",
              "      <td>4</td>\n",
              "      <td>0</td>\n",
              "      <td>8</td>\n",
              "      <td>11</td>\n",
              "      <td>0</td>\n",
              "      <td>0</td>\n",
              "    </tr>\n",
              "    <tr>\n",
              "      <th>2896</th>\n",
              "      <td>01/03/2021</td>\n",
              "      <td>5e78c7d101e84d486076b16f</td>\n",
              "      <td>cnpj</td>\n",
              "      <td>373.60</td>\n",
              "      <td>373.60</td>\n",
              "      <td>373.60</td>\n",
              "      <td>373.60</td>\n",
              "      <td>2</td>\n",
              "      <td>3</td>\n",
              "      <td>0</td>\n",
              "      <td>1</td>\n",
              "      <td>11</td>\n",
              "      <td>0</td>\n",
              "      <td>0</td>\n",
              "    </tr>\n",
              "    <tr>\n",
              "      <th>3746</th>\n",
              "      <td>01/09/2020</td>\n",
              "      <td>5e78c7d101e84d486076b16f</td>\n",
              "      <td>cnpj</td>\n",
              "      <td>285.55</td>\n",
              "      <td>285.55</td>\n",
              "      <td>285.55</td>\n",
              "      <td>285.55</td>\n",
              "      <td>15</td>\n",
              "      <td>30</td>\n",
              "      <td>0</td>\n",
              "      <td>0</td>\n",
              "      <td>11</td>\n",
              "      <td>0</td>\n",
              "      <td>0</td>\n",
              "    </tr>\n",
              "    <tr>\n",
              "      <th>4327</th>\n",
              "      <td>01/12/2020</td>\n",
              "      <td>5e78c7d101e84d486076b16f</td>\n",
              "      <td>cnpj</td>\n",
              "      <td>824.91</td>\n",
              "      <td>824.91</td>\n",
              "      <td>824.91</td>\n",
              "      <td>824.91</td>\n",
              "      <td>21</td>\n",
              "      <td>31</td>\n",
              "      <td>0</td>\n",
              "      <td>1</td>\n",
              "      <td>11</td>\n",
              "      <td>0</td>\n",
              "      <td>0</td>\n",
              "    </tr>\n",
              "    <tr>\n",
              "      <th>4929</th>\n",
              "      <td>01/01/2021</td>\n",
              "      <td>5e78c7d101e84d486076b16f</td>\n",
              "      <td>cnpj</td>\n",
              "      <td>309.60</td>\n",
              "      <td>309.60</td>\n",
              "      <td>309.60</td>\n",
              "      <td>309.60</td>\n",
              "      <td>9</td>\n",
              "      <td>11</td>\n",
              "      <td>0</td>\n",
              "      <td>9</td>\n",
              "      <td>11</td>\n",
              "      <td>0</td>\n",
              "      <td>0</td>\n",
              "    </tr>\n",
              "    <tr>\n",
              "      <th>8110</th>\n",
              "      <td>01/02/2021</td>\n",
              "      <td>5e78c7d101e84d486076b16f</td>\n",
              "      <td>cnpj</td>\n",
              "      <td>339.45</td>\n",
              "      <td>339.45</td>\n",
              "      <td>339.45</td>\n",
              "      <td>339.45</td>\n",
              "      <td>7</td>\n",
              "      <td>14</td>\n",
              "      <td>0</td>\n",
              "      <td>3</td>\n",
              "      <td>11</td>\n",
              "      <td>0</td>\n",
              "      <td>0</td>\n",
              "    </tr>\n",
              "  </tbody>\n",
              "</table>\n",
              "</div>"
            ],
            "text/plain": [
              "         mes_ref                company_id  ... conta_bnk_repetida  fraude\n",
              "168   01/03/2020  5e78c7d101e84d486076b16f  ...                  0       0\n",
              "230   01/04/2020  5e78c7d101e84d486076b16f  ...                  0       0\n",
              "377   01/08/2020  5e78c7d101e84d486076b16f  ...                  0       0\n",
              "1128  01/07/2020  5e78c7d101e84d486076b16f  ...                  0       0\n",
              "1316  01/10/2020  5e78c7d101e84d486076b16f  ...                  0       0\n",
              "1616  01/11/2020  5e78c7d101e84d486076b16f  ...                  0       0\n",
              "2077  01/06/2020  5e78c7d101e84d486076b16f  ...                  0       0\n",
              "2859  01/05/2020  5e78c7d101e84d486076b16f  ...                  0       0\n",
              "2896  01/03/2021  5e78c7d101e84d486076b16f  ...                  0       0\n",
              "3746  01/09/2020  5e78c7d101e84d486076b16f  ...                  0       0\n",
              "4327  01/12/2020  5e78c7d101e84d486076b16f  ...                  0       0\n",
              "4929  01/01/2021  5e78c7d101e84d486076b16f  ...                  0       0\n",
              "8110  01/02/2021  5e78c7d101e84d486076b16f  ...                  0       0\n",
              "\n",
              "[13 rows x 14 columns]"
            ]
          },
          "metadata": {},
          "execution_count": 11
        }
      ]
    },
    {
      "cell_type": "code",
      "metadata": {
        "id": "-NKcpAqGqIY4"
      },
      "source": [
        "df_boleto_clean = df_boleto.groupby(['company_id', 'tipo_doc','conta_bnk_repetida','fraude']).mean().reset_index()"
      ],
      "execution_count": 12,
      "outputs": []
    },
    {
      "cell_type": "code",
      "metadata": {
        "colab": {
          "base_uri": "https://localhost:8080/",
          "height": 424
        },
        "id": "8KwomlRnsVKC",
        "outputId": "daa12f47-43a0-4b9d-e692-e3cf95d7c51e"
      },
      "source": [
        "df_amount= df_boleto.groupby(['company_id']).size().reset_index()\n",
        "df_amount = df_amount.rename(columns={0: \"amount\"})\n",
        "df_amount"
      ],
      "execution_count": 13,
      "outputs": [
        {
          "output_type": "execute_result",
          "data": {
            "text/html": [
              "<div>\n",
              "<style scoped>\n",
              "    .dataframe tbody tr th:only-of-type {\n",
              "        vertical-align: middle;\n",
              "    }\n",
              "\n",
              "    .dataframe tbody tr th {\n",
              "        vertical-align: top;\n",
              "    }\n",
              "\n",
              "    .dataframe thead th {\n",
              "        text-align: right;\n",
              "    }\n",
              "</style>\n",
              "<table border=\"1\" class=\"dataframe\">\n",
              "  <thead>\n",
              "    <tr style=\"text-align: right;\">\n",
              "      <th></th>\n",
              "      <th>company_id</th>\n",
              "      <th>amount</th>\n",
              "    </tr>\n",
              "  </thead>\n",
              "  <tbody>\n",
              "    <tr>\n",
              "      <th>0</th>\n",
              "      <td>5e0eb0115e364024155a696c</td>\n",
              "      <td>1</td>\n",
              "    </tr>\n",
              "    <tr>\n",
              "      <th>1</th>\n",
              "      <td>5e0f70e84331ba63bb6a3eb0</td>\n",
              "      <td>9</td>\n",
              "    </tr>\n",
              "    <tr>\n",
              "      <th>2</th>\n",
              "      <td>5e1485a98e158b0d6cfc4df9</td>\n",
              "      <td>1</td>\n",
              "    </tr>\n",
              "    <tr>\n",
              "      <th>3</th>\n",
              "      <td>5e149751d9d52a271763c0e1</td>\n",
              "      <td>1</td>\n",
              "    </tr>\n",
              "    <tr>\n",
              "      <th>4</th>\n",
              "      <td>5e14ac4c6204025f8ec345a3</td>\n",
              "      <td>4</td>\n",
              "    </tr>\n",
              "    <tr>\n",
              "      <th>...</th>\n",
              "      <td>...</td>\n",
              "      <td>...</td>\n",
              "    </tr>\n",
              "    <tr>\n",
              "      <th>4955</th>\n",
              "      <td>60442a0bb22d6100118bc21a</td>\n",
              "      <td>1</td>\n",
              "    </tr>\n",
              "    <tr>\n",
              "      <th>4956</th>\n",
              "      <td>60444661b22d6100118bc276</td>\n",
              "      <td>1</td>\n",
              "    </tr>\n",
              "    <tr>\n",
              "      <th>4957</th>\n",
              "      <td>60444c6505b7f90019aa3e20</td>\n",
              "      <td>1</td>\n",
              "    </tr>\n",
              "    <tr>\n",
              "      <th>4958</th>\n",
              "      <td>60445669a8b6c8001136e544</td>\n",
              "      <td>1</td>\n",
              "    </tr>\n",
              "    <tr>\n",
              "      <th>4959</th>\n",
              "      <td>60448af00269de0019bfac5a</td>\n",
              "      <td>1</td>\n",
              "    </tr>\n",
              "  </tbody>\n",
              "</table>\n",
              "<p>4960 rows × 2 columns</p>\n",
              "</div>"
            ],
            "text/plain": [
              "                    company_id  amount\n",
              "0     5e0eb0115e364024155a696c       1\n",
              "1     5e0f70e84331ba63bb6a3eb0       9\n",
              "2     5e1485a98e158b0d6cfc4df9       1\n",
              "3     5e149751d9d52a271763c0e1       1\n",
              "4     5e14ac4c6204025f8ec345a3       4\n",
              "...                        ...     ...\n",
              "4955  60442a0bb22d6100118bc21a       1\n",
              "4956  60444661b22d6100118bc276       1\n",
              "4957  60444c6505b7f90019aa3e20       1\n",
              "4958  60445669a8b6c8001136e544       1\n",
              "4959  60448af00269de0019bfac5a       1\n",
              "\n",
              "[4960 rows x 2 columns]"
            ]
          },
          "metadata": {},
          "execution_count": 13
        }
      ]
    },
    {
      "cell_type": "code",
      "metadata": {
        "colab": {
          "base_uri": "https://localhost:8080/"
        },
        "id": "WJKL1EvuzGjT",
        "outputId": "aad7d7c2-8aed-4d95-b9aa-51cc15b644c3"
      },
      "source": [
        "df_amount.company_id.value_counts()"
      ],
      "execution_count": 14,
      "outputs": [
        {
          "output_type": "execute_result",
          "data": {
            "text/plain": [
              "602e7f3c0c87fc00193821b3    1\n",
              "600f64fa8dcddf0010cd3d81    1\n",
              "5f9ce94c1bfb140018bf2eee    1\n",
              "5e751b9cd1498c5bdf8ab206    1\n",
              "5e5f1d875775224e1065669a    1\n",
              "                           ..\n",
              "5eb03344c9543c6b87b6c5bc    1\n",
              "5eb482581e7e63167e3ae99f    1\n",
              "60396045b3b05e0011188c55    1\n",
              "5fa6f76b2bd90000102039aa    1\n",
              "6028ff390c87fc0019380bbf    1\n",
              "Name: company_id, Length: 4960, dtype: int64"
            ]
          },
          "metadata": {},
          "execution_count": 14
        }
      ]
    },
    {
      "cell_type": "code",
      "metadata": {
        "colab": {
          "base_uri": "https://localhost:8080/",
          "height": 444
        },
        "id": "uqda1qeMsVD4",
        "outputId": "d54c0b4a-d983-42e6-86ba-6cb83509f7a2"
      },
      "source": [
        "df_boleto_clean = df_boleto_clean.merge(df_amount, on='company_id')\n",
        "df_boleto_clean"
      ],
      "execution_count": 15,
      "outputs": [
        {
          "output_type": "execute_result",
          "data": {
            "text/html": [
              "<div>\n",
              "<style scoped>\n",
              "    .dataframe tbody tr th:only-of-type {\n",
              "        vertical-align: middle;\n",
              "    }\n",
              "\n",
              "    .dataframe tbody tr th {\n",
              "        vertical-align: top;\n",
              "    }\n",
              "\n",
              "    .dataframe thead th {\n",
              "        text-align: right;\n",
              "    }\n",
              "</style>\n",
              "<table border=\"1\" class=\"dataframe\">\n",
              "  <thead>\n",
              "    <tr style=\"text-align: right;\">\n",
              "      <th></th>\n",
              "      <th>company_id</th>\n",
              "      <th>tipo_doc</th>\n",
              "      <th>conta_bnk_repetida</th>\n",
              "      <th>fraude</th>\n",
              "      <th>max_valor_boleto</th>\n",
              "      <th>avg_valor_boleto</th>\n",
              "      <th>total_valor_boleto</th>\n",
              "      <th>valor_boleto_stdv</th>\n",
              "      <th>qtd_boleto_pago</th>\n",
              "      <th>qtd_boleto_total</th>\n",
              "      <th>qtd_boleto_estorno</th>\n",
              "      <th>qnt_cc_total</th>\n",
              "      <th>tempo_credenciamento</th>\n",
              "      <th>amount</th>\n",
              "    </tr>\n",
              "  </thead>\n",
              "  <tbody>\n",
              "    <tr>\n",
              "      <th>0</th>\n",
              "      <td>5e0eb0115e364024155a696c</td>\n",
              "      <td>cpf</td>\n",
              "      <td>0</td>\n",
              "      <td>0</td>\n",
              "      <td>597.950000</td>\n",
              "      <td>597.950000</td>\n",
              "      <td>597.950000</td>\n",
              "      <td>597.950000</td>\n",
              "      <td>0.000000</td>\n",
              "      <td>4.000000</td>\n",
              "      <td>0.0</td>\n",
              "      <td>3.000000</td>\n",
              "      <td>14.0</td>\n",
              "      <td>1</td>\n",
              "    </tr>\n",
              "    <tr>\n",
              "      <th>1</th>\n",
              "      <td>5e0f70e84331ba63bb6a3eb0</td>\n",
              "      <td>cnpj</td>\n",
              "      <td>0</td>\n",
              "      <td>0</td>\n",
              "      <td>831.977778</td>\n",
              "      <td>831.977778</td>\n",
              "      <td>831.977778</td>\n",
              "      <td>831.977778</td>\n",
              "      <td>1.666667</td>\n",
              "      <td>2.333333</td>\n",
              "      <td>0.0</td>\n",
              "      <td>11.888889</td>\n",
              "      <td>14.0</td>\n",
              "      <td>9</td>\n",
              "    </tr>\n",
              "    <tr>\n",
              "      <th>2</th>\n",
              "      <td>5e1485a98e158b0d6cfc4df9</td>\n",
              "      <td>cpf</td>\n",
              "      <td>0</td>\n",
              "      <td>0</td>\n",
              "      <td>792.930000</td>\n",
              "      <td>792.930000</td>\n",
              "      <td>792.930000</td>\n",
              "      <td>792.930000</td>\n",
              "      <td>0.000000</td>\n",
              "      <td>1.000000</td>\n",
              "      <td>0.0</td>\n",
              "      <td>0.000000</td>\n",
              "      <td>14.0</td>\n",
              "      <td>1</td>\n",
              "    </tr>\n",
              "    <tr>\n",
              "      <th>3</th>\n",
              "      <td>5e149751d9d52a271763c0e1</td>\n",
              "      <td>cnpj</td>\n",
              "      <td>0</td>\n",
              "      <td>0</td>\n",
              "      <td>2399.000000</td>\n",
              "      <td>2399.000000</td>\n",
              "      <td>2399.000000</td>\n",
              "      <td>2399.000000</td>\n",
              "      <td>0.000000</td>\n",
              "      <td>1.000000</td>\n",
              "      <td>0.0</td>\n",
              "      <td>2.000000</td>\n",
              "      <td>14.0</td>\n",
              "      <td>1</td>\n",
              "    </tr>\n",
              "    <tr>\n",
              "      <th>4</th>\n",
              "      <td>5e14ac4c6204025f8ec345a3</td>\n",
              "      <td>cnpj</td>\n",
              "      <td>0</td>\n",
              "      <td>0</td>\n",
              "      <td>396.150000</td>\n",
              "      <td>396.150000</td>\n",
              "      <td>396.150000</td>\n",
              "      <td>396.150000</td>\n",
              "      <td>1.750000</td>\n",
              "      <td>3.000000</td>\n",
              "      <td>0.0</td>\n",
              "      <td>46.750000</td>\n",
              "      <td>14.0</td>\n",
              "      <td>4</td>\n",
              "    </tr>\n",
              "    <tr>\n",
              "      <th>...</th>\n",
              "      <td>...</td>\n",
              "      <td>...</td>\n",
              "      <td>...</td>\n",
              "      <td>...</td>\n",
              "      <td>...</td>\n",
              "      <td>...</td>\n",
              "      <td>...</td>\n",
              "      <td>...</td>\n",
              "      <td>...</td>\n",
              "      <td>...</td>\n",
              "      <td>...</td>\n",
              "      <td>...</td>\n",
              "      <td>...</td>\n",
              "      <td>...</td>\n",
              "    </tr>\n",
              "    <tr>\n",
              "      <th>4955</th>\n",
              "      <td>60442a0bb22d6100118bc21a</td>\n",
              "      <td>cnpj</td>\n",
              "      <td>0</td>\n",
              "      <td>0</td>\n",
              "      <td>10020.000000</td>\n",
              "      <td>10020.000000</td>\n",
              "      <td>10020.000000</td>\n",
              "      <td>10020.000000</td>\n",
              "      <td>0.000000</td>\n",
              "      <td>2.000000</td>\n",
              "      <td>0.0</td>\n",
              "      <td>0.000000</td>\n",
              "      <td>0.0</td>\n",
              "      <td>1</td>\n",
              "    </tr>\n",
              "    <tr>\n",
              "      <th>4956</th>\n",
              "      <td>60444661b22d6100118bc276</td>\n",
              "      <td>cnpj</td>\n",
              "      <td>0</td>\n",
              "      <td>0</td>\n",
              "      <td>12090.000000</td>\n",
              "      <td>12090.000000</td>\n",
              "      <td>12090.000000</td>\n",
              "      <td>12090.000000</td>\n",
              "      <td>0.000000</td>\n",
              "      <td>2.000000</td>\n",
              "      <td>0.0</td>\n",
              "      <td>0.000000</td>\n",
              "      <td>0.0</td>\n",
              "      <td>1</td>\n",
              "    </tr>\n",
              "    <tr>\n",
              "      <th>4957</th>\n",
              "      <td>60444c6505b7f90019aa3e20</td>\n",
              "      <td>cnpj</td>\n",
              "      <td>0</td>\n",
              "      <td>0</td>\n",
              "      <td>26541.710000</td>\n",
              "      <td>26541.710000</td>\n",
              "      <td>26541.710000</td>\n",
              "      <td>26541.710000</td>\n",
              "      <td>0.000000</td>\n",
              "      <td>2.000000</td>\n",
              "      <td>0.0</td>\n",
              "      <td>0.000000</td>\n",
              "      <td>0.0</td>\n",
              "      <td>1</td>\n",
              "    </tr>\n",
              "    <tr>\n",
              "      <th>4958</th>\n",
              "      <td>60445669a8b6c8001136e544</td>\n",
              "      <td>cnpj</td>\n",
              "      <td>0</td>\n",
              "      <td>0</td>\n",
              "      <td>17681.370000</td>\n",
              "      <td>17681.370000</td>\n",
              "      <td>17681.370000</td>\n",
              "      <td>17681.370000</td>\n",
              "      <td>0.000000</td>\n",
              "      <td>1.000000</td>\n",
              "      <td>0.0</td>\n",
              "      <td>0.000000</td>\n",
              "      <td>0.0</td>\n",
              "      <td>1</td>\n",
              "    </tr>\n",
              "    <tr>\n",
              "      <th>4959</th>\n",
              "      <td>60448af00269de0019bfac5a</td>\n",
              "      <td>cnpj</td>\n",
              "      <td>0</td>\n",
              "      <td>0</td>\n",
              "      <td>11803.000000</td>\n",
              "      <td>11803.000000</td>\n",
              "      <td>11803.000000</td>\n",
              "      <td>11803.000000</td>\n",
              "      <td>0.000000</td>\n",
              "      <td>2.000000</td>\n",
              "      <td>0.0</td>\n",
              "      <td>0.000000</td>\n",
              "      <td>0.0</td>\n",
              "      <td>1</td>\n",
              "    </tr>\n",
              "  </tbody>\n",
              "</table>\n",
              "<p>4960 rows × 14 columns</p>\n",
              "</div>"
            ],
            "text/plain": [
              "                    company_id tipo_doc  ...  tempo_credenciamento  amount\n",
              "0     5e0eb0115e364024155a696c      cpf  ...                  14.0       1\n",
              "1     5e0f70e84331ba63bb6a3eb0     cnpj  ...                  14.0       9\n",
              "2     5e1485a98e158b0d6cfc4df9      cpf  ...                  14.0       1\n",
              "3     5e149751d9d52a271763c0e1     cnpj  ...                  14.0       1\n",
              "4     5e14ac4c6204025f8ec345a3     cnpj  ...                  14.0       4\n",
              "...                        ...      ...  ...                   ...     ...\n",
              "4955  60442a0bb22d6100118bc21a     cnpj  ...                   0.0       1\n",
              "4956  60444661b22d6100118bc276     cnpj  ...                   0.0       1\n",
              "4957  60444c6505b7f90019aa3e20     cnpj  ...                   0.0       1\n",
              "4958  60445669a8b6c8001136e544     cnpj  ...                   0.0       1\n",
              "4959  60448af00269de0019bfac5a     cnpj  ...                   0.0       1\n",
              "\n",
              "[4960 rows x 14 columns]"
            ]
          },
          "metadata": {},
          "execution_count": 15
        }
      ]
    },
    {
      "cell_type": "markdown",
      "metadata": {
        "id": "b0hYZwgUbxgi"
      },
      "source": [
        "#ANÁLISE EXPLORATÓRIA"
      ]
    },
    {
      "cell_type": "markdown",
      "metadata": {
        "id": "zS2TaSf6b7uw"
      },
      "source": [
        "##Quantidade de Dados Nulos"
      ]
    },
    {
      "cell_type": "code",
      "metadata": {
        "colab": {
          "base_uri": "https://localhost:8080/"
        },
        "id": "VHAhE_EKZnmC",
        "outputId": "cdcf2473-eaa0-4da5-8811-2a539163ec62"
      },
      "source": [
        "df_boleto_clean.isnull().sum()"
      ],
      "execution_count": 16,
      "outputs": [
        {
          "output_type": "execute_result",
          "data": {
            "text/plain": [
              "company_id              0\n",
              "tipo_doc                0\n",
              "conta_bnk_repetida      0\n",
              "fraude                  0\n",
              "max_valor_boleto        0\n",
              "avg_valor_boleto        0\n",
              "total_valor_boleto      0\n",
              "valor_boleto_stdv       0\n",
              "qtd_boleto_pago         0\n",
              "qtd_boleto_total        0\n",
              "qtd_boleto_estorno      0\n",
              "qnt_cc_total            0\n",
              "tempo_credenciamento    0\n",
              "amount                  0\n",
              "dtype: int64"
            ]
          },
          "metadata": {},
          "execution_count": 16
        }
      ]
    },
    {
      "cell_type": "code",
      "metadata": {
        "colab": {
          "base_uri": "https://localhost:8080/"
        },
        "id": "-f1q4qs_wsL6",
        "outputId": "19ce63ad-0061-4352-b712-3062a6fb17d8"
      },
      "source": [
        "df_boleto_clean.info()"
      ],
      "execution_count": 17,
      "outputs": [
        {
          "output_type": "stream",
          "name": "stdout",
          "text": [
            "<class 'pandas.core.frame.DataFrame'>\n",
            "Int64Index: 4960 entries, 0 to 4959\n",
            "Data columns (total 14 columns):\n",
            " #   Column                Non-Null Count  Dtype  \n",
            "---  ------                --------------  -----  \n",
            " 0   company_id            4960 non-null   object \n",
            " 1   tipo_doc              4960 non-null   object \n",
            " 2   conta_bnk_repetida    4960 non-null   int64  \n",
            " 3   fraude                4960 non-null   int64  \n",
            " 4   max_valor_boleto      4960 non-null   float64\n",
            " 5   avg_valor_boleto      4960 non-null   float64\n",
            " 6   total_valor_boleto    4960 non-null   float64\n",
            " 7   valor_boleto_stdv     4960 non-null   float64\n",
            " 8   qtd_boleto_pago       4960 non-null   float64\n",
            " 9   qtd_boleto_total      4960 non-null   float64\n",
            " 10  qtd_boleto_estorno    4960 non-null   float64\n",
            " 11  qnt_cc_total          4960 non-null   float64\n",
            " 12  tempo_credenciamento  4960 non-null   float64\n",
            " 13  amount                4960 non-null   int64  \n",
            "dtypes: float64(9), int64(3), object(2)\n",
            "memory usage: 581.2+ KB\n"
          ]
        }
      ]
    },
    {
      "cell_type": "markdown",
      "metadata": {
        "id": "6fUfdXaQcBNZ"
      },
      "source": [
        "##Dados balanceados?"
      ]
    },
    {
      "cell_type": "code",
      "metadata": {
        "id": "iIfvnmKjGI-V"
      },
      "source": [
        "balanced = [df_boleto_clean['fraude'].value_counts()[0], df_boleto_clean['fraude'].value_counts()[1]]"
      ],
      "execution_count": 18,
      "outputs": []
    },
    {
      "cell_type": "code",
      "metadata": {
        "colab": {
          "base_uri": "https://localhost:8080/",
          "height": 517
        },
        "id": "o2I_cXTcF_rh",
        "outputId": "a93a5d10-cc03-4508-8410-ee10664b4415"
      },
      "source": [
        "fig = go.Figure(go.Bar (x = ['Não Fraude', 'Fraude'],\n",
        "                        y = balanced,\n",
        "                        marker = dict(color = [color[0], color[1]],\n",
        ")))\n",
        "fig.update_layout(\n",
        "    title=\"\"\"Balanceamento da Variável Target\n",
        "            \"\"\",\n",
        "    title_font_size=22,\n",
        "    font_size=13,\n",
        "    plot_bgcolor='white',\n",
        "    legend_x=0.99, legend_xanchor='right', legend_font_size=18,\n",
        "    hovermode='x',\n",
        "    bargap=0.15,\n",
        "    width=800, height=500\n",
        ")\n",
        "fig.update_yaxes(title = 'Quantidade')\n",
        "fig.show()"
      ],
      "execution_count": 19,
      "outputs": [
        {
          "output_type": "display_data",
          "data": {
            "text/html": [
              "<html>\n",
              "<head><meta charset=\"utf-8\" /></head>\n",
              "<body>\n",
              "    <div>\n",
              "            <script src=\"https://cdnjs.cloudflare.com/ajax/libs/mathjax/2.7.5/MathJax.js?config=TeX-AMS-MML_SVG\"></script><script type=\"text/javascript\">if (window.MathJax) {MathJax.Hub.Config({SVG: {font: \"STIX-Web\"}});}</script>\n",
              "                <script type=\"text/javascript\">window.PlotlyConfig = {MathJaxConfig: 'local'};</script>\n",
              "        <script src=\"https://cdn.plot.ly/plotly-latest.min.js\"></script>    \n",
              "            <div id=\"29cf9acb-261e-4e76-9e3f-93f2a2736f0f\" class=\"plotly-graph-div\" style=\"height:500px; width:800px;\"></div>\n",
              "            <script type=\"text/javascript\">\n",
              "                \n",
              "                    window.PLOTLYENV=window.PLOTLYENV || {};\n",
              "                    \n",
              "                if (document.getElementById(\"29cf9acb-261e-4e76-9e3f-93f2a2736f0f\")) {\n",
              "                    Plotly.newPlot(\n",
              "                        '29cf9acb-261e-4e76-9e3f-93f2a2736f0f',\n",
              "                        [{\"marker\": {\"color\": [\"#87B738\", \"#283610\"]}, \"type\": \"bar\", \"x\": [\"N\\u00e3o Fraude\", \"Fraude\"], \"y\": [3792, 1168]}],\n",
              "                        {\"bargap\": 0.15, \"font\": {\"size\": 13}, \"height\": 500, \"hovermode\": \"x\", \"legend\": {\"font\": {\"size\": 18}, \"x\": 0.99, \"xanchor\": \"right\"}, \"plot_bgcolor\": \"white\", \"template\": {\"data\": {\"bar\": [{\"error_x\": {\"color\": \"#2a3f5f\"}, \"error_y\": {\"color\": \"#2a3f5f\"}, \"marker\": {\"line\": {\"color\": \"#E5ECF6\", \"width\": 0.5}}, \"type\": \"bar\"}], \"barpolar\": [{\"marker\": {\"line\": {\"color\": \"#E5ECF6\", \"width\": 0.5}}, \"type\": \"barpolar\"}], \"carpet\": [{\"aaxis\": {\"endlinecolor\": \"#2a3f5f\", \"gridcolor\": \"white\", \"linecolor\": \"white\", \"minorgridcolor\": \"white\", \"startlinecolor\": \"#2a3f5f\"}, \"baxis\": {\"endlinecolor\": \"#2a3f5f\", \"gridcolor\": \"white\", \"linecolor\": \"white\", \"minorgridcolor\": \"white\", \"startlinecolor\": \"#2a3f5f\"}, \"type\": \"carpet\"}], \"choropleth\": [{\"colorbar\": {\"outlinewidth\": 0, \"ticks\": \"\"}, \"type\": \"choropleth\"}], \"contour\": [{\"colorbar\": {\"outlinewidth\": 0, \"ticks\": \"\"}, \"colorscale\": [[0.0, \"#0d0887\"], [0.1111111111111111, \"#46039f\"], [0.2222222222222222, \"#7201a8\"], [0.3333333333333333, \"#9c179e\"], [0.4444444444444444, \"#bd3786\"], [0.5555555555555556, \"#d8576b\"], [0.6666666666666666, \"#ed7953\"], [0.7777777777777778, \"#fb9f3a\"], [0.8888888888888888, \"#fdca26\"], [1.0, \"#f0f921\"]], \"type\": \"contour\"}], \"contourcarpet\": [{\"colorbar\": {\"outlinewidth\": 0, \"ticks\": \"\"}, \"type\": \"contourcarpet\"}], \"heatmap\": [{\"colorbar\": {\"outlinewidth\": 0, \"ticks\": \"\"}, \"colorscale\": [[0.0, \"#0d0887\"], [0.1111111111111111, \"#46039f\"], [0.2222222222222222, \"#7201a8\"], [0.3333333333333333, \"#9c179e\"], [0.4444444444444444, \"#bd3786\"], [0.5555555555555556, \"#d8576b\"], [0.6666666666666666, \"#ed7953\"], [0.7777777777777778, \"#fb9f3a\"], [0.8888888888888888, \"#fdca26\"], [1.0, \"#f0f921\"]], \"type\": \"heatmap\"}], \"heatmapgl\": [{\"colorbar\": {\"outlinewidth\": 0, \"ticks\": \"\"}, \"colorscale\": [[0.0, \"#0d0887\"], [0.1111111111111111, \"#46039f\"], [0.2222222222222222, \"#7201a8\"], [0.3333333333333333, \"#9c179e\"], [0.4444444444444444, \"#bd3786\"], [0.5555555555555556, \"#d8576b\"], [0.6666666666666666, \"#ed7953\"], [0.7777777777777778, \"#fb9f3a\"], [0.8888888888888888, \"#fdca26\"], [1.0, \"#f0f921\"]], \"type\": \"heatmapgl\"}], \"histogram\": [{\"marker\": {\"colorbar\": {\"outlinewidth\": 0, \"ticks\": \"\"}}, \"type\": \"histogram\"}], \"histogram2d\": [{\"colorbar\": {\"outlinewidth\": 0, \"ticks\": \"\"}, \"colorscale\": [[0.0, \"#0d0887\"], [0.1111111111111111, \"#46039f\"], [0.2222222222222222, \"#7201a8\"], [0.3333333333333333, \"#9c179e\"], [0.4444444444444444, \"#bd3786\"], [0.5555555555555556, \"#d8576b\"], [0.6666666666666666, \"#ed7953\"], [0.7777777777777778, \"#fb9f3a\"], [0.8888888888888888, \"#fdca26\"], [1.0, \"#f0f921\"]], \"type\": \"histogram2d\"}], \"histogram2dcontour\": [{\"colorbar\": {\"outlinewidth\": 0, \"ticks\": \"\"}, \"colorscale\": [[0.0, \"#0d0887\"], [0.1111111111111111, \"#46039f\"], [0.2222222222222222, \"#7201a8\"], [0.3333333333333333, \"#9c179e\"], [0.4444444444444444, \"#bd3786\"], [0.5555555555555556, \"#d8576b\"], [0.6666666666666666, \"#ed7953\"], [0.7777777777777778, \"#fb9f3a\"], [0.8888888888888888, \"#fdca26\"], [1.0, \"#f0f921\"]], \"type\": \"histogram2dcontour\"}], \"mesh3d\": [{\"colorbar\": {\"outlinewidth\": 0, \"ticks\": \"\"}, \"type\": \"mesh3d\"}], \"parcoords\": [{\"line\": {\"colorbar\": {\"outlinewidth\": 0, \"ticks\": \"\"}}, \"type\": \"parcoords\"}], \"pie\": [{\"automargin\": true, \"type\": \"pie\"}], \"scatter\": [{\"marker\": {\"colorbar\": {\"outlinewidth\": 0, \"ticks\": \"\"}}, \"type\": \"scatter\"}], \"scatter3d\": [{\"line\": {\"colorbar\": {\"outlinewidth\": 0, \"ticks\": \"\"}}, \"marker\": {\"colorbar\": {\"outlinewidth\": 0, \"ticks\": \"\"}}, \"type\": \"scatter3d\"}], \"scattercarpet\": [{\"marker\": {\"colorbar\": {\"outlinewidth\": 0, \"ticks\": \"\"}}, \"type\": \"scattercarpet\"}], \"scattergeo\": [{\"marker\": {\"colorbar\": {\"outlinewidth\": 0, \"ticks\": \"\"}}, \"type\": \"scattergeo\"}], \"scattergl\": [{\"marker\": {\"colorbar\": {\"outlinewidth\": 0, \"ticks\": \"\"}}, \"type\": \"scattergl\"}], \"scattermapbox\": [{\"marker\": {\"colorbar\": {\"outlinewidth\": 0, \"ticks\": \"\"}}, \"type\": \"scattermapbox\"}], \"scatterpolar\": [{\"marker\": {\"colorbar\": {\"outlinewidth\": 0, \"ticks\": \"\"}}, \"type\": \"scatterpolar\"}], \"scatterpolargl\": [{\"marker\": {\"colorbar\": {\"outlinewidth\": 0, \"ticks\": \"\"}}, \"type\": \"scatterpolargl\"}], \"scatterternary\": [{\"marker\": {\"colorbar\": {\"outlinewidth\": 0, \"ticks\": \"\"}}, \"type\": \"scatterternary\"}], \"surface\": [{\"colorbar\": {\"outlinewidth\": 0, \"ticks\": \"\"}, \"colorscale\": [[0.0, \"#0d0887\"], [0.1111111111111111, \"#46039f\"], [0.2222222222222222, \"#7201a8\"], [0.3333333333333333, \"#9c179e\"], [0.4444444444444444, \"#bd3786\"], [0.5555555555555556, \"#d8576b\"], [0.6666666666666666, \"#ed7953\"], [0.7777777777777778, \"#fb9f3a\"], [0.8888888888888888, \"#fdca26\"], [1.0, \"#f0f921\"]], \"type\": \"surface\"}], \"table\": [{\"cells\": {\"fill\": {\"color\": \"#EBF0F8\"}, \"line\": {\"color\": \"white\"}}, \"header\": {\"fill\": {\"color\": \"#C8D4E3\"}, \"line\": {\"color\": \"white\"}}, \"type\": \"table\"}]}, \"layout\": {\"annotationdefaults\": {\"arrowcolor\": \"#2a3f5f\", \"arrowhead\": 0, \"arrowwidth\": 1}, \"coloraxis\": {\"colorbar\": {\"outlinewidth\": 0, \"ticks\": \"\"}}, \"colorscale\": {\"diverging\": [[0, \"#8e0152\"], [0.1, \"#c51b7d\"], [0.2, \"#de77ae\"], [0.3, \"#f1b6da\"], [0.4, \"#fde0ef\"], [0.5, \"#f7f7f7\"], [0.6, \"#e6f5d0\"], [0.7, \"#b8e186\"], [0.8, \"#7fbc41\"], [0.9, \"#4d9221\"], [1, \"#276419\"]], \"sequential\": [[0.0, \"#0d0887\"], [0.1111111111111111, \"#46039f\"], [0.2222222222222222, \"#7201a8\"], [0.3333333333333333, \"#9c179e\"], [0.4444444444444444, \"#bd3786\"], [0.5555555555555556, \"#d8576b\"], [0.6666666666666666, \"#ed7953\"], [0.7777777777777778, \"#fb9f3a\"], [0.8888888888888888, \"#fdca26\"], [1.0, \"#f0f921\"]], \"sequentialminus\": [[0.0, \"#0d0887\"], [0.1111111111111111, \"#46039f\"], [0.2222222222222222, \"#7201a8\"], [0.3333333333333333, \"#9c179e\"], [0.4444444444444444, \"#bd3786\"], [0.5555555555555556, \"#d8576b\"], [0.6666666666666666, \"#ed7953\"], [0.7777777777777778, \"#fb9f3a\"], [0.8888888888888888, \"#fdca26\"], [1.0, \"#f0f921\"]]}, \"colorway\": [\"#636efa\", \"#EF553B\", \"#00cc96\", \"#ab63fa\", \"#FFA15A\", \"#19d3f3\", \"#FF6692\", \"#B6E880\", \"#FF97FF\", \"#FECB52\"], \"font\": {\"color\": \"#2a3f5f\"}, \"geo\": {\"bgcolor\": \"white\", \"lakecolor\": \"white\", \"landcolor\": \"#E5ECF6\", \"showlakes\": true, \"showland\": true, \"subunitcolor\": \"white\"}, \"hoverlabel\": {\"align\": \"left\"}, \"hovermode\": \"closest\", \"mapbox\": {\"style\": \"light\"}, \"paper_bgcolor\": \"white\", \"plot_bgcolor\": \"#E5ECF6\", \"polar\": {\"angularaxis\": {\"gridcolor\": \"white\", \"linecolor\": \"white\", \"ticks\": \"\"}, \"bgcolor\": \"#E5ECF6\", \"radialaxis\": {\"gridcolor\": \"white\", \"linecolor\": \"white\", \"ticks\": \"\"}}, \"scene\": {\"xaxis\": {\"backgroundcolor\": \"#E5ECF6\", \"gridcolor\": \"white\", \"gridwidth\": 2, \"linecolor\": \"white\", \"showbackground\": true, \"ticks\": \"\", \"zerolinecolor\": \"white\"}, \"yaxis\": {\"backgroundcolor\": \"#E5ECF6\", \"gridcolor\": \"white\", \"gridwidth\": 2, \"linecolor\": \"white\", \"showbackground\": true, \"ticks\": \"\", \"zerolinecolor\": \"white\"}, \"zaxis\": {\"backgroundcolor\": \"#E5ECF6\", \"gridcolor\": \"white\", \"gridwidth\": 2, \"linecolor\": \"white\", \"showbackground\": true, \"ticks\": \"\", \"zerolinecolor\": \"white\"}}, \"shapedefaults\": {\"line\": {\"color\": \"#2a3f5f\"}}, \"ternary\": {\"aaxis\": {\"gridcolor\": \"white\", \"linecolor\": \"white\", \"ticks\": \"\"}, \"baxis\": {\"gridcolor\": \"white\", \"linecolor\": \"white\", \"ticks\": \"\"}, \"bgcolor\": \"#E5ECF6\", \"caxis\": {\"gridcolor\": \"white\", \"linecolor\": \"white\", \"ticks\": \"\"}}, \"title\": {\"x\": 0.05}, \"xaxis\": {\"automargin\": true, \"gridcolor\": \"white\", \"linecolor\": \"white\", \"ticks\": \"\", \"title\": {\"standoff\": 15}, \"zerolinecolor\": \"white\", \"zerolinewidth\": 2}, \"yaxis\": {\"automargin\": true, \"gridcolor\": \"white\", \"linecolor\": \"white\", \"ticks\": \"\", \"title\": {\"standoff\": 15}, \"zerolinecolor\": \"white\", \"zerolinewidth\": 2}}}, \"title\": {\"font\": {\"size\": 22}, \"text\": \"Balanceamento da Vari\\u00e1vel Target\\n            \"}, \"width\": 800, \"yaxis\": {\"title\": {\"text\": \"Quantidade\"}}},\n",
              "                        {\"responsive\": true}\n",
              "                    ).then(function(){\n",
              "                            \n",
              "var gd = document.getElementById('29cf9acb-261e-4e76-9e3f-93f2a2736f0f');\n",
              "var x = new MutationObserver(function (mutations, observer) {{\n",
              "        var display = window.getComputedStyle(gd).display;\n",
              "        if (!display || display === 'none') {{\n",
              "            console.log([gd, 'removed!']);\n",
              "            Plotly.purge(gd);\n",
              "            observer.disconnect();\n",
              "        }}\n",
              "}});\n",
              "\n",
              "// Listen for the removal of the full notebook cells\n",
              "var notebookContainer = gd.closest('#notebook-container');\n",
              "if (notebookContainer) {{\n",
              "    x.observe(notebookContainer, {childList: true});\n",
              "}}\n",
              "\n",
              "// Listen for the clearing of the current output cell\n",
              "var outputEl = gd.closest('.output');\n",
              "if (outputEl) {{\n",
              "    x.observe(outputEl, {childList: true});\n",
              "}}\n",
              "\n",
              "                        })\n",
              "                };\n",
              "                \n",
              "            </script>\n",
              "        </div>\n",
              "</body>\n",
              "</html>"
            ]
          },
          "metadata": {}
        }
      ]
    },
    {
      "cell_type": "markdown",
      "metadata": {
        "id": "B0Y9zrGxcSGP"
      },
      "source": [
        "##Variáveis numericas"
      ]
    },
    {
      "cell_type": "code",
      "metadata": {
        "id": "-JodN0fkhFPY"
      },
      "source": [
        "numerical_features = df_boleto.drop(['fraude','conta_bnk_repetida'], axis=1).select_dtypes(include = np.number).columns"
      ],
      "execution_count": 20,
      "outputs": []
    },
    {
      "cell_type": "code",
      "metadata": {
        "colab": {
          "base_uri": "https://localhost:8080/"
        },
        "id": "fydShvglhs-X",
        "outputId": "3bbe932c-a312-481e-c819-30a98933993c"
      },
      "source": [
        "numerical_features "
      ],
      "execution_count": 21,
      "outputs": [
        {
          "output_type": "execute_result",
          "data": {
            "text/plain": [
              "Index(['max_valor_boleto', 'avg_valor_boleto', 'total_valor_boleto',\n",
              "       'valor_boleto_stdv', 'qtd_boleto_pago', 'qtd_boleto_total',\n",
              "       'qtd_boleto_estorno', 'qnt_cc_total', 'tempo_credenciamento'],\n",
              "      dtype='object')"
            ]
          },
          "metadata": {},
          "execution_count": 21
        }
      ]
    },
    {
      "cell_type": "code",
      "metadata": {
        "colab": {
          "base_uri": "https://localhost:8080/",
          "height": 455
        },
        "id": "Ob9c6xO8iJKc",
        "outputId": "1c8a5dea-2d8b-468f-caa6-354728218d46"
      },
      "source": [
        "df_boleto[numerical_features].hist()"
      ],
      "execution_count": 22,
      "outputs": [
        {
          "output_type": "execute_result",
          "data": {
            "text/plain": [
              "array([[<matplotlib.axes._subplots.AxesSubplot object at 0x7fb11f1fa690>,\n",
              "        <matplotlib.axes._subplots.AxesSubplot object at 0x7fb11f1c8d50>,\n",
              "        <matplotlib.axes._subplots.AxesSubplot object at 0x7fb11f18f350>],\n",
              "       [<matplotlib.axes._subplots.AxesSubplot object at 0x7fb11f143950>,\n",
              "        <matplotlib.axes._subplots.AxesSubplot object at 0x7fb11f0faf50>,\n",
              "        <matplotlib.axes._subplots.AxesSubplot object at 0x7fb11f0bf590>],\n",
              "       [<matplotlib.axes._subplots.AxesSubplot object at 0x7fb11f074c10>,\n",
              "        <matplotlib.axes._subplots.AxesSubplot object at 0x7fb11f036190>,\n",
              "        <matplotlib.axes._subplots.AxesSubplot object at 0x7fb11f0361d0>]],\n",
              "      dtype=object)"
            ]
          },
          "metadata": {},
          "execution_count": 22
        },
        {
          "output_type": "display_data",
          "data": {
            "image/png": "[encoded data removed]",
            "text/plain": [
              "<Figure size 432x288 with 9 Axes>"
            ]
          },
          "metadata": {
            "needs_background": "light"
          }
        }
      ]
    },
    {
      "cell_type": "code",
      "metadata": {
        "id": "td0F6qQ2WrKI"
      },
      "source": [
        "df_fraud = df_boleto.query('fraude == 1')\n",
        "df_no_fraud = df_boleto.query('fraude == 0')"
      ],
      "execution_count": 23,
      "outputs": []
    },
    {
      "cell_type": "markdown",
      "metadata": {
        "id": "arkJXVGgdG4l"
      },
      "source": [
        "##Revomendo Outliers"
      ]
    },
    {
      "cell_type": "code",
      "metadata": {
        "colab": {
          "base_uri": "https://localhost:8080/",
          "height": 962
        },
        "id": "Nbsyxpky0o-J",
        "outputId": "fe4f49a2-c85d-427d-9472-ee9d13388e6b"
      },
      "source": [
        "fig , ax = plt.subplots(figsize=(8, 12), sharex=True)\n",
        "sns.boxplot(df_boleto.fraude, df_boleto.avg_valor_boleto, showmeans=True, ax=ax, orient='v')\n",
        "plt.xticks([0, 1],['Normal', 'Fraude'])\n",
        "plt.tight_layout();"
      ],
      "execution_count": 24,
      "outputs": [
        {
          "output_type": "stream",
          "name": "stderr",
          "text": [
            "/usr/local/lib/python3.7/dist-packages/seaborn/_decorators.py:43: FutureWarning:\n",
            "\n",
            "Pass the following variables as keyword args: x, y. From version 0.12, the only valid positional argument will be `data`, and passing other arguments without an explicit keyword will result in an error or misinterpretation.\n",
            "\n"
          ]
        },
        {
          "output_type": "display_data",
          "data": {
            "image/png": "[encoded data removed]",
            "text/plain": [
              "<Figure size 576x864 with 1 Axes>"
            ]
          },
          "metadata": {
            "needs_background": "light"
          }
        }
      ]
    },
    {
      "cell_type": "markdown",
      "metadata": {
        "id": "DCZRA51z2dMS"
      },
      "source": [
        "5357, 8785"
      ]
    },
    {
      "cell_type": "code",
      "metadata": {
        "colab": {
          "base_uri": "https://localhost:8080/",
          "height": 132
        },
        "id": "zuHzwRKd2TjI",
        "outputId": "27dc225e-2329-4c1b-9d50-071cf2949c6e"
      },
      "source": [
        "df_boleto.query('avg_valor_boleto > 10000000.0')"
      ],
      "execution_count": 25,
      "outputs": [
        {
          "output_type": "execute_result",
          "data": {
            "text/html": [
              "<div>\n",
              "<style scoped>\n",
              "    .dataframe tbody tr th:only-of-type {\n",
              "        vertical-align: middle;\n",
              "    }\n",
              "\n",
              "    .dataframe tbody tr th {\n",
              "        vertical-align: top;\n",
              "    }\n",
              "\n",
              "    .dataframe thead th {\n",
              "        text-align: right;\n",
              "    }\n",
              "</style>\n",
              "<table border=\"1\" class=\"dataframe\">\n",
              "  <thead>\n",
              "    <tr style=\"text-align: right;\">\n",
              "      <th></th>\n",
              "      <th>mes_ref</th>\n",
              "      <th>company_id</th>\n",
              "      <th>tipo_doc</th>\n",
              "      <th>max_valor_boleto</th>\n",
              "      <th>avg_valor_boleto</th>\n",
              "      <th>total_valor_boleto</th>\n",
              "      <th>valor_boleto_stdv</th>\n",
              "      <th>qtd_boleto_pago</th>\n",
              "      <th>qtd_boleto_total</th>\n",
              "      <th>qtd_boleto_estorno</th>\n",
              "      <th>qnt_cc_total</th>\n",
              "      <th>tempo_credenciamento</th>\n",
              "      <th>conta_bnk_repetida</th>\n",
              "      <th>fraude</th>\n",
              "    </tr>\n",
              "  </thead>\n",
              "  <tbody>\n",
              "    <tr>\n",
              "      <th>5357</th>\n",
              "      <td>01/01/2021</td>\n",
              "      <td>5f2806ac630047377469fc39</td>\n",
              "      <td>cpf</td>\n",
              "      <td>20000000.00</td>\n",
              "      <td>20000000.00</td>\n",
              "      <td>20000000.00</td>\n",
              "      <td>20000000.00</td>\n",
              "      <td>0</td>\n",
              "      <td>3</td>\n",
              "      <td>0</td>\n",
              "      <td>0</td>\n",
              "      <td>5</td>\n",
              "      <td>0</td>\n",
              "      <td>1</td>\n",
              "    </tr>\n",
              "    <tr>\n",
              "      <th>8785</th>\n",
              "      <td>01/06/2020</td>\n",
              "      <td>5ed79c02aac2f87ee2f8f0d4</td>\n",
              "      <td>cpf</td>\n",
              "      <td>21474836.47</td>\n",
              "      <td>21474836.47</td>\n",
              "      <td>21474836.47</td>\n",
              "      <td>21474836.47</td>\n",
              "      <td>0</td>\n",
              "      <td>2</td>\n",
              "      <td>0</td>\n",
              "      <td>0</td>\n",
              "      <td>8</td>\n",
              "      <td>0</td>\n",
              "      <td>0</td>\n",
              "    </tr>\n",
              "  </tbody>\n",
              "</table>\n",
              "</div>"
            ],
            "text/plain": [
              "         mes_ref                company_id  ... conta_bnk_repetida  fraude\n",
              "5357  01/01/2021  5f2806ac630047377469fc39  ...                  0       1\n",
              "8785  01/06/2020  5ed79c02aac2f87ee2f8f0d4  ...                  0       0\n",
              "\n",
              "[2 rows x 14 columns]"
            ]
          },
          "metadata": {},
          "execution_count": 25
        }
      ]
    },
    {
      "cell_type": "code",
      "metadata": {
        "id": "vAJei9mv2voN"
      },
      "source": [
        "df_boleto = df_boleto.drop([5357, 8785])"
      ],
      "execution_count": 26,
      "outputs": []
    },
    {
      "cell_type": "code",
      "metadata": {
        "colab": {
          "base_uri": "https://localhost:8080/",
          "height": 962
        },
        "id": "Kw0LyEtW2_Yb",
        "outputId": "4b4b57f3-414f-46b4-cdb9-b3f35338ccde"
      },
      "source": [
        "fig , ax = plt.subplots(figsize=(8, 12), sharex=True)\n",
        "sns.boxplot(df_boleto.fraude, df_boleto.avg_valor_boleto, showmeans=True, ax=ax, orient='v', color= color[0])\n",
        "plt.xticks([0, 1],['Normal', 'Fraude'])\n",
        "plt.tight_layout();"
      ],
      "execution_count": 27,
      "outputs": [
        {
          "output_type": "stream",
          "name": "stderr",
          "text": [
            "/usr/local/lib/python3.7/dist-packages/seaborn/_decorators.py:43: FutureWarning:\n",
            "\n",
            "Pass the following variables as keyword args: x, y. From version 0.12, the only valid positional argument will be `data`, and passing other arguments without an explicit keyword will result in an error or misinterpretation.\n",
            "\n"
          ]
        },
        {
          "output_type": "display_data",
          "data": {
            "image/png": "[encoded data removed]",
            "text/plain": [
              "<Figure size 576x864 with 1 Axes>"
            ]
          },
          "metadata": {
            "needs_background": "light"
          }
        }
      ]
    },
    {
      "cell_type": "code",
      "metadata": {
        "colab": {
          "base_uri": "https://localhost:8080/",
          "height": 1000
        },
        "id": "TdIEg0oS4i5m",
        "outputId": "6c11b799-bb9f-4629-efc3-dfec1466049d"
      },
      "source": [
        "box_and_whisker(df_boleto, 'avg_valor_boleto')\n",
        "box_and_whisker(df_boleto, 'valor_boleto_stdv')\n",
        "box_and_whisker(df_boleto, 'max_valor_boleto')\n",
        "box_and_whisker(df_boleto, 'total_valor_boleto')"
      ],
      "execution_count": 28,
      "outputs": [
        {
          "output_type": "stream",
          "name": "stderr",
          "text": [
            "/usr/local/lib/python3.7/dist-packages/seaborn/_decorators.py:43: FutureWarning:\n",
            "\n",
            "Pass the following variable as a keyword arg: x. From version 0.12, the only valid positional argument will be `data`, and passing other arguments without an explicit keyword will result in an error or misinterpretation.\n",
            "\n"
          ]
        },
        {
          "output_type": "display_data",
          "data": {
            "image/png": "[encoded data removed]",
            "text/plain": [
              "<Figure size 432x288 with 1 Axes>"
            ]
          },
          "metadata": {
            "needs_background": "light"
          }
        },
        {
          "output_type": "stream",
          "name": "stderr",
          "text": [
            "/usr/local/lib/python3.7/dist-packages/seaborn/_decorators.py:43: FutureWarning:\n",
            "\n",
            "Pass the following variable as a keyword arg: x. From version 0.12, the only valid positional argument will be `data`, and passing other arguments without an explicit keyword will result in an error or misinterpretation.\n",
            "\n"
          ]
        },
        {
          "output_type": "display_data",
          "data": {
            "image/png": "[encoded data removed]",
            "text/plain": [
              "<Figure size 432x288 with 1 Axes>"
            ]
          },
          "metadata": {
            "needs_background": "light"
          }
        },
        {
          "output_type": "stream",
          "name": "stderr",
          "text": [
            "/usr/local/lib/python3.7/dist-packages/seaborn/_decorators.py:43: FutureWarning:\n",
            "\n",
            "Pass the following variable as a keyword arg: x. From version 0.12, the only valid positional argument will be `data`, and passing other arguments without an explicit keyword will result in an error or misinterpretation.\n",
            "\n"
          ]
        },
        {
          "output_type": "display_data",
          "data": {
            "image/png": "[encoded data removed]",
            "text/plain": [
              "<Figure size 432x288 with 1 Axes>"
            ]
          },
          "metadata": {
            "needs_background": "light"
          }
        },
        {
          "output_type": "stream",
          "name": "stderr",
          "text": [
            "/usr/local/lib/python3.7/dist-packages/seaborn/_decorators.py:43: FutureWarning:\n",
            "\n",
            "Pass the following variable as a keyword arg: x. From version 0.12, the only valid positional argument will be `data`, and passing other arguments without an explicit keyword will result in an error or misinterpretation.\n",
            "\n"
          ]
        },
        {
          "output_type": "display_data",
          "data": {
            "image/png": "[encoded data removed]",
            "text/plain": [
              "<Figure size 432x288 with 1 Axes>"
            ]
          },
          "metadata": {
            "needs_background": "light"
          }
        }
      ]
    },
    {
      "cell_type": "code",
      "metadata": {
        "colab": {
          "base_uri": "https://localhost:8080/"
        },
        "id": "pw6kUDTk23w5",
        "outputId": "4c852575-3e96-4e47-8bbe-80ebbac74c63"
      },
      "source": [
        "print(f\" A coluna valor_boleto_stdv tem {count_outliers(df_boleto, 'valor_boleto_stdv')} outliers\")\n",
        "print(f\" A coluna total_valor_boleto tem {count_outliers(df_boleto, 'total_valor_boleto')} outliers\")\n",
        "print(f\" A coluna avg_valor_boleto tem {count_outliers(df_boleto, 'avg_valor_boleto')} outliers\")\n",
        "print(f\" A coluna max_valor_boleto tem {count_outliers(df_boleto, 'max_valor_boleto')} outliers\")"
      ],
      "execution_count": 29,
      "outputs": [
        {
          "output_type": "stream",
          "name": "stdout",
          "text": [
            " A coluna valor_boleto_stdv tem 1419 outliers\n",
            " A coluna total_valor_boleto tem 1419 outliers\n",
            " A coluna avg_valor_boleto tem 1419 outliers\n",
            " A coluna max_valor_boleto tem 1419 outliers\n"
          ]
        }
      ]
    },
    {
      "cell_type": "code",
      "metadata": {
        "colab": {
          "base_uri": "https://localhost:8080/",
          "height": 1000
        },
        "id": "KVppRF5N6UKz",
        "outputId": "f3b0e2f2-103e-4178-c8dd-2134817c2163"
      },
      "source": [
        "# %% Remove the outliers\n",
        "print(f\"rows before removing: {df_boleto.shape[0]}\")\n",
        "df_boleto = remove_outliers(df_boleto, 'valor_boleto_stdv')\n",
        "df_boleto = remove_outliers(df_boleto, 'total_valor_boleto')\n",
        "df_boleto = remove_outliers(df_boleto, 'avg_valor_boleto')\n",
        "df_boleto = remove_outliers(df_boleto, 'max_valor_boleto')\n",
        "print(f\"rows after removing: {df_boleto.shape[0]}\")\n",
        "\n",
        "# Let's have a look at the end-result. Here is something very strange though, our data still appears to have outliers!\n",
        "box_and_whisker(df_boleto, 'valor_boleto_stdv')\n",
        "box_and_whisker(df_boleto, 'total_valor_boleto')\n",
        "box_and_whisker(df_boleto, 'avg_valor_boleto')\n",
        "box_and_whisker(df_boleto, 'max_valor_boleto')"
      ],
      "execution_count": 30,
      "outputs": [
        {
          "output_type": "stream",
          "name": "stderr",
          "text": [
            "/usr/local/lib/python3.7/dist-packages/seaborn/_decorators.py:43: FutureWarning:\n",
            "\n",
            "Pass the following variable as a keyword arg: x. From version 0.12, the only valid positional argument will be `data`, and passing other arguments without an explicit keyword will result in an error or misinterpretation.\n",
            "\n"
          ]
        },
        {
          "output_type": "stream",
          "name": "stdout",
          "text": [
            "rows before removing: 9275\n",
            "rows after removing: 5748\n"
          ]
        },
        {
          "output_type": "display_data",
          "data": {
            "image/png": "[encoded data removed]",
            "text/plain": [
              "<Figure size 432x288 with 1 Axes>"
            ]
          },
          "metadata": {
            "needs_background": "light"
          }
        },
        {
          "output_type": "stream",
          "name": "stderr",
          "text": [
            "/usr/local/lib/python3.7/dist-packages/seaborn/_decorators.py:43: FutureWarning:\n",
            "\n",
            "Pass the following variable as a keyword arg: x. From version 0.12, the only valid positional argument will be `data`, and passing other arguments without an explicit keyword will result in an error or misinterpretation.\n",
            "\n"
          ]
        },
        {
          "output_type": "display_data",
          "data": {
            "image/png": "[encoded data removed]",
            "text/plain": [
              "<Figure size 432x288 with 1 Axes>"
            ]
          },
          "metadata": {
            "needs_background": "light"
          }
        },
        {
          "output_type": "stream",
          "name": "stderr",
          "text": [
            "/usr/local/lib/python3.7/dist-packages/seaborn/_decorators.py:43: FutureWarning:\n",
            "\n",
            "Pass the following variable as a keyword arg: x. From version 0.12, the only valid positional argument will be `data`, and passing other arguments without an explicit keyword will result in an error or misinterpretation.\n",
            "\n"
          ]
        },
        {
          "output_type": "display_data",
          "data": {
            "image/png": "[encoded data removed]",
            "text/plain": [
              "<Figure size 432x288 with 1 Axes>"
            ]
          },
          "metadata": {
            "needs_background": "light"
          }
        },
        {
          "output_type": "stream",
          "name": "stderr",
          "text": [
            "/usr/local/lib/python3.7/dist-packages/seaborn/_decorators.py:43: FutureWarning:\n",
            "\n",
            "Pass the following variable as a keyword arg: x. From version 0.12, the only valid positional argument will be `data`, and passing other arguments without an explicit keyword will result in an error or misinterpretation.\n",
            "\n"
          ]
        },
        {
          "output_type": "display_data",
          "data": {
            "image/png": "[encoded data removed]",
            "text/plain": [
              "<Figure size 432x288 with 1 Axes>"
            ]
          },
          "metadata": {
            "needs_background": "light"
          }
        }
      ]
    },
    {
      "cell_type": "markdown",
      "metadata": {
        "id": "JoGJol9GdbYC"
      },
      "source": [
        "##Separando os conjuntos de dados"
      ]
    },
    {
      "cell_type": "code",
      "metadata": {
        "id": "AQj4SRgB7tKU"
      },
      "source": [
        "df_fraud = df_boleto.query('fraude == 1')\n",
        "df_no_fraud = df_boleto.query('fraude == 0')"
      ],
      "execution_count": 31,
      "outputs": []
    },
    {
      "cell_type": "markdown",
      "metadata": {
        "id": "R-DsU6JZdkvf"
      },
      "source": [
        "##Análise das variáveis"
      ]
    },
    {
      "cell_type": "code",
      "metadata": {
        "colab": {
          "base_uri": "https://localhost:8080/",
          "height": 320
        },
        "id": "_Fg5RlCO0PIp",
        "outputId": "7ce34031-49ee-4d85-d8ac-eb679cfecf9b"
      },
      "source": [
        "df_fraud.describe()"
      ],
      "execution_count": 32,
      "outputs": [
        {
          "output_type": "execute_result",
          "data": {
            "text/html": [
              "<div>\n",
              "<style scoped>\n",
              "    .dataframe tbody tr th:only-of-type {\n",
              "        vertical-align: middle;\n",
              "    }\n",
              "\n",
              "    .dataframe tbody tr th {\n",
              "        vertical-align: top;\n",
              "    }\n",
              "\n",
              "    .dataframe thead th {\n",
              "        text-align: right;\n",
              "    }\n",
              "</style>\n",
              "<table border=\"1\" class=\"dataframe\">\n",
              "  <thead>\n",
              "    <tr style=\"text-align: right;\">\n",
              "      <th></th>\n",
              "      <th>max_valor_boleto</th>\n",
              "      <th>avg_valor_boleto</th>\n",
              "      <th>total_valor_boleto</th>\n",
              "      <th>valor_boleto_stdv</th>\n",
              "      <th>qtd_boleto_pago</th>\n",
              "      <th>qtd_boleto_total</th>\n",
              "      <th>qtd_boleto_estorno</th>\n",
              "      <th>qnt_cc_total</th>\n",
              "      <th>tempo_credenciamento</th>\n",
              "      <th>conta_bnk_repetida</th>\n",
              "      <th>fraude</th>\n",
              "    </tr>\n",
              "  </thead>\n",
              "  <tbody>\n",
              "    <tr>\n",
              "      <th>count</th>\n",
              "      <td>142.000000</td>\n",
              "      <td>142.000000</td>\n",
              "      <td>142.000000</td>\n",
              "      <td>142.000000</td>\n",
              "      <td>142.000000</td>\n",
              "      <td>142.000000</td>\n",
              "      <td>142.000000</td>\n",
              "      <td>142.0</td>\n",
              "      <td>142.000000</td>\n",
              "      <td>142.000000</td>\n",
              "      <td>142.0</td>\n",
              "    </tr>\n",
              "    <tr>\n",
              "      <th>mean</th>\n",
              "      <td>565.685211</td>\n",
              "      <td>565.685211</td>\n",
              "      <td>565.685211</td>\n",
              "      <td>565.685211</td>\n",
              "      <td>0.450704</td>\n",
              "      <td>5.612676</td>\n",
              "      <td>1.767606</td>\n",
              "      <td>0.0</td>\n",
              "      <td>2.640845</td>\n",
              "      <td>0.676056</td>\n",
              "      <td>1.0</td>\n",
              "    </tr>\n",
              "    <tr>\n",
              "      <th>std</th>\n",
              "      <td>282.496700</td>\n",
              "      <td>282.496700</td>\n",
              "      <td>282.496700</td>\n",
              "      <td>282.496700</td>\n",
              "      <td>2.454053</td>\n",
              "      <td>9.060747</td>\n",
              "      <td>2.191749</td>\n",
              "      <td>0.0</td>\n",
              "      <td>2.015337</td>\n",
              "      <td>0.469635</td>\n",
              "      <td>0.0</td>\n",
              "    </tr>\n",
              "    <tr>\n",
              "      <th>min</th>\n",
              "      <td>3.000000</td>\n",
              "      <td>3.000000</td>\n",
              "      <td>3.000000</td>\n",
              "      <td>3.000000</td>\n",
              "      <td>0.000000</td>\n",
              "      <td>1.000000</td>\n",
              "      <td>0.000000</td>\n",
              "      <td>0.0</td>\n",
              "      <td>0.000000</td>\n",
              "      <td>0.000000</td>\n",
              "      <td>1.0</td>\n",
              "    </tr>\n",
              "    <tr>\n",
              "      <th>25%</th>\n",
              "      <td>479.407500</td>\n",
              "      <td>479.407500</td>\n",
              "      <td>479.407500</td>\n",
              "      <td>479.407500</td>\n",
              "      <td>0.000000</td>\n",
              "      <td>2.000000</td>\n",
              "      <td>0.000000</td>\n",
              "      <td>0.0</td>\n",
              "      <td>1.000000</td>\n",
              "      <td>0.000000</td>\n",
              "      <td>1.0</td>\n",
              "    </tr>\n",
              "    <tr>\n",
              "      <th>50%</th>\n",
              "      <td>599.795000</td>\n",
              "      <td>599.795000</td>\n",
              "      <td>599.795000</td>\n",
              "      <td>599.795000</td>\n",
              "      <td>0.000000</td>\n",
              "      <td>4.000000</td>\n",
              "      <td>1.000000</td>\n",
              "      <td>0.0</td>\n",
              "      <td>4.000000</td>\n",
              "      <td>1.000000</td>\n",
              "      <td>1.0</td>\n",
              "    </tr>\n",
              "    <tr>\n",
              "      <th>75%</th>\n",
              "      <td>700.000000</td>\n",
              "      <td>700.000000</td>\n",
              "      <td>700.000000</td>\n",
              "      <td>700.000000</td>\n",
              "      <td>0.000000</td>\n",
              "      <td>6.000000</td>\n",
              "      <td>4.000000</td>\n",
              "      <td>0.0</td>\n",
              "      <td>4.000000</td>\n",
              "      <td>1.000000</td>\n",
              "      <td>1.0</td>\n",
              "    </tr>\n",
              "    <tr>\n",
              "      <th>max</th>\n",
              "      <td>1057.000000</td>\n",
              "      <td>1057.000000</td>\n",
              "      <td>1057.000000</td>\n",
              "      <td>1057.000000</td>\n",
              "      <td>24.000000</td>\n",
              "      <td>89.000000</td>\n",
              "      <td>9.000000</td>\n",
              "      <td>0.0</td>\n",
              "      <td>8.000000</td>\n",
              "      <td>1.000000</td>\n",
              "      <td>1.0</td>\n",
              "    </tr>\n",
              "  </tbody>\n",
              "</table>\n",
              "</div>"
            ],
            "text/plain": [
              "       max_valor_boleto  avg_valor_boleto  ...  conta_bnk_repetida  fraude\n",
              "count        142.000000        142.000000  ...          142.000000   142.0\n",
              "mean         565.685211        565.685211  ...            0.676056     1.0\n",
              "std          282.496700        282.496700  ...            0.469635     0.0\n",
              "min            3.000000          3.000000  ...            0.000000     1.0\n",
              "25%          479.407500        479.407500  ...            0.000000     1.0\n",
              "50%          599.795000        599.795000  ...            1.000000     1.0\n",
              "75%          700.000000        700.000000  ...            1.000000     1.0\n",
              "max         1057.000000       1057.000000  ...            1.000000     1.0\n",
              "\n",
              "[8 rows x 11 columns]"
            ]
          },
          "metadata": {},
          "execution_count": 32
        }
      ]
    },
    {
      "cell_type": "code",
      "metadata": {
        "colab": {
          "base_uri": "https://localhost:8080/",
          "height": 320
        },
        "id": "D6V2TcDCcAQk",
        "outputId": "5853afc4-2628-4420-b6a2-3008f9e45ff6"
      },
      "source": [
        "df_no_fraud.describe()"
      ],
      "execution_count": 33,
      "outputs": [
        {
          "output_type": "execute_result",
          "data": {
            "text/html": [
              "<div>\n",
              "<style scoped>\n",
              "    .dataframe tbody tr th:only-of-type {\n",
              "        vertical-align: middle;\n",
              "    }\n",
              "\n",
              "    .dataframe tbody tr th {\n",
              "        vertical-align: top;\n",
              "    }\n",
              "\n",
              "    .dataframe thead th {\n",
              "        text-align: right;\n",
              "    }\n",
              "</style>\n",
              "<table border=\"1\" class=\"dataframe\">\n",
              "  <thead>\n",
              "    <tr style=\"text-align: right;\">\n",
              "      <th></th>\n",
              "      <th>max_valor_boleto</th>\n",
              "      <th>avg_valor_boleto</th>\n",
              "      <th>total_valor_boleto</th>\n",
              "      <th>valor_boleto_stdv</th>\n",
              "      <th>qtd_boleto_pago</th>\n",
              "      <th>qtd_boleto_total</th>\n",
              "      <th>qtd_boleto_estorno</th>\n",
              "      <th>qnt_cc_total</th>\n",
              "      <th>tempo_credenciamento</th>\n",
              "      <th>conta_bnk_repetida</th>\n",
              "      <th>fraude</th>\n",
              "    </tr>\n",
              "  </thead>\n",
              "  <tbody>\n",
              "    <tr>\n",
              "      <th>count</th>\n",
              "      <td>5606.000000</td>\n",
              "      <td>5606.000000</td>\n",
              "      <td>5606.000000</td>\n",
              "      <td>5606.000000</td>\n",
              "      <td>5606.000000</td>\n",
              "      <td>5606.000000</td>\n",
              "      <td>5606.000000</td>\n",
              "      <td>5606.000000</td>\n",
              "      <td>5606.000000</td>\n",
              "      <td>5606.000000</td>\n",
              "      <td>5606.0</td>\n",
              "    </tr>\n",
              "    <tr>\n",
              "      <th>mean</th>\n",
              "      <td>284.693007</td>\n",
              "      <td>284.693007</td>\n",
              "      <td>284.693007</td>\n",
              "      <td>284.693007</td>\n",
              "      <td>4.633607</td>\n",
              "      <td>7.370318</td>\n",
              "      <td>0.008741</td>\n",
              "      <td>8.498751</td>\n",
              "      <td>8.864788</td>\n",
              "      <td>0.008027</td>\n",
              "      <td>0.0</td>\n",
              "    </tr>\n",
              "    <tr>\n",
              "      <th>std</th>\n",
              "      <td>246.313423</td>\n",
              "      <td>246.313423</td>\n",
              "      <td>246.313423</td>\n",
              "      <td>246.313423</td>\n",
              "      <td>12.956191</td>\n",
              "      <td>21.110141</td>\n",
              "      <td>0.133952</td>\n",
              "      <td>21.392402</td>\n",
              "      <td>3.047044</td>\n",
              "      <td>0.089242</td>\n",
              "      <td>0.0</td>\n",
              "    </tr>\n",
              "    <tr>\n",
              "      <th>min</th>\n",
              "      <td>1.000000</td>\n",
              "      <td>1.000000</td>\n",
              "      <td>1.000000</td>\n",
              "      <td>1.000000</td>\n",
              "      <td>0.000000</td>\n",
              "      <td>1.000000</td>\n",
              "      <td>0.000000</td>\n",
              "      <td>0.000000</td>\n",
              "      <td>0.000000</td>\n",
              "      <td>0.000000</td>\n",
              "      <td>0.0</td>\n",
              "    </tr>\n",
              "    <tr>\n",
              "      <th>25%</th>\n",
              "      <td>99.300000</td>\n",
              "      <td>99.300000</td>\n",
              "      <td>99.300000</td>\n",
              "      <td>99.300000</td>\n",
              "      <td>0.000000</td>\n",
              "      <td>1.000000</td>\n",
              "      <td>0.000000</td>\n",
              "      <td>0.000000</td>\n",
              "      <td>8.000000</td>\n",
              "      <td>0.000000</td>\n",
              "      <td>0.0</td>\n",
              "    </tr>\n",
              "    <tr>\n",
              "      <th>50%</th>\n",
              "      <td>200.000000</td>\n",
              "      <td>200.000000</td>\n",
              "      <td>200.000000</td>\n",
              "      <td>200.000000</td>\n",
              "      <td>1.000000</td>\n",
              "      <td>2.000000</td>\n",
              "      <td>0.000000</td>\n",
              "      <td>2.000000</td>\n",
              "      <td>10.000000</td>\n",
              "      <td>0.000000</td>\n",
              "      <td>0.0</td>\n",
              "    </tr>\n",
              "    <tr>\n",
              "      <th>75%</th>\n",
              "      <td>407.675000</td>\n",
              "      <td>407.675000</td>\n",
              "      <td>407.675000</td>\n",
              "      <td>407.675000</td>\n",
              "      <td>3.000000</td>\n",
              "      <td>5.000000</td>\n",
              "      <td>0.000000</td>\n",
              "      <td>8.000000</td>\n",
              "      <td>11.000000</td>\n",
              "      <td>0.000000</td>\n",
              "      <td>0.0</td>\n",
              "    </tr>\n",
              "    <tr>\n",
              "      <th>max</th>\n",
              "      <td>1057.000000</td>\n",
              "      <td>1057.000000</td>\n",
              "      <td>1057.000000</td>\n",
              "      <td>1057.000000</td>\n",
              "      <td>189.000000</td>\n",
              "      <td>423.000000</td>\n",
              "      <td>4.000000</td>\n",
              "      <td>528.000000</td>\n",
              "      <td>14.000000</td>\n",
              "      <td>1.000000</td>\n",
              "      <td>0.0</td>\n",
              "    </tr>\n",
              "  </tbody>\n",
              "</table>\n",
              "</div>"
            ],
            "text/plain": [
              "       max_valor_boleto  avg_valor_boleto  ...  conta_bnk_repetida  fraude\n",
              "count       5606.000000       5606.000000  ...         5606.000000  5606.0\n",
              "mean         284.693007        284.693007  ...            0.008027     0.0\n",
              "std          246.313423        246.313423  ...            0.089242     0.0\n",
              "min            1.000000          1.000000  ...            0.000000     0.0\n",
              "25%           99.300000         99.300000  ...            0.000000     0.0\n",
              "50%          200.000000        200.000000  ...            0.000000     0.0\n",
              "75%          407.675000        407.675000  ...            0.000000     0.0\n",
              "max         1057.000000       1057.000000  ...            1.000000     0.0\n",
              "\n",
              "[8 rows x 11 columns]"
            ]
          },
          "metadata": {},
          "execution_count": 33
        }
      ]
    },
    {
      "cell_type": "code",
      "metadata": {
        "colab": {
          "base_uri": "https://localhost:8080/",
          "height": 282
        },
        "id": "eZUMNegw-FQS",
        "outputId": "42ffa4ed-5542-41fc-b6fb-e332818ac1b8"
      },
      "source": [
        "df_fraud['max_valor_boleto'].hist()"
      ],
      "execution_count": 34,
      "outputs": [
        {
          "output_type": "execute_result",
          "data": {
            "text/plain": [
              "<matplotlib.axes._subplots.AxesSubplot at 0x7fb11f4b9f90>"
            ]
          },
          "metadata": {},
          "execution_count": 34
        },
        {
          "output_type": "display_data",
          "data": {
            "image/png": "[encoded data removed]",
            "text/plain": [
              "<Figure size 432x288 with 1 Axes>"
            ]
          },
          "metadata": {
            "needs_background": "light"
          }
        }
      ]
    },
    {
      "cell_type": "code",
      "metadata": {
        "colab": {
          "base_uri": "https://localhost:8080/"
        },
        "id": "wH2E9XOy-Q1n",
        "outputId": "9b43da54-0806-4598-8f1a-8a0100a67783"
      },
      "source": [
        "df_fraud['company_id'].value_counts()"
      ],
      "execution_count": 35,
      "outputs": [
        {
          "output_type": "execute_result",
          "data": {
            "text/plain": [
              "6009fe6293e19e00106dc3b5    3\n",
              "5f4d09dbca72203729f5aee3    2\n",
              "5fc6e59a83ca9b0010788e3b    2\n",
              "5f3497c9ca191809dce38b01    2\n",
              "5f57841ef11fce644e4eba0c    2\n",
              "                           ..\n",
              "5f6a44748976ca3c38eea6e6    1\n",
              "5f63f6787401642581047861    1\n",
              "5f63a7ef250fb74955f94049    1\n",
              "5fe22319f9c78500173b70ab    1\n",
              "5f6ca67de439c23e2012acd8    1\n",
              "Name: company_id, Length: 125, dtype: int64"
            ]
          },
          "metadata": {},
          "execution_count": 35
        }
      ]
    },
    {
      "cell_type": "code",
      "metadata": {
        "colab": {
          "base_uri": "https://localhost:8080/",
          "height": 163
        },
        "id": "ailxKgPUB8iL",
        "outputId": "f92a3ec6-a202-45fb-efb8-1f49cffd8bc3"
      },
      "source": [
        "df_fraud.query('company_id == \"6009fe6293e19e00106dc3b5\" ')"
      ],
      "execution_count": 36,
      "outputs": [
        {
          "output_type": "execute_result",
          "data": {
            "text/html": [
              "<div>\n",
              "<style scoped>\n",
              "    .dataframe tbody tr th:only-of-type {\n",
              "        vertical-align: middle;\n",
              "    }\n",
              "\n",
              "    .dataframe tbody tr th {\n",
              "        vertical-align: top;\n",
              "    }\n",
              "\n",
              "    .dataframe thead th {\n",
              "        text-align: right;\n",
              "    }\n",
              "</style>\n",
              "<table border=\"1\" class=\"dataframe\">\n",
              "  <thead>\n",
              "    <tr style=\"text-align: right;\">\n",
              "      <th></th>\n",
              "      <th>mes_ref</th>\n",
              "      <th>company_id</th>\n",
              "      <th>tipo_doc</th>\n",
              "      <th>max_valor_boleto</th>\n",
              "      <th>avg_valor_boleto</th>\n",
              "      <th>total_valor_boleto</th>\n",
              "      <th>valor_boleto_stdv</th>\n",
              "      <th>qtd_boleto_pago</th>\n",
              "      <th>qtd_boleto_total</th>\n",
              "      <th>qtd_boleto_estorno</th>\n",
              "      <th>qnt_cc_total</th>\n",
              "      <th>tempo_credenciamento</th>\n",
              "      <th>conta_bnk_repetida</th>\n",
              "      <th>fraude</th>\n",
              "    </tr>\n",
              "  </thead>\n",
              "  <tbody>\n",
              "    <tr>\n",
              "      <th>2375</th>\n",
              "      <td>01/03/2021</td>\n",
              "      <td>6009fe6293e19e00106dc3b5</td>\n",
              "      <td>cpf</td>\n",
              "      <td>700.00</td>\n",
              "      <td>700.00</td>\n",
              "      <td>700.00</td>\n",
              "      <td>700.00</td>\n",
              "      <td>0</td>\n",
              "      <td>2</td>\n",
              "      <td>0</td>\n",
              "      <td>0</td>\n",
              "      <td>0</td>\n",
              "      <td>0</td>\n",
              "      <td>1</td>\n",
              "    </tr>\n",
              "    <tr>\n",
              "      <th>4730</th>\n",
              "      <td>01/02/2021</td>\n",
              "      <td>6009fe6293e19e00106dc3b5</td>\n",
              "      <td>cpf</td>\n",
              "      <td>500.00</td>\n",
              "      <td>500.00</td>\n",
              "      <td>500.00</td>\n",
              "      <td>500.00</td>\n",
              "      <td>0</td>\n",
              "      <td>13</td>\n",
              "      <td>8</td>\n",
              "      <td>0</td>\n",
              "      <td>0</td>\n",
              "      <td>0</td>\n",
              "      <td>1</td>\n",
              "    </tr>\n",
              "    <tr>\n",
              "      <th>9197</th>\n",
              "      <td>01/01/2021</td>\n",
              "      <td>6009fe6293e19e00106dc3b5</td>\n",
              "      <td>cpf</td>\n",
              "      <td>627.67</td>\n",
              "      <td>627.67</td>\n",
              "      <td>627.67</td>\n",
              "      <td>627.67</td>\n",
              "      <td>0</td>\n",
              "      <td>9</td>\n",
              "      <td>2</td>\n",
              "      <td>0</td>\n",
              "      <td>0</td>\n",
              "      <td>0</td>\n",
              "      <td>1</td>\n",
              "    </tr>\n",
              "  </tbody>\n",
              "</table>\n",
              "</div>"
            ],
            "text/plain": [
              "         mes_ref                company_id  ... conta_bnk_repetida  fraude\n",
              "2375  01/03/2021  6009fe6293e19e00106dc3b5  ...                  0       1\n",
              "4730  01/02/2021  6009fe6293e19e00106dc3b5  ...                  0       1\n",
              "9197  01/01/2021  6009fe6293e19e00106dc3b5  ...                  0       1\n",
              "\n",
              "[3 rows x 14 columns]"
            ]
          },
          "metadata": {},
          "execution_count": 36
        }
      ]
    },
    {
      "cell_type": "code",
      "metadata": {
        "colab": {
          "base_uri": "https://localhost:8080/"
        },
        "id": "p_PJ6FpNDxLX",
        "outputId": "0f8abd15-fdfc-45ad-b922-c9bfb1551c4a"
      },
      "source": [
        "df_fraud['conta_bnk_repetida'].value_counts(normalize=True)"
      ],
      "execution_count": 37,
      "outputs": [
        {
          "output_type": "execute_result",
          "data": {
            "text/plain": [
              "1    0.676056\n",
              "0    0.323944\n",
              "Name: conta_bnk_repetida, dtype: float64"
            ]
          },
          "metadata": {},
          "execution_count": 37
        }
      ]
    },
    {
      "cell_type": "code",
      "metadata": {
        "colab": {
          "base_uri": "https://localhost:8080/"
        },
        "id": "qgxdEJ_1D-er",
        "outputId": "7b33c330-0676-4e50-ed5a-0458d95616fa"
      },
      "source": [
        "df_no_fraud['conta_bnk_repetida'].value_counts(normalize=True)"
      ],
      "execution_count": 38,
      "outputs": [
        {
          "output_type": "execute_result",
          "data": {
            "text/plain": [
              "0    0.991973\n",
              "1    0.008027\n",
              "Name: conta_bnk_repetida, dtype: float64"
            ]
          },
          "metadata": {},
          "execution_count": 38
        }
      ]
    },
    {
      "cell_type": "code",
      "metadata": {
        "colab": {
          "base_uri": "https://localhost:8080/"
        },
        "id": "2TNu6Pq7EK5T",
        "outputId": "ada1a4ee-9ecb-4f1a-c128-23c98603f55f"
      },
      "source": [
        "df_no_fraud['tempo_credenciamento'].value_counts(normalize=True)"
      ],
      "execution_count": 39,
      "outputs": [
        {
          "output_type": "execute_result",
          "data": {
            "text/plain": [
              "11    0.345701\n",
              "10    0.187656\n",
              "9     0.154656\n",
              "8     0.071709\n",
              "4     0.033535\n",
              "0     0.033357\n",
              "3     0.030146\n",
              "7     0.028362\n",
              "12    0.023011\n",
              "6     0.022654\n",
              "5     0.020335\n",
              "1     0.019800\n",
              "2     0.011238\n",
              "14    0.008919\n",
              "13    0.008919\n",
              "Name: tempo_credenciamento, dtype: float64"
            ]
          },
          "metadata": {},
          "execution_count": 39
        }
      ]
    },
    {
      "cell_type": "code",
      "metadata": {
        "colab": {
          "base_uri": "https://localhost:8080/"
        },
        "id": "0gwpf0InEXoi",
        "outputId": "e6bb5ed8-dc78-4d6e-a8d4-89b4ea1fabe6"
      },
      "source": [
        "df_fraud['tempo_credenciamento'].value_counts(normalize=True)"
      ],
      "execution_count": 40,
      "outputs": [
        {
          "output_type": "execute_result",
          "data": {
            "text/plain": [
              "4    0.394366\n",
              "0    0.239437\n",
              "1    0.126761\n",
              "2    0.098592\n",
              "5    0.091549\n",
              "8    0.021127\n",
              "3    0.021127\n",
              "7    0.007042\n",
              "Name: tempo_credenciamento, dtype: float64"
            ]
          },
          "metadata": {},
          "execution_count": 40
        }
      ]
    },
    {
      "cell_type": "code",
      "metadata": {
        "colab": {
          "base_uri": "https://localhost:8080/"
        },
        "id": "y0LZgVuYEkc6",
        "outputId": "fb4f0feb-b4d7-4462-9b32-5e2d63e2e826"
      },
      "source": [
        "df_no_fraud['qnt_cc_total'].value_counts(normalize=True)"
      ],
      "execution_count": 41,
      "outputs": [
        {
          "output_type": "execute_result",
          "data": {
            "text/plain": [
              "0      0.380485\n",
              "1      0.099358\n",
              "2      0.064930\n",
              "3      0.055833\n",
              "4      0.043168\n",
              "         ...   \n",
              "117    0.000178\n",
              "113    0.000178\n",
              "105    0.000178\n",
              "93     0.000178\n",
              "161    0.000178\n",
              "Name: qnt_cc_total, Length: 134, dtype: float64"
            ]
          },
          "metadata": {},
          "execution_count": 41
        }
      ]
    },
    {
      "cell_type": "code",
      "metadata": {
        "colab": {
          "base_uri": "https://localhost:8080/"
        },
        "id": "2EbZQnWkEzZg",
        "outputId": "ef0d3c68-6c80-4c66-9a39-7a2d1f2f1c74"
      },
      "source": [
        "df_fraud['qnt_cc_total'].value_counts(normalize=True)"
      ],
      "execution_count": 42,
      "outputs": [
        {
          "output_type": "execute_result",
          "data": {
            "text/plain": [
              "0    1.0\n",
              "Name: qnt_cc_total, dtype: float64"
            ]
          },
          "metadata": {},
          "execution_count": 42
        }
      ]
    },
    {
      "cell_type": "code",
      "metadata": {
        "colab": {
          "base_uri": "https://localhost:8080/"
        },
        "id": "ljefhwUn4z4R",
        "outputId": "df5df6eb-cdde-4ca0-98ab-e14312518f29"
      },
      "source": [
        "cc_maior_1_fraud = df_fraud.query('qnt_cc_total >= 1')['qnt_cc_total'].value_counts().sum()\n",
        "cc_maior_0_fraud = df_fraud.query('qnt_cc_total == 0')['qnt_cc_total'].value_counts().sum()\n",
        "cc_maior_1_fraud, cc_maior_0_fraud"
      ],
      "execution_count": 43,
      "outputs": [
        {
          "output_type": "execute_result",
          "data": {
            "text/plain": [
              "(0, 142)"
            ]
          },
          "metadata": {},
          "execution_count": 43
        }
      ]
    },
    {
      "cell_type": "code",
      "metadata": {
        "colab": {
          "base_uri": "https://localhost:8080/",
          "height": 467
        },
        "id": "9qAVJGYq5BDG",
        "outputId": "8c1f4071-e349-4eb4-c639-bebe4b53daa5"
      },
      "source": [
        "a = [cc_maior_1_fraud, cc_maior_0_fraud]\n",
        "fig = go.Figure(go.Bar (x = ['Maior que 1', 'Nenhum'],\n",
        "                        y = a,\n",
        "                        marker = dict(color = [color[0], color[1]],\n",
        ")),             \n",
        ")\n",
        "fig.update_layout(\n",
        "    title=\"\"\"Transções no <b>Cartão de Crédito</b> <br>( Fraude)\n",
        "            \"\"\",\n",
        "    title_font_size=22,\n",
        "    font_size=13,\n",
        "    plot_bgcolor='white',\n",
        "    legend_x=0.99, legend_xanchor='right', legend_font_size=18,\n",
        "    hovermode='x',\n",
        "    bargap=0.15,\n",
        "    width=700, height=450\n",
        ")\n",
        "\n",
        "fig.update_xaxes(\n",
        "    mirror=True, ticks='outside', showline=True, linewidth=1, linecolor='gray')\n",
        "fig.update_yaxes(\n",
        "    mirror=True, ticks='outside', showline=True, linewidth=1, linecolor='grey',\n",
        "    )\n",
        "\n",
        "fig.update_xaxes(type = 'category', title = 'Transações')\n",
        "fig.update_yaxes(title = 'Quantidade')\n",
        "fig.show()"
      ],
      "execution_count": 71,
      "outputs": [
        {
          "output_type": "display_data",
          "data": {
            "text/html": [
              "<html>\n",
              "<head><meta charset=\"utf-8\" /></head>\n",
              "<body>\n",
              "    <div>\n",
              "            <script src=\"https://cdnjs.cloudflare.com/ajax/libs/mathjax/2.7.5/MathJax.js?config=TeX-AMS-MML_SVG\"></script><script type=\"text/javascript\">if (window.MathJax) {MathJax.Hub.Config({SVG: {font: \"STIX-Web\"}});}</script>\n",
              "                <script type=\"text/javascript\">window.PlotlyConfig = {MathJaxConfig: 'local'};</script>\n",
              "        <script src=\"https://cdn.plot.ly/plotly-latest.min.js\"></script>    \n",
              "            <div id=\"04172ab7-4520-4f88-a683-e29f4858db8f\" class=\"plotly-graph-div\" style=\"height:450px; width:700px;\"></div>\n",
              "            <script type=\"text/javascript\">\n",
              "                \n",
              "                    window.PLOTLYENV=window.PLOTLYENV || {};\n",
              "                    \n",
              "                if (document.getElementById(\"04172ab7-4520-4f88-a683-e29f4858db8f\")) {\n",
              "                    Plotly.newPlot(\n",
              "                        '04172ab7-4520-4f88-a683-e29f4858db8f',\n",
              "                        [{\"marker\": {\"color\": [\"#87B738\", \"#283610\"]}, \"type\": \"bar\", \"x\": [\"Maior que 1\", \"Nenhum\"], \"y\": [0, 142]}],\n",
              "                        {\"bargap\": 0.15, \"font\": {\"size\": 13}, \"height\": 450, \"hovermode\": \"x\", \"legend\": {\"font\": {\"size\": 18}, \"x\": 0.99, \"xanchor\": \"right\"}, \"plot_bgcolor\": \"white\", \"template\": {\"data\": {\"bar\": [{\"error_x\": {\"color\": \"#2a3f5f\"}, \"error_y\": {\"color\": \"#2a3f5f\"}, \"marker\": {\"line\": {\"color\": \"#E5ECF6\", \"width\": 0.5}}, \"type\": \"bar\"}], \"barpolar\": [{\"marker\": {\"line\": {\"color\": \"#E5ECF6\", \"width\": 0.5}}, \"type\": \"barpolar\"}], \"carpet\": [{\"aaxis\": {\"endlinecolor\": \"#2a3f5f\", \"gridcolor\": \"white\", \"linecolor\": \"white\", \"minorgridcolor\": \"white\", \"startlinecolor\": \"#2a3f5f\"}, \"baxis\": {\"endlinecolor\": \"#2a3f5f\", \"gridcolor\": \"white\", \"linecolor\": \"white\", \"minorgridcolor\": \"white\", \"startlinecolor\": \"#2a3f5f\"}, \"type\": \"carpet\"}], \"choropleth\": [{\"colorbar\": {\"outlinewidth\": 0, \"ticks\": \"\"}, \"type\": \"choropleth\"}], \"contour\": [{\"colorbar\": {\"outlinewidth\": 0, \"ticks\": \"\"}, \"colorscale\": [[0.0, \"#0d0887\"], [0.1111111111111111, \"#46039f\"], [0.2222222222222222, \"#7201a8\"], [0.3333333333333333, \"#9c179e\"], [0.4444444444444444, \"#bd3786\"], [0.5555555555555556, \"#d8576b\"], [0.6666666666666666, \"#ed7953\"], [0.7777777777777778, \"#fb9f3a\"], [0.8888888888888888, \"#fdca26\"], [1.0, \"#f0f921\"]], \"type\": \"contour\"}], \"contourcarpet\": [{\"colorbar\": {\"outlinewidth\": 0, \"ticks\": \"\"}, \"type\": \"contourcarpet\"}], \"heatmap\": [{\"colorbar\": {\"outlinewidth\": 0, \"ticks\": \"\"}, \"colorscale\": [[0.0, \"#0d0887\"], [0.1111111111111111, \"#46039f\"], [0.2222222222222222, \"#7201a8\"], [0.3333333333333333, \"#9c179e\"], [0.4444444444444444, \"#bd3786\"], [0.5555555555555556, \"#d8576b\"], [0.6666666666666666, \"#ed7953\"], [0.7777777777777778, \"#fb9f3a\"], [0.8888888888888888, \"#fdca26\"], [1.0, \"#f0f921\"]], \"type\": \"heatmap\"}], \"heatmapgl\": [{\"colorbar\": {\"outlinewidth\": 0, \"ticks\": \"\"}, \"colorscale\": [[0.0, \"#0d0887\"], [0.1111111111111111, \"#46039f\"], [0.2222222222222222, \"#7201a8\"], [0.3333333333333333, \"#9c179e\"], [0.4444444444444444, \"#bd3786\"], [0.5555555555555556, \"#d8576b\"], [0.6666666666666666, \"#ed7953\"], [0.7777777777777778, \"#fb9f3a\"], [0.8888888888888888, \"#fdca26\"], [1.0, \"#f0f921\"]], \"type\": \"heatmapgl\"}], \"histogram\": [{\"marker\": {\"colorbar\": {\"outlinewidth\": 0, \"ticks\": \"\"}}, \"type\": \"histogram\"}], \"histogram2d\": [{\"colorbar\": {\"outlinewidth\": 0, \"ticks\": \"\"}, \"colorscale\": [[0.0, \"#0d0887\"], [0.1111111111111111, \"#46039f\"], [0.2222222222222222, \"#7201a8\"], [0.3333333333333333, \"#9c179e\"], [0.4444444444444444, \"#bd3786\"], [0.5555555555555556, \"#d8576b\"], [0.6666666666666666, \"#ed7953\"], [0.7777777777777778, \"#fb9f3a\"], [0.8888888888888888, \"#fdca26\"], [1.0, \"#f0f921\"]], \"type\": \"histogram2d\"}], \"histogram2dcontour\": [{\"colorbar\": {\"outlinewidth\": 0, \"ticks\": \"\"}, \"colorscale\": [[0.0, \"#0d0887\"], [0.1111111111111111, \"#46039f\"], [0.2222222222222222, \"#7201a8\"], [0.3333333333333333, \"#9c179e\"], [0.4444444444444444, \"#bd3786\"], [0.5555555555555556, \"#d8576b\"], [0.6666666666666666, \"#ed7953\"], [0.7777777777777778, \"#fb9f3a\"], [0.8888888888888888, \"#fdca26\"], [1.0, \"#f0f921\"]], \"type\": \"histogram2dcontour\"}], \"mesh3d\": [{\"colorbar\": {\"outlinewidth\": 0, \"ticks\": \"\"}, \"type\": \"mesh3d\"}], \"parcoords\": [{\"line\": {\"colorbar\": {\"outlinewidth\": 0, \"ticks\": \"\"}}, \"type\": \"parcoords\"}], \"pie\": [{\"automargin\": true, \"type\": \"pie\"}], \"scatter\": [{\"marker\": {\"colorbar\": {\"outlinewidth\": 0, \"ticks\": \"\"}}, \"type\": \"scatter\"}], \"scatter3d\": [{\"line\": {\"colorbar\": {\"outlinewidth\": 0, \"ticks\": \"\"}}, \"marker\": {\"colorbar\": {\"outlinewidth\": 0, \"ticks\": \"\"}}, \"type\": \"scatter3d\"}], \"scattercarpet\": [{\"marker\": {\"colorbar\": {\"outlinewidth\": 0, \"ticks\": \"\"}}, \"type\": \"scattercarpet\"}], \"scattergeo\": [{\"marker\": {\"colorbar\": {\"outlinewidth\": 0, \"ticks\": \"\"}}, \"type\": \"scattergeo\"}], \"scattergl\": [{\"marker\": {\"colorbar\": {\"outlinewidth\": 0, \"ticks\": \"\"}}, \"type\": \"scattergl\"}], \"scattermapbox\": [{\"marker\": {\"colorbar\": {\"outlinewidth\": 0, \"ticks\": \"\"}}, \"type\": \"scattermapbox\"}], \"scatterpolar\": [{\"marker\": {\"colorbar\": {\"outlinewidth\": 0, \"ticks\": \"\"}}, \"type\": \"scatterpolar\"}], \"scatterpolargl\": [{\"marker\": {\"colorbar\": {\"outlinewidth\": 0, \"ticks\": \"\"}}, \"type\": \"scatterpolargl\"}], \"scatterternary\": [{\"marker\": {\"colorbar\": {\"outlinewidth\": 0, \"ticks\": \"\"}}, \"type\": \"scatterternary\"}], \"surface\": [{\"colorbar\": {\"outlinewidth\": 0, \"ticks\": \"\"}, \"colorscale\": [[0.0, \"#0d0887\"], [0.1111111111111111, \"#46039f\"], [0.2222222222222222, \"#7201a8\"], [0.3333333333333333, \"#9c179e\"], [0.4444444444444444, \"#bd3786\"], [0.5555555555555556, \"#d8576b\"], [0.6666666666666666, \"#ed7953\"], [0.7777777777777778, \"#fb9f3a\"], [0.8888888888888888, \"#fdca26\"], [1.0, \"#f0f921\"]], \"type\": \"surface\"}], \"table\": [{\"cells\": {\"fill\": {\"color\": \"#EBF0F8\"}, \"line\": {\"color\": \"white\"}}, \"header\": {\"fill\": {\"color\": \"#C8D4E3\"}, \"line\": {\"color\": \"white\"}}, \"type\": \"table\"}]}, \"layout\": {\"annotationdefaults\": {\"arrowcolor\": \"#2a3f5f\", \"arrowhead\": 0, \"arrowwidth\": 1}, \"coloraxis\": {\"colorbar\": {\"outlinewidth\": 0, \"ticks\": \"\"}}, \"colorscale\": {\"diverging\": [[0, \"#8e0152\"], [0.1, \"#c51b7d\"], [0.2, \"#de77ae\"], [0.3, \"#f1b6da\"], [0.4, \"#fde0ef\"], [0.5, \"#f7f7f7\"], [0.6, \"#e6f5d0\"], [0.7, \"#b8e186\"], [0.8, \"#7fbc41\"], [0.9, \"#4d9221\"], [1, \"#276419\"]], \"sequential\": [[0.0, \"#0d0887\"], [0.1111111111111111, \"#46039f\"], [0.2222222222222222, \"#7201a8\"], [0.3333333333333333, \"#9c179e\"], [0.4444444444444444, \"#bd3786\"], [0.5555555555555556, \"#d8576b\"], [0.6666666666666666, \"#ed7953\"], [0.7777777777777778, \"#fb9f3a\"], [0.8888888888888888, \"#fdca26\"], [1.0, \"#f0f921\"]], \"sequentialminus\": [[0.0, \"#0d0887\"], [0.1111111111111111, \"#46039f\"], [0.2222222222222222, \"#7201a8\"], [0.3333333333333333, \"#9c179e\"], [0.4444444444444444, \"#bd3786\"], [0.5555555555555556, \"#d8576b\"], [0.6666666666666666, \"#ed7953\"], [0.7777777777777778, \"#fb9f3a\"], [0.8888888888888888, \"#fdca26\"], [1.0, \"#f0f921\"]]}, \"colorway\": [\"#636efa\", \"#EF553B\", \"#00cc96\", \"#ab63fa\", \"#FFA15A\", \"#19d3f3\", \"#FF6692\", \"#B6E880\", \"#FF97FF\", \"#FECB52\"], \"font\": {\"color\": \"#2a3f5f\"}, \"geo\": {\"bgcolor\": \"white\", \"lakecolor\": \"white\", \"landcolor\": \"#E5ECF6\", \"showlakes\": true, \"showland\": true, \"subunitcolor\": \"white\"}, \"hoverlabel\": {\"align\": \"left\"}, \"hovermode\": \"closest\", \"mapbox\": {\"style\": \"light\"}, \"paper_bgcolor\": \"white\", \"plot_bgcolor\": \"#E5ECF6\", \"polar\": {\"angularaxis\": {\"gridcolor\": \"white\", \"linecolor\": \"white\", \"ticks\": \"\"}, \"bgcolor\": \"#E5ECF6\", \"radialaxis\": {\"gridcolor\": \"white\", \"linecolor\": \"white\", \"ticks\": \"\"}}, \"scene\": {\"xaxis\": {\"backgroundcolor\": \"#E5ECF6\", \"gridcolor\": \"white\", \"gridwidth\": 2, \"linecolor\": \"white\", \"showbackground\": true, \"ticks\": \"\", \"zerolinecolor\": \"white\"}, \"yaxis\": {\"backgroundcolor\": \"#E5ECF6\", \"gridcolor\": \"white\", \"gridwidth\": 2, \"linecolor\": \"white\", \"showbackground\": true, \"ticks\": \"\", \"zerolinecolor\": \"white\"}, \"zaxis\": {\"backgroundcolor\": \"#E5ECF6\", \"gridcolor\": \"white\", \"gridwidth\": 2, \"linecolor\": \"white\", \"showbackground\": true, \"ticks\": \"\", \"zerolinecolor\": \"white\"}}, \"shapedefaults\": {\"line\": {\"color\": \"#2a3f5f\"}}, \"ternary\": {\"aaxis\": {\"gridcolor\": \"white\", \"linecolor\": \"white\", \"ticks\": \"\"}, \"baxis\": {\"gridcolor\": \"white\", \"linecolor\": \"white\", \"ticks\": \"\"}, \"bgcolor\": \"#E5ECF6\", \"caxis\": {\"gridcolor\": \"white\", \"linecolor\": \"white\", \"ticks\": \"\"}}, \"title\": {\"x\": 0.05}, \"xaxis\": {\"automargin\": true, \"gridcolor\": \"white\", \"linecolor\": \"white\", \"ticks\": \"\", \"title\": {\"standoff\": 15}, \"zerolinecolor\": \"white\", \"zerolinewidth\": 2}, \"yaxis\": {\"automargin\": true, \"gridcolor\": \"white\", \"linecolor\": \"white\", \"ticks\": \"\", \"title\": {\"standoff\": 15}, \"zerolinecolor\": \"white\", \"zerolinewidth\": 2}}}, \"title\": {\"font\": {\"size\": 22}, \"text\": \"Trans\\u00e7\\u00f5es no <b>Cart\\u00e3o de Cr\\u00e9dito</b> <br>( Fraude)\\n            \"}, \"width\": 700, \"xaxis\": {\"linecolor\": \"gray\", \"linewidth\": 1, \"mirror\": true, \"showline\": true, \"ticks\": \"outside\", \"title\": {\"text\": \"Transa\\u00e7\\u00f5es\"}, \"type\": \"category\"}, \"yaxis\": {\"linecolor\": \"grey\", \"linewidth\": 1, \"mirror\": true, \"showline\": true, \"ticks\": \"outside\", \"title\": {\"text\": \"Quantidade\"}}},\n",
              "                        {\"responsive\": true}\n",
              "                    ).then(function(){\n",
              "                            \n",
              "var gd = document.getElementById('04172ab7-4520-4f88-a683-e29f4858db8f');\n",
              "var x = new MutationObserver(function (mutations, observer) {{\n",
              "        var display = window.getComputedStyle(gd).display;\n",
              "        if (!display || display === 'none') {{\n",
              "            console.log([gd, 'removed!']);\n",
              "            Plotly.purge(gd);\n",
              "            observer.disconnect();\n",
              "        }}\n",
              "}});\n",
              "\n",
              "// Listen for the removal of the full notebook cells\n",
              "var notebookContainer = gd.closest('#notebook-container');\n",
              "if (notebookContainer) {{\n",
              "    x.observe(notebookContainer, {childList: true});\n",
              "}}\n",
              "\n",
              "// Listen for the clearing of the current output cell\n",
              "var outputEl = gd.closest('.output');\n",
              "if (outputEl) {{\n",
              "    x.observe(outputEl, {childList: true});\n",
              "}}\n",
              "\n",
              "                        })\n",
              "                };\n",
              "                \n",
              "            </script>\n",
              "        </div>\n",
              "</body>\n",
              "</html>"
            ]
          },
          "metadata": {}
        }
      ]
    },
    {
      "cell_type": "code",
      "metadata": {
        "colab": {
          "base_uri": "https://localhost:8080/"
        },
        "id": "oYlU8-EP0tCV",
        "outputId": "dab7e71f-5160-426a-bdbf-7a265533698f"
      },
      "source": [
        "cc_maior_1 = df_no_fraud.query('qnt_cc_total >= 1')['qnt_cc_total'].value_counts().sum()\n",
        "cc_maior_0 = df_no_fraud.query('qnt_cc_total == 0')['qnt_cc_total'].value_counts().sum()\n",
        "cc_maior_1, cc_maior_0"
      ],
      "execution_count": 45,
      "outputs": [
        {
          "output_type": "execute_result",
          "data": {
            "text/plain": [
              "(3473, 2133)"
            ]
          },
          "metadata": {},
          "execution_count": 45
        }
      ]
    },
    {
      "cell_type": "code",
      "metadata": {
        "colab": {
          "base_uri": "https://localhost:8080/",
          "height": 467
        },
        "id": "0uVA16aM0663",
        "outputId": "96d1ecfe-23c2-44e8-8cb8-01cdfd6dc6de"
      },
      "source": [
        "a = [cc_maior_1, cc_maior_0]\n",
        "fig = make_subplots(rows=1, cols=2)\n",
        "\n",
        "fig = go.Figure(go.Bar (x = ['Maior que 1', 'Nenhum'],\n",
        "                        y = a,\n",
        "                        marker = dict(color = [color[0], color[1]],\n",
        ")),             \n",
        ")\n",
        "\n",
        "fig.update_layout(\n",
        "    title=\"\"\"Transções no <b>Cartão de Crédito</b> <br>(Não Fraude)\n",
        "            \"\"\",\n",
        "    title_font_size=22,\n",
        "    font_size=13,\n",
        "    plot_bgcolor='white',\n",
        "    legend_x=0.99, legend_xanchor='right', legend_font_size=18,\n",
        "    hovermode='x',\n",
        "    bargap=0.15,\n",
        "    width=700, height=450\n",
        ")\n",
        "fig.update_xaxes(\n",
        "    mirror=True, ticks='outside', showline=True, linewidth=1, linecolor='gray')\n",
        "fig.update_yaxes(\n",
        "    mirror=True, ticks='outside', showline=True, linewidth=1, linecolor='grey',\n",
        "    )\n",
        "fig.update_xaxes(type = 'category', title = 'Transações')\n",
        "fig.update_yaxes(title = 'Quantidade')\n"
      ],
      "execution_count": 46,
      "outputs": [
        {
          "output_type": "display_data",
          "data": {
            "text/html": [
              "<html>\n",
              "<head><meta charset=\"utf-8\" /></head>\n",
              "<body>\n",
              "    <div>\n",
              "            <script src=\"https://cdnjs.cloudflare.com/ajax/libs/mathjax/2.7.5/MathJax.js?config=TeX-AMS-MML_SVG\"></script><script type=\"text/javascript\">if (window.MathJax) {MathJax.Hub.Config({SVG: {font: \"STIX-Web\"}});}</script>\n",
              "                <script type=\"text/javascript\">window.PlotlyConfig = {MathJaxConfig: 'local'};</script>\n",
              "        <script src=\"https://cdn.plot.ly/plotly-latest.min.js\"></script>    \n",
              "            <div id=\"b0ccd73b-3610-4a1a-a519-1116f560f09c\" class=\"plotly-graph-div\" style=\"height:450px; width:700px;\"></div>\n",
              "            <script type=\"text/javascript\">\n",
              "                \n",
              "                    window.PLOTLYENV=window.PLOTLYENV || {};\n",
              "                    \n",
              "                if (document.getElementById(\"b0ccd73b-3610-4a1a-a519-1116f560f09c\")) {\n",
              "                    Plotly.newPlot(\n",
              "                        'b0ccd73b-3610-4a1a-a519-1116f560f09c',\n",
              "                        [{\"marker\": {\"color\": [\"#87B738\", \"#283610\"]}, \"type\": \"bar\", \"x\": [\"Maior que 1\", \"Nenhum\"], \"y\": [3473, 2133]}],\n",
              "                        {\"bargap\": 0.15, \"font\": {\"size\": 13}, \"height\": 450, \"hovermode\": \"x\", \"legend\": {\"font\": {\"size\": 18}, \"x\": 0.99, \"xanchor\": \"right\"}, \"plot_bgcolor\": \"white\", \"template\": {\"data\": {\"bar\": [{\"error_x\": {\"color\": \"#2a3f5f\"}, \"error_y\": {\"color\": \"#2a3f5f\"}, \"marker\": {\"line\": {\"color\": \"#E5ECF6\", \"width\": 0.5}}, \"type\": \"bar\"}], \"barpolar\": [{\"marker\": {\"line\": {\"color\": \"#E5ECF6\", \"width\": 0.5}}, \"type\": \"barpolar\"}], \"carpet\": [{\"aaxis\": {\"endlinecolor\": \"#2a3f5f\", \"gridcolor\": \"white\", \"linecolor\": \"white\", \"minorgridcolor\": \"white\", \"startlinecolor\": \"#2a3f5f\"}, \"baxis\": {\"endlinecolor\": \"#2a3f5f\", \"gridcolor\": \"white\", \"linecolor\": \"white\", \"minorgridcolor\": \"white\", \"startlinecolor\": \"#2a3f5f\"}, \"type\": \"carpet\"}], \"choropleth\": [{\"colorbar\": {\"outlinewidth\": 0, \"ticks\": \"\"}, \"type\": \"choropleth\"}], \"contour\": [{\"colorbar\": {\"outlinewidth\": 0, \"ticks\": \"\"}, \"colorscale\": [[0.0, \"#0d0887\"], [0.1111111111111111, \"#46039f\"], [0.2222222222222222, \"#7201a8\"], [0.3333333333333333, \"#9c179e\"], [0.4444444444444444, \"#bd3786\"], [0.5555555555555556, \"#d8576b\"], [0.6666666666666666, \"#ed7953\"], [0.7777777777777778, \"#fb9f3a\"], [0.8888888888888888, \"#fdca26\"], [1.0, \"#f0f921\"]], \"type\": \"contour\"}], \"contourcarpet\": [{\"colorbar\": {\"outlinewidth\": 0, \"ticks\": \"\"}, \"type\": \"contourcarpet\"}], \"heatmap\": [{\"colorbar\": {\"outlinewidth\": 0, \"ticks\": \"\"}, \"colorscale\": [[0.0, \"#0d0887\"], [0.1111111111111111, \"#46039f\"], [0.2222222222222222, \"#7201a8\"], [0.3333333333333333, \"#9c179e\"], [0.4444444444444444, \"#bd3786\"], [0.5555555555555556, \"#d8576b\"], [0.6666666666666666, \"#ed7953\"], [0.7777777777777778, \"#fb9f3a\"], [0.8888888888888888, \"#fdca26\"], [1.0, \"#f0f921\"]], \"type\": \"heatmap\"}], \"heatmapgl\": [{\"colorbar\": {\"outlinewidth\": 0, \"ticks\": \"\"}, \"colorscale\": [[0.0, \"#0d0887\"], [0.1111111111111111, \"#46039f\"], [0.2222222222222222, \"#7201a8\"], [0.3333333333333333, \"#9c179e\"], [0.4444444444444444, \"#bd3786\"], [0.5555555555555556, \"#d8576b\"], [0.6666666666666666, \"#ed7953\"], [0.7777777777777778, \"#fb9f3a\"], [0.8888888888888888, \"#fdca26\"], [1.0, \"#f0f921\"]], \"type\": \"heatmapgl\"}], \"histogram\": [{\"marker\": {\"colorbar\": {\"outlinewidth\": 0, \"ticks\": \"\"}}, \"type\": \"histogram\"}], \"histogram2d\": [{\"colorbar\": {\"outlinewidth\": 0, \"ticks\": \"\"}, \"colorscale\": [[0.0, \"#0d0887\"], [0.1111111111111111, \"#46039f\"], [0.2222222222222222, \"#7201a8\"], [0.3333333333333333, \"#9c179e\"], [0.4444444444444444, \"#bd3786\"], [0.5555555555555556, \"#d8576b\"], [0.6666666666666666, \"#ed7953\"], [0.7777777777777778, \"#fb9f3a\"], [0.8888888888888888, \"#fdca26\"], [1.0, \"#f0f921\"]], \"type\": \"histogram2d\"}], \"histogram2dcontour\": [{\"colorbar\": {\"outlinewidth\": 0, \"ticks\": \"\"}, \"colorscale\": [[0.0, \"#0d0887\"], [0.1111111111111111, \"#46039f\"], [0.2222222222222222, \"#7201a8\"], [0.3333333333333333, \"#9c179e\"], [0.4444444444444444, \"#bd3786\"], [0.5555555555555556, \"#d8576b\"], [0.6666666666666666, \"#ed7953\"], [0.7777777777777778, \"#fb9f3a\"], [0.8888888888888888, \"#fdca26\"], [1.0, \"#f0f921\"]], \"type\": \"histogram2dcontour\"}], \"mesh3d\": [{\"colorbar\": {\"outlinewidth\": 0, \"ticks\": \"\"}, \"type\": \"mesh3d\"}], \"parcoords\": [{\"line\": {\"colorbar\": {\"outlinewidth\": 0, \"ticks\": \"\"}}, \"type\": \"parcoords\"}], \"pie\": [{\"automargin\": true, \"type\": \"pie\"}], \"scatter\": [{\"marker\": {\"colorbar\": {\"outlinewidth\": 0, \"ticks\": \"\"}}, \"type\": \"scatter\"}], \"scatter3d\": [{\"line\": {\"colorbar\": {\"outlinewidth\": 0, \"ticks\": \"\"}}, \"marker\": {\"colorbar\": {\"outlinewidth\": 0, \"ticks\": \"\"}}, \"type\": \"scatter3d\"}], \"scattercarpet\": [{\"marker\": {\"colorbar\": {\"outlinewidth\": 0, \"ticks\": \"\"}}, \"type\": \"scattercarpet\"}], \"scattergeo\": [{\"marker\": {\"colorbar\": {\"outlinewidth\": 0, \"ticks\": \"\"}}, \"type\": \"scattergeo\"}], \"scattergl\": [{\"marker\": {\"colorbar\": {\"outlinewidth\": 0, \"ticks\": \"\"}}, \"type\": \"scattergl\"}], \"scattermapbox\": [{\"marker\": {\"colorbar\": {\"outlinewidth\": 0, \"ticks\": \"\"}}, \"type\": \"scattermapbox\"}], \"scatterpolar\": [{\"marker\": {\"colorbar\": {\"outlinewidth\": 0, \"ticks\": \"\"}}, \"type\": \"scatterpolar\"}], \"scatterpolargl\": [{\"marker\": {\"colorbar\": {\"outlinewidth\": 0, \"ticks\": \"\"}}, \"type\": \"scatterpolargl\"}], \"scatterternary\": [{\"marker\": {\"colorbar\": {\"outlinewidth\": 0, \"ticks\": \"\"}}, \"type\": \"scatterternary\"}], \"surface\": [{\"colorbar\": {\"outlinewidth\": 0, \"ticks\": \"\"}, \"colorscale\": [[0.0, \"#0d0887\"], [0.1111111111111111, \"#46039f\"], [0.2222222222222222, \"#7201a8\"], [0.3333333333333333, \"#9c179e\"], [0.4444444444444444, \"#bd3786\"], [0.5555555555555556, \"#d8576b\"], [0.6666666666666666, \"#ed7953\"], [0.7777777777777778, \"#fb9f3a\"], [0.8888888888888888, \"#fdca26\"], [1.0, \"#f0f921\"]], \"type\": \"surface\"}], \"table\": [{\"cells\": {\"fill\": {\"color\": \"#EBF0F8\"}, \"line\": {\"color\": \"white\"}}, \"header\": {\"fill\": {\"color\": \"#C8D4E3\"}, \"line\": {\"color\": \"white\"}}, \"type\": \"table\"}]}, \"layout\": {\"annotationdefaults\": {\"arrowcolor\": \"#2a3f5f\", \"arrowhead\": 0, \"arrowwidth\": 1}, \"coloraxis\": {\"colorbar\": {\"outlinewidth\": 0, \"ticks\": \"\"}}, \"colorscale\": {\"diverging\": [[0, \"#8e0152\"], [0.1, \"#c51b7d\"], [0.2, \"#de77ae\"], [0.3, \"#f1b6da\"], [0.4, \"#fde0ef\"], [0.5, \"#f7f7f7\"], [0.6, \"#e6f5d0\"], [0.7, \"#b8e186\"], [0.8, \"#7fbc41\"], [0.9, \"#4d9221\"], [1, \"#276419\"]], \"sequential\": [[0.0, \"#0d0887\"], [0.1111111111111111, \"#46039f\"], [0.2222222222222222, \"#7201a8\"], [0.3333333333333333, \"#9c179e\"], [0.4444444444444444, \"#bd3786\"], [0.5555555555555556, \"#d8576b\"], [0.6666666666666666, \"#ed7953\"], [0.7777777777777778, \"#fb9f3a\"], [0.8888888888888888, \"#fdca26\"], [1.0, \"#f0f921\"]], \"sequentialminus\": [[0.0, \"#0d0887\"], [0.1111111111111111, \"#46039f\"], [0.2222222222222222, \"#7201a8\"], [0.3333333333333333, \"#9c179e\"], [0.4444444444444444, \"#bd3786\"], [0.5555555555555556, \"#d8576b\"], [0.6666666666666666, \"#ed7953\"], [0.7777777777777778, \"#fb9f3a\"], [0.8888888888888888, \"#fdca26\"], [1.0, \"#f0f921\"]]}, \"colorway\": [\"#636efa\", \"#EF553B\", \"#00cc96\", \"#ab63fa\", \"#FFA15A\", \"#19d3f3\", \"#FF6692\", \"#B6E880\", \"#FF97FF\", \"#FECB52\"], \"font\": {\"color\": \"#2a3f5f\"}, \"geo\": {\"bgcolor\": \"white\", \"lakecolor\": \"white\", \"landcolor\": \"#E5ECF6\", \"showlakes\": true, \"showland\": true, \"subunitcolor\": \"white\"}, \"hoverlabel\": {\"align\": \"left\"}, \"hovermode\": \"closest\", \"mapbox\": {\"style\": \"light\"}, \"paper_bgcolor\": \"white\", \"plot_bgcolor\": \"#E5ECF6\", \"polar\": {\"angularaxis\": {\"gridcolor\": \"white\", \"linecolor\": \"white\", \"ticks\": \"\"}, \"bgcolor\": \"#E5ECF6\", \"radialaxis\": {\"gridcolor\": \"white\", \"linecolor\": \"white\", \"ticks\": \"\"}}, \"scene\": {\"xaxis\": {\"backgroundcolor\": \"#E5ECF6\", \"gridcolor\": \"white\", \"gridwidth\": 2, \"linecolor\": \"white\", \"showbackground\": true, \"ticks\": \"\", \"zerolinecolor\": \"white\"}, \"yaxis\": {\"backgroundcolor\": \"#E5ECF6\", \"gridcolor\": \"white\", \"gridwidth\": 2, \"linecolor\": \"white\", \"showbackground\": true, \"ticks\": \"\", \"zerolinecolor\": \"white\"}, \"zaxis\": {\"backgroundcolor\": \"#E5ECF6\", \"gridcolor\": \"white\", \"gridwidth\": 2, \"linecolor\": \"white\", \"showbackground\": true, \"ticks\": \"\", \"zerolinecolor\": \"white\"}}, \"shapedefaults\": {\"line\": {\"color\": \"#2a3f5f\"}}, \"ternary\": {\"aaxis\": {\"gridcolor\": \"white\", \"linecolor\": \"white\", \"ticks\": \"\"}, \"baxis\": {\"gridcolor\": \"white\", \"linecolor\": \"white\", \"ticks\": \"\"}, \"bgcolor\": \"#E5ECF6\", \"caxis\": {\"gridcolor\": \"white\", \"linecolor\": \"white\", \"ticks\": \"\"}}, \"title\": {\"x\": 0.05}, \"xaxis\": {\"automargin\": true, \"gridcolor\": \"white\", \"linecolor\": \"white\", \"ticks\": \"\", \"title\": {\"standoff\": 15}, \"zerolinecolor\": \"white\", \"zerolinewidth\": 2}, \"yaxis\": {\"automargin\": true, \"gridcolor\": \"white\", \"linecolor\": \"white\", \"ticks\": \"\", \"title\": {\"standoff\": 15}, \"zerolinecolor\": \"white\", \"zerolinewidth\": 2}}}, \"title\": {\"font\": {\"size\": 22}, \"text\": \"Trans\\u00e7\\u00f5es no <b>Cart\\u00e3o de Cr\\u00e9dito</b> <br>(N\\u00e3o Fraude)\\n            \"}, \"width\": 700, \"xaxis\": {\"linecolor\": \"gray\", \"linewidth\": 1, \"mirror\": true, \"showline\": true, \"ticks\": \"outside\", \"title\": {\"text\": \"Transa\\u00e7\\u00f5es\"}, \"type\": \"category\"}, \"yaxis\": {\"linecolor\": \"grey\", \"linewidth\": 1, \"mirror\": true, \"showline\": true, \"ticks\": \"outside\", \"title\": {\"text\": \"Quantidade\"}}},\n",
              "                        {\"responsive\": true}\n",
              "                    ).then(function(){\n",
              "                            \n",
              "var gd = document.getElementById('b0ccd73b-3610-4a1a-a519-1116f560f09c');\n",
              "var x = new MutationObserver(function (mutations, observer) {{\n",
              "        var display = window.getComputedStyle(gd).display;\n",
              "        if (!display || display === 'none') {{\n",
              "            console.log([gd, 'removed!']);\n",
              "            Plotly.purge(gd);\n",
              "            observer.disconnect();\n",
              "        }}\n",
              "}});\n",
              "\n",
              "// Listen for the removal of the full notebook cells\n",
              "var notebookContainer = gd.closest('#notebook-container');\n",
              "if (notebookContainer) {{\n",
              "    x.observe(notebookContainer, {childList: true});\n",
              "}}\n",
              "\n",
              "// Listen for the clearing of the current output cell\n",
              "var outputEl = gd.closest('.output');\n",
              "if (outputEl) {{\n",
              "    x.observe(outputEl, {childList: true});\n",
              "}}\n",
              "\n",
              "                        })\n",
              "                };\n",
              "                \n",
              "            </script>\n",
              "        </div>\n",
              "</body>\n",
              "</html>"
            ]
          },
          "metadata": {}
        }
      ]
    },
    {
      "cell_type": "code",
      "metadata": {
        "colab": {
          "base_uri": "https://localhost:8080/"
        },
        "id": "G0x4g8JZ0Lya",
        "outputId": "a037f7b5-4d26-40f8-bddd-b7f42476a868"
      },
      "source": [
        "cc_maior_1_fraud = df_fraud.query('qnt_cc_total >= 1')['qnt_cc_total'].value_counts().sum()\n",
        "cc_maior_0_fraud = df_fraud.query('qnt_cc_total == 0')['qnt_cc_total'].value_counts().sum()\n",
        "cc_maior_1_fraud, cc_maior_0_fraud"
      ],
      "execution_count": 48,
      "outputs": [
        {
          "output_type": "execute_result",
          "data": {
            "text/plain": [
              "(0, 142)"
            ]
          },
          "metadata": {},
          "execution_count": 48
        }
      ]
    },
    {
      "cell_type": "markdown",
      "metadata": {
        "id": "7nwqA8b30MPT"
      },
      "source": [
        "##Boletos Estornados"
      ]
    },
    {
      "cell_type": "code",
      "metadata": {
        "colab": {
          "base_uri": "https://localhost:8080/"
        },
        "id": "H6cseSdhFZnG",
        "outputId": "f1e035d4-8f73-4f6a-ccf4-895c49833481"
      },
      "source": [
        "df_fraud['qtd_boleto_estorno'].value_counts(normalize=True)"
      ],
      "execution_count": 49,
      "outputs": [
        {
          "output_type": "execute_result",
          "data": {
            "text/plain": [
              "0    0.471831\n",
              "4    0.183099\n",
              "1    0.119718\n",
              "2    0.105634\n",
              "6    0.049296\n",
              "5    0.028169\n",
              "8    0.014085\n",
              "3    0.014085\n",
              "9    0.007042\n",
              "7    0.007042\n",
              "Name: qtd_boleto_estorno, dtype: float64"
            ]
          },
          "metadata": {},
          "execution_count": 49
        }
      ]
    },
    {
      "cell_type": "code",
      "metadata": {
        "colab": {
          "base_uri": "https://localhost:8080/"
        },
        "id": "BpAf4DyFu0Xw",
        "outputId": "df69e8ae-de06-4528-9a97-24ba83de1283"
      },
      "source": [
        "Qtd_estorno_maior_1_fraud = df_fraud.query('qtd_boleto_estorno >= 1')['qtd_boleto_estorno'].value_counts().sum()\n",
        "Qtd_estorno_maior_0_fraud = df_fraud.query('qtd_boleto_estorno == 0')['qtd_boleto_estorno'].value_counts().sum()\n",
        "Qtd_estorno_maior_1_fraud, Qtd_estorno_maior_0_fraud"
      ],
      "execution_count": 50,
      "outputs": [
        {
          "output_type": "execute_result",
          "data": {
            "text/plain": [
              "(75, 67)"
            ]
          },
          "metadata": {},
          "execution_count": 50
        }
      ]
    },
    {
      "cell_type": "code",
      "metadata": {
        "colab": {
          "base_uri": "https://localhost:8080/",
          "height": 467
        },
        "id": "pu0TMbooznPv",
        "outputId": "c333e781-34c2-44cd-f6c7-e2cc6801e78b"
      },
      "source": [
        "a = [Qtd_estorno_maior_1_fraud , Qtd_estorno_maior_0_fraud]\n",
        "fig = go.Figure(go.Bar (x = ['Maior que 1', 'Nenhum'],\n",
        "                        y = a,\n",
        "                        marker = dict(color = [color[0], color[1]],\n",
        ")),             \n",
        ")\n",
        "fig.update_layout(\n",
        "    title=\"\"\"Porcentagem de Boletos <b>Extornados</b><br>(Fraude)\n",
        "            \"\"\",\n",
        "    title_font_size=22,\n",
        "    font_size=13,\n",
        "    plot_bgcolor='white',\n",
        "    legend_x=0.99, legend_xanchor='right', legend_font_size=18,\n",
        "    hovermode='x',\n",
        "    bargap=0.15,\n",
        "    width=700, height=450\n",
        ")\n",
        "\n",
        "fig.update_xaxes(\n",
        "    mirror=True, ticks='outside', showline=True, linewidth=1, linecolor='gray')\n",
        "fig.update_yaxes(\n",
        "    mirror=True, ticks='outside', showline=True, linewidth=1, linecolor='grey',\n",
        "    )\n",
        "\n",
        "\n",
        "fig.update_xaxes(type = 'category', title = 'Estornos')\n",
        "fig.update_yaxes(title = 'Quantidade')\n",
        "fig.show()"
      ],
      "execution_count": 51,
      "outputs": [
        {
          "output_type": "display_data",
          "data": {
            "text/html": [
              "<html>\n",
              "<head><meta charset=\"utf-8\" /></head>\n",
              "<body>\n",
              "    <div>\n",
              "            <script src=\"https://cdnjs.cloudflare.com/ajax/libs/mathjax/2.7.5/MathJax.js?config=TeX-AMS-MML_SVG\"></script><script type=\"text/javascript\">if (window.MathJax) {MathJax.Hub.Config({SVG: {font: \"STIX-Web\"}});}</script>\n",
              "                <script type=\"text/javascript\">window.PlotlyConfig = {MathJaxConfig: 'local'};</script>\n",
              "        <script src=\"https://cdn.plot.ly/plotly-latest.min.js\"></script>    \n",
              "            <div id=\"6544f728-c5f1-4d29-b9db-d8dacc9b60f2\" class=\"plotly-graph-div\" style=\"height:450px; width:700px;\"></div>\n",
              "            <script type=\"text/javascript\">\n",
              "                \n",
              "                    window.PLOTLYENV=window.PLOTLYENV || {};\n",
              "                    \n",
              "                if (document.getElementById(\"6544f728-c5f1-4d29-b9db-d8dacc9b60f2\")) {\n",
              "                    Plotly.newPlot(\n",
              "                        '6544f728-c5f1-4d29-b9db-d8dacc9b60f2',\n",
              "                        [{\"marker\": {\"color\": [\"#87B738\", \"#283610\"]}, \"type\": \"bar\", \"x\": [\"Maior que 1\", \"Nenhum\"], \"y\": [75, 67]}],\n",
              "                        {\"bargap\": 0.15, \"font\": {\"size\": 13}, \"height\": 450, \"hovermode\": \"x\", \"legend\": {\"font\": {\"size\": 18}, \"x\": 0.99, \"xanchor\": \"right\"}, \"plot_bgcolor\": \"white\", \"template\": {\"data\": {\"bar\": [{\"error_x\": {\"color\": \"#2a3f5f\"}, \"error_y\": {\"color\": \"#2a3f5f\"}, \"marker\": {\"line\": {\"color\": \"#E5ECF6\", \"width\": 0.5}}, \"type\": \"bar\"}], \"barpolar\": [{\"marker\": {\"line\": {\"color\": \"#E5ECF6\", \"width\": 0.5}}, \"type\": \"barpolar\"}], \"carpet\": [{\"aaxis\": {\"endlinecolor\": \"#2a3f5f\", \"gridcolor\": \"white\", \"linecolor\": \"white\", \"minorgridcolor\": \"white\", \"startlinecolor\": \"#2a3f5f\"}, \"baxis\": {\"endlinecolor\": \"#2a3f5f\", \"gridcolor\": \"white\", \"linecolor\": \"white\", \"minorgridcolor\": \"white\", \"startlinecolor\": \"#2a3f5f\"}, \"type\": \"carpet\"}], \"choropleth\": [{\"colorbar\": {\"outlinewidth\": 0, \"ticks\": \"\"}, \"type\": \"choropleth\"}], \"contour\": [{\"colorbar\": {\"outlinewidth\": 0, \"ticks\": \"\"}, \"colorscale\": [[0.0, \"#0d0887\"], [0.1111111111111111, \"#46039f\"], [0.2222222222222222, \"#7201a8\"], [0.3333333333333333, \"#9c179e\"], [0.4444444444444444, \"#bd3786\"], [0.5555555555555556, \"#d8576b\"], [0.6666666666666666, \"#ed7953\"], [0.7777777777777778, \"#fb9f3a\"], [0.8888888888888888, \"#fdca26\"], [1.0, \"#f0f921\"]], \"type\": \"contour\"}], \"contourcarpet\": [{\"colorbar\": {\"outlinewidth\": 0, \"ticks\": \"\"}, \"type\": \"contourcarpet\"}], \"heatmap\": [{\"colorbar\": {\"outlinewidth\": 0, \"ticks\": \"\"}, \"colorscale\": [[0.0, \"#0d0887\"], [0.1111111111111111, \"#46039f\"], [0.2222222222222222, \"#7201a8\"], [0.3333333333333333, \"#9c179e\"], [0.4444444444444444, \"#bd3786\"], [0.5555555555555556, \"#d8576b\"], [0.6666666666666666, \"#ed7953\"], [0.7777777777777778, \"#fb9f3a\"], [0.8888888888888888, \"#fdca26\"], [1.0, \"#f0f921\"]], \"type\": \"heatmap\"}], \"heatmapgl\": [{\"colorbar\": {\"outlinewidth\": 0, \"ticks\": \"\"}, \"colorscale\": [[0.0, \"#0d0887\"], [0.1111111111111111, \"#46039f\"], [0.2222222222222222, \"#7201a8\"], [0.3333333333333333, \"#9c179e\"], [0.4444444444444444, \"#bd3786\"], [0.5555555555555556, \"#d8576b\"], [0.6666666666666666, \"#ed7953\"], [0.7777777777777778, \"#fb9f3a\"], [0.8888888888888888, \"#fdca26\"], [1.0, \"#f0f921\"]], \"type\": \"heatmapgl\"}], \"histogram\": [{\"marker\": {\"colorbar\": {\"outlinewidth\": 0, \"ticks\": \"\"}}, \"type\": \"histogram\"}], \"histogram2d\": [{\"colorbar\": {\"outlinewidth\": 0, \"ticks\": \"\"}, \"colorscale\": [[0.0, \"#0d0887\"], [0.1111111111111111, \"#46039f\"], [0.2222222222222222, \"#7201a8\"], [0.3333333333333333, \"#9c179e\"], [0.4444444444444444, \"#bd3786\"], [0.5555555555555556, \"#d8576b\"], [0.6666666666666666, \"#ed7953\"], [0.7777777777777778, \"#fb9f3a\"], [0.8888888888888888, \"#fdca26\"], [1.0, \"#f0f921\"]], \"type\": \"histogram2d\"}], \"histogram2dcontour\": [{\"colorbar\": {\"outlinewidth\": 0, \"ticks\": \"\"}, \"colorscale\": [[0.0, \"#0d0887\"], [0.1111111111111111, \"#46039f\"], [0.2222222222222222, \"#7201a8\"], [0.3333333333333333, \"#9c179e\"], [0.4444444444444444, \"#bd3786\"], [0.5555555555555556, \"#d8576b\"], [0.6666666666666666, \"#ed7953\"], [0.7777777777777778, \"#fb9f3a\"], [0.8888888888888888, \"#fdca26\"], [1.0, \"#f0f921\"]], \"type\": \"histogram2dcontour\"}], \"mesh3d\": [{\"colorbar\": {\"outlinewidth\": 0, \"ticks\": \"\"}, \"type\": \"mesh3d\"}], \"parcoords\": [{\"line\": {\"colorbar\": {\"outlinewidth\": 0, \"ticks\": \"\"}}, \"type\": \"parcoords\"}], \"pie\": [{\"automargin\": true, \"type\": \"pie\"}], \"scatter\": [{\"marker\": {\"colorbar\": {\"outlinewidth\": 0, \"ticks\": \"\"}}, \"type\": \"scatter\"}], \"scatter3d\": [{\"line\": {\"colorbar\": {\"outlinewidth\": 0, \"ticks\": \"\"}}, \"marker\": {\"colorbar\": {\"outlinewidth\": 0, \"ticks\": \"\"}}, \"type\": \"scatter3d\"}], \"scattercarpet\": [{\"marker\": {\"colorbar\": {\"outlinewidth\": 0, \"ticks\": \"\"}}, \"type\": \"scattercarpet\"}], \"scattergeo\": [{\"marker\": {\"colorbar\": {\"outlinewidth\": 0, \"ticks\": \"\"}}, \"type\": \"scattergeo\"}], \"scattergl\": [{\"marker\": {\"colorbar\": {\"outlinewidth\": 0, \"ticks\": \"\"}}, \"type\": \"scattergl\"}], \"scattermapbox\": [{\"marker\": {\"colorbar\": {\"outlinewidth\": 0, \"ticks\": \"\"}}, \"type\": \"scattermapbox\"}], \"scatterpolar\": [{\"marker\": {\"colorbar\": {\"outlinewidth\": 0, \"ticks\": \"\"}}, \"type\": \"scatterpolar\"}], \"scatterpolargl\": [{\"marker\": {\"colorbar\": {\"outlinewidth\": 0, \"ticks\": \"\"}}, \"type\": \"scatterpolargl\"}], \"scatterternary\": [{\"marker\": {\"colorbar\": {\"outlinewidth\": 0, \"ticks\": \"\"}}, \"type\": \"scatterternary\"}], \"surface\": [{\"colorbar\": {\"outlinewidth\": 0, \"ticks\": \"\"}, \"colorscale\": [[0.0, \"#0d0887\"], [0.1111111111111111, \"#46039f\"], [0.2222222222222222, \"#7201a8\"], [0.3333333333333333, \"#9c179e\"], [0.4444444444444444, \"#bd3786\"], [0.5555555555555556, \"#d8576b\"], [0.6666666666666666, \"#ed7953\"], [0.7777777777777778, \"#fb9f3a\"], [0.8888888888888888, \"#fdca26\"], [1.0, \"#f0f921\"]], \"type\": \"surface\"}], \"table\": [{\"cells\": {\"fill\": {\"color\": \"#EBF0F8\"}, \"line\": {\"color\": \"white\"}}, \"header\": {\"fill\": {\"color\": \"#C8D4E3\"}, \"line\": {\"color\": \"white\"}}, \"type\": \"table\"}]}, \"layout\": {\"annotationdefaults\": {\"arrowcolor\": \"#2a3f5f\", \"arrowhead\": 0, \"arrowwidth\": 1}, \"coloraxis\": {\"colorbar\": {\"outlinewidth\": 0, \"ticks\": \"\"}}, \"colorscale\": {\"diverging\": [[0, \"#8e0152\"], [0.1, \"#c51b7d\"], [0.2, \"#de77ae\"], [0.3, \"#f1b6da\"], [0.4, \"#fde0ef\"], [0.5, \"#f7f7f7\"], [0.6, \"#e6f5d0\"], [0.7, \"#b8e186\"], [0.8, \"#7fbc41\"], [0.9, \"#4d9221\"], [1, \"#276419\"]], \"sequential\": [[0.0, \"#0d0887\"], [0.1111111111111111, \"#46039f\"], [0.2222222222222222, \"#7201a8\"], [0.3333333333333333, \"#9c179e\"], [0.4444444444444444, \"#bd3786\"], [0.5555555555555556, \"#d8576b\"], [0.6666666666666666, \"#ed7953\"], [0.7777777777777778, \"#fb9f3a\"], [0.8888888888888888, \"#fdca26\"], [1.0, \"#f0f921\"]], \"sequentialminus\": [[0.0, \"#0d0887\"], [0.1111111111111111, \"#46039f\"], [0.2222222222222222, \"#7201a8\"], [0.3333333333333333, \"#9c179e\"], [0.4444444444444444, \"#bd3786\"], [0.5555555555555556, \"#d8576b\"], [0.6666666666666666, \"#ed7953\"], [0.7777777777777778, \"#fb9f3a\"], [0.8888888888888888, \"#fdca26\"], [1.0, \"#f0f921\"]]}, \"colorway\": [\"#636efa\", \"#EF553B\", \"#00cc96\", \"#ab63fa\", \"#FFA15A\", \"#19d3f3\", \"#FF6692\", \"#B6E880\", \"#FF97FF\", \"#FECB52\"], \"font\": {\"color\": \"#2a3f5f\"}, \"geo\": {\"bgcolor\": \"white\", \"lakecolor\": \"white\", \"landcolor\": \"#E5ECF6\", \"showlakes\": true, \"showland\": true, \"subunitcolor\": \"white\"}, \"hoverlabel\": {\"align\": \"left\"}, \"hovermode\": \"closest\", \"mapbox\": {\"style\": \"light\"}, \"paper_bgcolor\": \"white\", \"plot_bgcolor\": \"#E5ECF6\", \"polar\": {\"angularaxis\": {\"gridcolor\": \"white\", \"linecolor\": \"white\", \"ticks\": \"\"}, \"bgcolor\": \"#E5ECF6\", \"radialaxis\": {\"gridcolor\": \"white\", \"linecolor\": \"white\", \"ticks\": \"\"}}, \"scene\": {\"xaxis\": {\"backgroundcolor\": \"#E5ECF6\", \"gridcolor\": \"white\", \"gridwidth\": 2, \"linecolor\": \"white\", \"showbackground\": true, \"ticks\": \"\", \"zerolinecolor\": \"white\"}, \"yaxis\": {\"backgroundcolor\": \"#E5ECF6\", \"gridcolor\": \"white\", \"gridwidth\": 2, \"linecolor\": \"white\", \"showbackground\": true, \"ticks\": \"\", \"zerolinecolor\": \"white\"}, \"zaxis\": {\"backgroundcolor\": \"#E5ECF6\", \"gridcolor\": \"white\", \"gridwidth\": 2, \"linecolor\": \"white\", \"showbackground\": true, \"ticks\": \"\", \"zerolinecolor\": \"white\"}}, \"shapedefaults\": {\"line\": {\"color\": \"#2a3f5f\"}}, \"ternary\": {\"aaxis\": {\"gridcolor\": \"white\", \"linecolor\": \"white\", \"ticks\": \"\"}, \"baxis\": {\"gridcolor\": \"white\", \"linecolor\": \"white\", \"ticks\": \"\"}, \"bgcolor\": \"#E5ECF6\", \"caxis\": {\"gridcolor\": \"white\", \"linecolor\": \"white\", \"ticks\": \"\"}}, \"title\": {\"x\": 0.05}, \"xaxis\": {\"automargin\": true, \"gridcolor\": \"white\", \"linecolor\": \"white\", \"ticks\": \"\", \"title\": {\"standoff\": 15}, \"zerolinecolor\": \"white\", \"zerolinewidth\": 2}, \"yaxis\": {\"automargin\": true, \"gridcolor\": \"white\", \"linecolor\": \"white\", \"ticks\": \"\", \"title\": {\"standoff\": 15}, \"zerolinecolor\": \"white\", \"zerolinewidth\": 2}}}, \"title\": {\"font\": {\"size\": 22}, \"text\": \"Porcentagem de Boletos <b>Extornados</b><br>(Fraude)\\n            \"}, \"width\": 700, \"xaxis\": {\"linecolor\": \"gray\", \"linewidth\": 1, \"mirror\": true, \"showline\": true, \"ticks\": \"outside\", \"title\": {\"text\": \"Estornos\"}, \"type\": \"category\"}, \"yaxis\": {\"linecolor\": \"grey\", \"linewidth\": 1, \"mirror\": true, \"showline\": true, \"ticks\": \"outside\", \"title\": {\"text\": \"Quantidade\"}}},\n",
              "                        {\"responsive\": true}\n",
              "                    ).then(function(){\n",
              "                            \n",
              "var gd = document.getElementById('6544f728-c5f1-4d29-b9db-d8dacc9b60f2');\n",
              "var x = new MutationObserver(function (mutations, observer) {{\n",
              "        var display = window.getComputedStyle(gd).display;\n",
              "        if (!display || display === 'none') {{\n",
              "            console.log([gd, 'removed!']);\n",
              "            Plotly.purge(gd);\n",
              "            observer.disconnect();\n",
              "        }}\n",
              "}});\n",
              "\n",
              "// Listen for the removal of the full notebook cells\n",
              "var notebookContainer = gd.closest('#notebook-container');\n",
              "if (notebookContainer) {{\n",
              "    x.observe(notebookContainer, {childList: true});\n",
              "}}\n",
              "\n",
              "// Listen for the clearing of the current output cell\n",
              "var outputEl = gd.closest('.output');\n",
              "if (outputEl) {{\n",
              "    x.observe(outputEl, {childList: true});\n",
              "}}\n",
              "\n",
              "                        })\n",
              "                };\n",
              "                \n",
              "            </script>\n",
              "        </div>\n",
              "</body>\n",
              "</html>"
            ]
          },
          "metadata": {}
        }
      ]
    },
    {
      "cell_type": "code",
      "metadata": {
        "colab": {
          "base_uri": "https://localhost:8080/"
        },
        "id": "i-XQ2mhpvw7n",
        "outputId": "d5ceb505-2259-4631-a305-590e39694189"
      },
      "source": [
        "Qtd_estorno_maior_1 = df_no_fraud.query('qtd_boleto_estorno >= 1')['qtd_boleto_estorno'].value_counts().sum()\n",
        "Qtd_estorno_maior_0 = df_no_fraud.query('qtd_boleto_estorno == 0')['qtd_boleto_estorno'].value_counts().sum()\n",
        "Qtd_estorno_maior_1, Qtd_estorno_maior_0"
      ],
      "execution_count": 52,
      "outputs": [
        {
          "output_type": "execute_result",
          "data": {
            "text/plain": [
              "(35, 5571)"
            ]
          },
          "metadata": {},
          "execution_count": 52
        }
      ]
    },
    {
      "cell_type": "code",
      "metadata": {
        "colab": {
          "base_uri": "https://localhost:8080/",
          "height": 467
        },
        "id": "SIii6PgVw_WH",
        "outputId": "f9aa74a4-6efd-49b4-aa69-c32fa8f7fa21"
      },
      "source": [
        "a = [Qtd_estorno_maior_1 , Qtd_estorno_maior_0]\n",
        "fig = go.Figure(go.Bar (x = ['Maior que 1', 'Nenhum'],\n",
        "                        y = a,\n",
        "                        marker = dict(color = [color[0], color[1]],\n",
        ")),             \n",
        ")\n",
        "fig.update_layout(\n",
        "    title=\"\"\"Porcentagem de Boletos <b>Extornados</b><br>(Não Fraude)\n",
        "            \"\"\",\n",
        "    title_font_size=22,\n",
        "    font_size=13,\n",
        "    plot_bgcolor='white',\n",
        "    legend_x=0.99, legend_xanchor='right', legend_font_size=18,\n",
        "    hovermode='x',\n",
        "    bargap=0.15,\n",
        "    width=700, height=450\n",
        ")\n",
        "\n",
        "fig.update_xaxes(\n",
        "    mirror=True, ticks='outside', showline=True, linewidth=1, linecolor='gray')\n",
        "fig.update_yaxes(\n",
        "    mirror=True, ticks='outside', showline=True, linewidth=1, linecolor='grey',\n",
        "    )\n",
        "\n",
        "\n",
        "fig.update_xaxes(type = 'category', title = 'Estornos')\n",
        "fig.update_yaxes(title = 'Quantidade')\n",
        "fig.show()"
      ],
      "execution_count": 53,
      "outputs": [
        {
          "output_type": "display_data",
          "data": {
            "text/html": [
              "<html>\n",
              "<head><meta charset=\"utf-8\" /></head>\n",
              "<body>\n",
              "    <div>\n",
              "            <script src=\"https://cdnjs.cloudflare.com/ajax/libs/mathjax/2.7.5/MathJax.js?config=TeX-AMS-MML_SVG\"></script><script type=\"text/javascript\">if (window.MathJax) {MathJax.Hub.Config({SVG: {font: \"STIX-Web\"}});}</script>\n",
              "                <script type=\"text/javascript\">window.PlotlyConfig = {MathJaxConfig: 'local'};</script>\n",
              "        <script src=\"https://cdn.plot.ly/plotly-latest.min.js\"></script>    \n",
              "            <div id=\"beddd28a-03e1-4104-924c-7bc4e4a2a14c\" class=\"plotly-graph-div\" style=\"height:450px; width:700px;\"></div>\n",
              "            <script type=\"text/javascript\">\n",
              "                \n",
              "                    window.PLOTLYENV=window.PLOTLYENV || {};\n",
              "                    \n",
              "                if (document.getElementById(\"beddd28a-03e1-4104-924c-7bc4e4a2a14c\")) {\n",
              "                    Plotly.newPlot(\n",
              "                        'beddd28a-03e1-4104-924c-7bc4e4a2a14c',\n",
              "                        [{\"marker\": {\"color\": [\"#87B738\", \"#283610\"]}, \"type\": \"bar\", \"x\": [\"Maior que 1\", \"Nenhum\"], \"y\": [35, 5571]}],\n",
              "                        {\"bargap\": 0.15, \"font\": {\"size\": 13}, \"height\": 450, \"hovermode\": \"x\", \"legend\": {\"font\": {\"size\": 18}, \"x\": 0.99, \"xanchor\": \"right\"}, \"plot_bgcolor\": \"white\", \"template\": {\"data\": {\"bar\": [{\"error_x\": {\"color\": \"#2a3f5f\"}, \"error_y\": {\"color\": \"#2a3f5f\"}, \"marker\": {\"line\": {\"color\": \"#E5ECF6\", \"width\": 0.5}}, \"type\": \"bar\"}], \"barpolar\": [{\"marker\": {\"line\": {\"color\": \"#E5ECF6\", \"width\": 0.5}}, \"type\": \"barpolar\"}], \"carpet\": [{\"aaxis\": {\"endlinecolor\": \"#2a3f5f\", \"gridcolor\": \"white\", \"linecolor\": \"white\", \"minorgridcolor\": \"white\", \"startlinecolor\": \"#2a3f5f\"}, \"baxis\": {\"endlinecolor\": \"#2a3f5f\", \"gridcolor\": \"white\", \"linecolor\": \"white\", \"minorgridcolor\": \"white\", \"startlinecolor\": \"#2a3f5f\"}, \"type\": \"carpet\"}], \"choropleth\": [{\"colorbar\": {\"outlinewidth\": 0, \"ticks\": \"\"}, \"type\": \"choropleth\"}], \"contour\": [{\"colorbar\": {\"outlinewidth\": 0, \"ticks\": \"\"}, \"colorscale\": [[0.0, \"#0d0887\"], [0.1111111111111111, \"#46039f\"], [0.2222222222222222, \"#7201a8\"], [0.3333333333333333, \"#9c179e\"], [0.4444444444444444, \"#bd3786\"], [0.5555555555555556, \"#d8576b\"], [0.6666666666666666, \"#ed7953\"], [0.7777777777777778, \"#fb9f3a\"], [0.8888888888888888, \"#fdca26\"], [1.0, \"#f0f921\"]], \"type\": \"contour\"}], \"contourcarpet\": [{\"colorbar\": {\"outlinewidth\": 0, \"ticks\": \"\"}, \"type\": \"contourcarpet\"}], \"heatmap\": [{\"colorbar\": {\"outlinewidth\": 0, \"ticks\": \"\"}, \"colorscale\": [[0.0, \"#0d0887\"], [0.1111111111111111, \"#46039f\"], [0.2222222222222222, \"#7201a8\"], [0.3333333333333333, \"#9c179e\"], [0.4444444444444444, \"#bd3786\"], [0.5555555555555556, \"#d8576b\"], [0.6666666666666666, \"#ed7953\"], [0.7777777777777778, \"#fb9f3a\"], [0.8888888888888888, \"#fdca26\"], [1.0, \"#f0f921\"]], \"type\": \"heatmap\"}], \"heatmapgl\": [{\"colorbar\": {\"outlinewidth\": 0, \"ticks\": \"\"}, \"colorscale\": [[0.0, \"#0d0887\"], [0.1111111111111111, \"#46039f\"], [0.2222222222222222, \"#7201a8\"], [0.3333333333333333, \"#9c179e\"], [0.4444444444444444, \"#bd3786\"], [0.5555555555555556, \"#d8576b\"], [0.6666666666666666, \"#ed7953\"], [0.7777777777777778, \"#fb9f3a\"], [0.8888888888888888, \"#fdca26\"], [1.0, \"#f0f921\"]], \"type\": \"heatmapgl\"}], \"histogram\": [{\"marker\": {\"colorbar\": {\"outlinewidth\": 0, \"ticks\": \"\"}}, \"type\": \"histogram\"}], \"histogram2d\": [{\"colorbar\": {\"outlinewidth\": 0, \"ticks\": \"\"}, \"colorscale\": [[0.0, \"#0d0887\"], [0.1111111111111111, \"#46039f\"], [0.2222222222222222, \"#7201a8\"], [0.3333333333333333, \"#9c179e\"], [0.4444444444444444, \"#bd3786\"], [0.5555555555555556, \"#d8576b\"], [0.6666666666666666, \"#ed7953\"], [0.7777777777777778, \"#fb9f3a\"], [0.8888888888888888, \"#fdca26\"], [1.0, \"#f0f921\"]], \"type\": \"histogram2d\"}], \"histogram2dcontour\": [{\"colorbar\": {\"outlinewidth\": 0, \"ticks\": \"\"}, \"colorscale\": [[0.0, \"#0d0887\"], [0.1111111111111111, \"#46039f\"], [0.2222222222222222, \"#7201a8\"], [0.3333333333333333, \"#9c179e\"], [0.4444444444444444, \"#bd3786\"], [0.5555555555555556, \"#d8576b\"], [0.6666666666666666, \"#ed7953\"], [0.7777777777777778, \"#fb9f3a\"], [0.8888888888888888, \"#fdca26\"], [1.0, \"#f0f921\"]], \"type\": \"histogram2dcontour\"}], \"mesh3d\": [{\"colorbar\": {\"outlinewidth\": 0, \"ticks\": \"\"}, \"type\": \"mesh3d\"}], \"parcoords\": [{\"line\": {\"colorbar\": {\"outlinewidth\": 0, \"ticks\": \"\"}}, \"type\": \"parcoords\"}], \"pie\": [{\"automargin\": true, \"type\": \"pie\"}], \"scatter\": [{\"marker\": {\"colorbar\": {\"outlinewidth\": 0, \"ticks\": \"\"}}, \"type\": \"scatter\"}], \"scatter3d\": [{\"line\": {\"colorbar\": {\"outlinewidth\": 0, \"ticks\": \"\"}}, \"marker\": {\"colorbar\": {\"outlinewidth\": 0, \"ticks\": \"\"}}, \"type\": \"scatter3d\"}], \"scattercarpet\": [{\"marker\": {\"colorbar\": {\"outlinewidth\": 0, \"ticks\": \"\"}}, \"type\": \"scattercarpet\"}], \"scattergeo\": [{\"marker\": {\"colorbar\": {\"outlinewidth\": 0, \"ticks\": \"\"}}, \"type\": \"scattergeo\"}], \"scattergl\": [{\"marker\": {\"colorbar\": {\"outlinewidth\": 0, \"ticks\": \"\"}}, \"type\": \"scattergl\"}], \"scattermapbox\": [{\"marker\": {\"colorbar\": {\"outlinewidth\": 0, \"ticks\": \"\"}}, \"type\": \"scattermapbox\"}], \"scatterpolar\": [{\"marker\": {\"colorbar\": {\"outlinewidth\": 0, \"ticks\": \"\"}}, \"type\": \"scatterpolar\"}], \"scatterpolargl\": [{\"marker\": {\"colorbar\": {\"outlinewidth\": 0, \"ticks\": \"\"}}, \"type\": \"scatterpolargl\"}], \"scatterternary\": [{\"marker\": {\"colorbar\": {\"outlinewidth\": 0, \"ticks\": \"\"}}, \"type\": \"scatterternary\"}], \"surface\": [{\"colorbar\": {\"outlinewidth\": 0, \"ticks\": \"\"}, \"colorscale\": [[0.0, \"#0d0887\"], [0.1111111111111111, \"#46039f\"], [0.2222222222222222, \"#7201a8\"], [0.3333333333333333, \"#9c179e\"], [0.4444444444444444, \"#bd3786\"], [0.5555555555555556, \"#d8576b\"], [0.6666666666666666, \"#ed7953\"], [0.7777777777777778, \"#fb9f3a\"], [0.8888888888888888, \"#fdca26\"], [1.0, \"#f0f921\"]], \"type\": \"surface\"}], \"table\": [{\"cells\": {\"fill\": {\"color\": \"#EBF0F8\"}, \"line\": {\"color\": \"white\"}}, \"header\": {\"fill\": {\"color\": \"#C8D4E3\"}, \"line\": {\"color\": \"white\"}}, \"type\": \"table\"}]}, \"layout\": {\"annotationdefaults\": {\"arrowcolor\": \"#2a3f5f\", \"arrowhead\": 0, \"arrowwidth\": 1}, \"coloraxis\": {\"colorbar\": {\"outlinewidth\": 0, \"ticks\": \"\"}}, \"colorscale\": {\"diverging\": [[0, \"#8e0152\"], [0.1, \"#c51b7d\"], [0.2, \"#de77ae\"], [0.3, \"#f1b6da\"], [0.4, \"#fde0ef\"], [0.5, \"#f7f7f7\"], [0.6, \"#e6f5d0\"], [0.7, \"#b8e186\"], [0.8, \"#7fbc41\"], [0.9, \"#4d9221\"], [1, \"#276419\"]], \"sequential\": [[0.0, \"#0d0887\"], [0.1111111111111111, \"#46039f\"], [0.2222222222222222, \"#7201a8\"], [0.3333333333333333, \"#9c179e\"], [0.4444444444444444, \"#bd3786\"], [0.5555555555555556, \"#d8576b\"], [0.6666666666666666, \"#ed7953\"], [0.7777777777777778, \"#fb9f3a\"], [0.8888888888888888, \"#fdca26\"], [1.0, \"#f0f921\"]], \"sequentialminus\": [[0.0, \"#0d0887\"], [0.1111111111111111, \"#46039f\"], [0.2222222222222222, \"#7201a8\"], [0.3333333333333333, \"#9c179e\"], [0.4444444444444444, \"#bd3786\"], [0.5555555555555556, \"#d8576b\"], [0.6666666666666666, \"#ed7953\"], [0.7777777777777778, \"#fb9f3a\"], [0.8888888888888888, \"#fdca26\"], [1.0, \"#f0f921\"]]}, \"colorway\": [\"#636efa\", \"#EF553B\", \"#00cc96\", \"#ab63fa\", \"#FFA15A\", \"#19d3f3\", \"#FF6692\", \"#B6E880\", \"#FF97FF\", \"#FECB52\"], \"font\": {\"color\": \"#2a3f5f\"}, \"geo\": {\"bgcolor\": \"white\", \"lakecolor\": \"white\", \"landcolor\": \"#E5ECF6\", \"showlakes\": true, \"showland\": true, \"subunitcolor\": \"white\"}, \"hoverlabel\": {\"align\": \"left\"}, \"hovermode\": \"closest\", \"mapbox\": {\"style\": \"light\"}, \"paper_bgcolor\": \"white\", \"plot_bgcolor\": \"#E5ECF6\", \"polar\": {\"angularaxis\": {\"gridcolor\": \"white\", \"linecolor\": \"white\", \"ticks\": \"\"}, \"bgcolor\": \"#E5ECF6\", \"radialaxis\": {\"gridcolor\": \"white\", \"linecolor\": \"white\", \"ticks\": \"\"}}, \"scene\": {\"xaxis\": {\"backgroundcolor\": \"#E5ECF6\", \"gridcolor\": \"white\", \"gridwidth\": 2, \"linecolor\": \"white\", \"showbackground\": true, \"ticks\": \"\", \"zerolinecolor\": \"white\"}, \"yaxis\": {\"backgroundcolor\": \"#E5ECF6\", \"gridcolor\": \"white\", \"gridwidth\": 2, \"linecolor\": \"white\", \"showbackground\": true, \"ticks\": \"\", \"zerolinecolor\": \"white\"}, \"zaxis\": {\"backgroundcolor\": \"#E5ECF6\", \"gridcolor\": \"white\", \"gridwidth\": 2, \"linecolor\": \"white\", \"showbackground\": true, \"ticks\": \"\", \"zerolinecolor\": \"white\"}}, \"shapedefaults\": {\"line\": {\"color\": \"#2a3f5f\"}}, \"ternary\": {\"aaxis\": {\"gridcolor\": \"white\", \"linecolor\": \"white\", \"ticks\": \"\"}, \"baxis\": {\"gridcolor\": \"white\", \"linecolor\": \"white\", \"ticks\": \"\"}, \"bgcolor\": \"#E5ECF6\", \"caxis\": {\"gridcolor\": \"white\", \"linecolor\": \"white\", \"ticks\": \"\"}}, \"title\": {\"x\": 0.05}, \"xaxis\": {\"automargin\": true, \"gridcolor\": \"white\", \"linecolor\": \"white\", \"ticks\": \"\", \"title\": {\"standoff\": 15}, \"zerolinecolor\": \"white\", \"zerolinewidth\": 2}, \"yaxis\": {\"automargin\": true, \"gridcolor\": \"white\", \"linecolor\": \"white\", \"ticks\": \"\", \"title\": {\"standoff\": 15}, \"zerolinecolor\": \"white\", \"zerolinewidth\": 2}}}, \"title\": {\"font\": {\"size\": 22}, \"text\": \"Porcentagem de Boletos <b>Extornados</b><br>(N\\u00e3o Fraude)\\n            \"}, \"width\": 700, \"xaxis\": {\"linecolor\": \"gray\", \"linewidth\": 1, \"mirror\": true, \"showline\": true, \"ticks\": \"outside\", \"title\": {\"text\": \"Estornos\"}, \"type\": \"category\"}, \"yaxis\": {\"linecolor\": \"grey\", \"linewidth\": 1, \"mirror\": true, \"showline\": true, \"ticks\": \"outside\", \"title\": {\"text\": \"Quantidade\"}}},\n",
              "                        {\"responsive\": true}\n",
              "                    ).then(function(){\n",
              "                            \n",
              "var gd = document.getElementById('beddd28a-03e1-4104-924c-7bc4e4a2a14c');\n",
              "var x = new MutationObserver(function (mutations, observer) {{\n",
              "        var display = window.getComputedStyle(gd).display;\n",
              "        if (!display || display === 'none') {{\n",
              "            console.log([gd, 'removed!']);\n",
              "            Plotly.purge(gd);\n",
              "            observer.disconnect();\n",
              "        }}\n",
              "}});\n",
              "\n",
              "// Listen for the removal of the full notebook cells\n",
              "var notebookContainer = gd.closest('#notebook-container');\n",
              "if (notebookContainer) {{\n",
              "    x.observe(notebookContainer, {childList: true});\n",
              "}}\n",
              "\n",
              "// Listen for the clearing of the current output cell\n",
              "var outputEl = gd.closest('.output');\n",
              "if (outputEl) {{\n",
              "    x.observe(outputEl, {childList: true});\n",
              "}}\n",
              "\n",
              "                        })\n",
              "                };\n",
              "                \n",
              "            </script>\n",
              "        </div>\n",
              "</body>\n",
              "</html>"
            ]
          },
          "metadata": {}
        }
      ]
    },
    {
      "cell_type": "code",
      "metadata": {
        "colab": {
          "base_uri": "https://localhost:8080/"
        },
        "id": "LLdTqzVnHLxw",
        "outputId": "72b39a81-d5f3-4d57-e8bf-e4080e7469f8"
      },
      "source": [
        "df_fraud['mes_ref'].value_counts(normalize=True)"
      ],
      "execution_count": 54,
      "outputs": [
        {
          "output_type": "execute_result",
          "data": {
            "text/plain": [
              "01/09/2020    0.309859\n",
              "01/01/2021    0.197183\n",
              "01/02/2021    0.190141\n",
              "01/12/2020    0.105634\n",
              "01/11/2020    0.063380\n",
              "01/10/2020    0.049296\n",
              "01/08/2020    0.042254\n",
              "01/03/2021    0.035211\n",
              "01/05/2020    0.007042\n",
              "Name: mes_ref, dtype: float64"
            ]
          },
          "metadata": {},
          "execution_count": 54
        }
      ]
    },
    {
      "cell_type": "code",
      "metadata": {
        "colab": {
          "base_uri": "https://localhost:8080/"
        },
        "id": "MSBbN1ieF39R",
        "outputId": "11350a51-5b37-41e5-88be-12348779b05a"
      },
      "source": [
        "df_no_fraud['qtd_boleto_pago'].value_counts(normalize=True)"
      ],
      "execution_count": 55,
      "outputs": [
        {
          "output_type": "execute_result",
          "data": {
            "text/plain": [
              "1      0.313949\n",
              "0      0.280949\n",
              "2      0.120050\n",
              "3      0.061184\n",
              "4      0.040492\n",
              "         ...   \n",
              "109    0.000178\n",
              "89     0.000178\n",
              "77     0.000178\n",
              "73     0.000178\n",
              "171    0.000178\n",
              "Name: qtd_boleto_pago, Length: 105, dtype: float64"
            ]
          },
          "metadata": {},
          "execution_count": 55
        }
      ]
    },
    {
      "cell_type": "code",
      "metadata": {
        "colab": {
          "base_uri": "https://localhost:8080/"
        },
        "id": "gRtiRhIsGTZA",
        "outputId": "a14c5763-79ce-4656-8655-3690e3207d94"
      },
      "source": [
        "df_fraud['qtd_boleto_pago'].value_counts(normalize=True)"
      ],
      "execution_count": 56,
      "outputs": [
        {
          "output_type": "execute_result",
          "data": {
            "text/plain": [
              "0     0.894366\n",
              "1     0.063380\n",
              "2     0.014085\n",
              "24    0.007042\n",
              "14    0.007042\n",
              "8     0.007042\n",
              "5     0.007042\n",
              "Name: qtd_boleto_pago, dtype: float64"
            ]
          },
          "metadata": {},
          "execution_count": 56
        }
      ]
    },
    {
      "cell_type": "code",
      "metadata": {
        "colab": {
          "base_uri": "https://localhost:8080/"
        },
        "id": "w6EI9MOPAxzZ",
        "outputId": "68848ae1-97ae-4ddb-b6f7-38ff1c6a2b0e"
      },
      "source": [
        "df_no_fraud['tipo_doc'].value_counts(normalize=True)"
      ],
      "execution_count": 57,
      "outputs": [
        {
          "output_type": "execute_result",
          "data": {
            "text/plain": [
              "cnpj    0.71031\n",
              "cpf     0.28969\n",
              "Name: tipo_doc, dtype: float64"
            ]
          },
          "metadata": {},
          "execution_count": 57
        }
      ]
    },
    {
      "cell_type": "code",
      "metadata": {
        "colab": {
          "base_uri": "https://localhost:8080/"
        },
        "id": "mjm4xm3_AQc_",
        "outputId": "7d6e369b-192b-43f8-c153-34cced784f01"
      },
      "source": [
        "df_fraud['tipo_doc'].value_counts(normalize=True)"
      ],
      "execution_count": 58,
      "outputs": [
        {
          "output_type": "execute_result",
          "data": {
            "text/plain": [
              "cpf     0.93662\n",
              "cnpj    0.06338\n",
              "Name: tipo_doc, dtype: float64"
            ]
          },
          "metadata": {},
          "execution_count": 58
        }
      ]
    },
    {
      "cell_type": "code",
      "metadata": {
        "colab": {
          "base_uri": "https://localhost:8080/"
        },
        "id": "0aDthhK_cRib",
        "outputId": "c64e45bd-e209-4288-e59c-52e334928a90"
      },
      "source": [
        "df_fraud.info()"
      ],
      "execution_count": 59,
      "outputs": [
        {
          "output_type": "stream",
          "name": "stdout",
          "text": [
            "<class 'pandas.core.frame.DataFrame'>\n",
            "Int64Index: 142 entries, 161 to 9272\n",
            "Data columns (total 14 columns):\n",
            " #   Column                Non-Null Count  Dtype  \n",
            "---  ------                --------------  -----  \n",
            " 0   mes_ref               142 non-null    object \n",
            " 1   company_id            142 non-null    object \n",
            " 2   tipo_doc              142 non-null    object \n",
            " 3   max_valor_boleto      142 non-null    float64\n",
            " 4   avg_valor_boleto      142 non-null    float64\n",
            " 5   total_valor_boleto    142 non-null    float64\n",
            " 6   valor_boleto_stdv     142 non-null    float64\n",
            " 7   qtd_boleto_pago       142 non-null    int64  \n",
            " 8   qtd_boleto_total      142 non-null    int64  \n",
            " 9   qtd_boleto_estorno    142 non-null    int64  \n",
            " 10  qnt_cc_total          142 non-null    int64  \n",
            " 11  tempo_credenciamento  142 non-null    int64  \n",
            " 12  conta_bnk_repetida    142 non-null    int64  \n",
            " 13  fraude                142 non-null    int64  \n",
            "dtypes: float64(4), int64(7), object(3)\n",
            "memory usage: 16.6+ KB\n"
          ]
        }
      ]
    },
    {
      "cell_type": "markdown",
      "metadata": {
        "id": "pIOvMgU1drfW"
      },
      "source": [
        "## Porcentagem de Fraude por Documento"
      ]
    },
    {
      "cell_type": "code",
      "metadata": {
        "colab": {
          "base_uri": "https://localhost:8080/",
          "height": 467
        },
        "id": "opZeT-N8AWLo",
        "outputId": "ef50a48f-f550-419d-add1-f53a58ab0a12"
      },
      "source": [
        "a = [df_fraud['tipo_doc'].value_counts(normalize=True)['cpf'], df_fraud['tipo_doc'].value_counts(normalize=True)['cnpj']]\n",
        "fig = go.Figure(go.Bar (x = ['CPF', 'CNPJ'],\n",
        "                        y = a,\n",
        "                        marker = dict(color = [color[0], color[1]],\n",
        ")),             \n",
        ")\n",
        "fig.update_layout(\n",
        "    title=\"\"\"Porcentagem de <b>Fraudes</b> por Documento\n",
        "            \"\"\",\n",
        "    title_font_size=22,\n",
        "    font_size=13,\n",
        "    plot_bgcolor='white',\n",
        "    legend_x=0.99, legend_xanchor='right', legend_font_size=18,\n",
        "    hovermode='x',\n",
        "    bargap=0.15,\n",
        "    yaxis_tickformat = '%',\n",
        "    width=700, height=450\n",
        ")\n",
        "\n",
        "fig.update_xaxes(\n",
        "    mirror=True, ticks='outside', showline=True, linewidth=1, linecolor='gray')\n",
        "fig.update_yaxes(\n",
        "    mirror=True, ticks='outside', showline=True, linewidth=1, linecolor='grey',\n",
        "    )\n",
        "\n",
        "fig.update_xaxes(type = 'category', title = 'Documento')\n",
        "fig.update_yaxes(title = 'Porcentagem')\n",
        "fig.show()"
      ],
      "execution_count": 60,
      "outputs": [
        {
          "output_type": "display_data",
          "data": {
            "text/html": [
              "<html>\n",
              "<head><meta charset=\"utf-8\" /></head>\n",
              "<body>\n",
              "    <div>\n",
              "            <script src=\"https://cdnjs.cloudflare.com/ajax/libs/mathjax/2.7.5/MathJax.js?config=TeX-AMS-MML_SVG\"></script><script type=\"text/javascript\">if (window.MathJax) {MathJax.Hub.Config({SVG: {font: \"STIX-Web\"}});}</script>\n",
              "                <script type=\"text/javascript\">window.PlotlyConfig = {MathJaxConfig: 'local'};</script>\n",
              "        <script src=\"https://cdn.plot.ly/plotly-latest.min.js\"></script>    \n",
              "            <div id=\"cae28ea1-943c-4586-93f2-073b36c377c7\" class=\"plotly-graph-div\" style=\"height:450px; width:700px;\"></div>\n",
              "            <script type=\"text/javascript\">\n",
              "                \n",
              "                    window.PLOTLYENV=window.PLOTLYENV || {};\n",
              "                    \n",
              "                if (document.getElementById(\"cae28ea1-943c-4586-93f2-073b36c377c7\")) {\n",
              "                    Plotly.newPlot(\n",
              "                        'cae28ea1-943c-4586-93f2-073b36c377c7',\n",
              "                        [{\"marker\": {\"color\": [\"#87B738\", \"#283610\"]}, \"type\": \"bar\", \"x\": [\"CPF\", \"CNPJ\"], \"y\": [0.9366197183098591, 0.06338028169014084]}],\n",
              "                        {\"bargap\": 0.15, \"font\": {\"size\": 13}, \"height\": 450, \"hovermode\": \"x\", \"legend\": {\"font\": {\"size\": 18}, \"x\": 0.99, \"xanchor\": \"right\"}, \"plot_bgcolor\": \"white\", \"template\": {\"data\": {\"bar\": [{\"error_x\": {\"color\": \"#2a3f5f\"}, \"error_y\": {\"color\": \"#2a3f5f\"}, \"marker\": {\"line\": {\"color\": \"#E5ECF6\", \"width\": 0.5}}, \"type\": \"bar\"}], \"barpolar\": [{\"marker\": {\"line\": {\"color\": \"#E5ECF6\", \"width\": 0.5}}, \"type\": \"barpolar\"}], \"carpet\": [{\"aaxis\": {\"endlinecolor\": \"#2a3f5f\", \"gridcolor\": \"white\", \"linecolor\": \"white\", \"minorgridcolor\": \"white\", \"startlinecolor\": \"#2a3f5f\"}, \"baxis\": {\"endlinecolor\": \"#2a3f5f\", \"gridcolor\": \"white\", \"linecolor\": \"white\", \"minorgridcolor\": \"white\", \"startlinecolor\": \"#2a3f5f\"}, \"type\": \"carpet\"}], \"choropleth\": [{\"colorbar\": {\"outlinewidth\": 0, \"ticks\": \"\"}, \"type\": \"choropleth\"}], \"contour\": [{\"colorbar\": {\"outlinewidth\": 0, \"ticks\": \"\"}, \"colorscale\": [[0.0, \"#0d0887\"], [0.1111111111111111, \"#46039f\"], [0.2222222222222222, \"#7201a8\"], [0.3333333333333333, \"#9c179e\"], [0.4444444444444444, \"#bd3786\"], [0.5555555555555556, \"#d8576b\"], [0.6666666666666666, \"#ed7953\"], [0.7777777777777778, \"#fb9f3a\"], [0.8888888888888888, \"#fdca26\"], [1.0, \"#f0f921\"]], \"type\": \"contour\"}], \"contourcarpet\": [{\"colorbar\": {\"outlinewidth\": 0, \"ticks\": \"\"}, \"type\": \"contourcarpet\"}], \"heatmap\": [{\"colorbar\": {\"outlinewidth\": 0, \"ticks\": \"\"}, \"colorscale\": [[0.0, \"#0d0887\"], [0.1111111111111111, \"#46039f\"], [0.2222222222222222, \"#7201a8\"], [0.3333333333333333, \"#9c179e\"], [0.4444444444444444, \"#bd3786\"], [0.5555555555555556, \"#d8576b\"], [0.6666666666666666, \"#ed7953\"], [0.7777777777777778, \"#fb9f3a\"], [0.8888888888888888, \"#fdca26\"], [1.0, \"#f0f921\"]], \"type\": \"heatmap\"}], \"heatmapgl\": [{\"colorbar\": {\"outlinewidth\": 0, \"ticks\": \"\"}, \"colorscale\": [[0.0, \"#0d0887\"], [0.1111111111111111, \"#46039f\"], [0.2222222222222222, \"#7201a8\"], [0.3333333333333333, \"#9c179e\"], [0.4444444444444444, \"#bd3786\"], [0.5555555555555556, \"#d8576b\"], [0.6666666666666666, \"#ed7953\"], [0.7777777777777778, \"#fb9f3a\"], [0.8888888888888888, \"#fdca26\"], [1.0, \"#f0f921\"]], \"type\": \"heatmapgl\"}], \"histogram\": [{\"marker\": {\"colorbar\": {\"outlinewidth\": 0, \"ticks\": \"\"}}, \"type\": \"histogram\"}], \"histogram2d\": [{\"colorbar\": {\"outlinewidth\": 0, \"ticks\": \"\"}, \"colorscale\": [[0.0, \"#0d0887\"], [0.1111111111111111, \"#46039f\"], [0.2222222222222222, \"#7201a8\"], [0.3333333333333333, \"#9c179e\"], [0.4444444444444444, \"#bd3786\"], [0.5555555555555556, \"#d8576b\"], [0.6666666666666666, \"#ed7953\"], [0.7777777777777778, \"#fb9f3a\"], [0.8888888888888888, \"#fdca26\"], [1.0, \"#f0f921\"]], \"type\": \"histogram2d\"}], \"histogram2dcontour\": [{\"colorbar\": {\"outlinewidth\": 0, \"ticks\": \"\"}, \"colorscale\": [[0.0, \"#0d0887\"], [0.1111111111111111, \"#46039f\"], [0.2222222222222222, \"#7201a8\"], [0.3333333333333333, \"#9c179e\"], [0.4444444444444444, \"#bd3786\"], [0.5555555555555556, \"#d8576b\"], [0.6666666666666666, \"#ed7953\"], [0.7777777777777778, \"#fb9f3a\"], [0.8888888888888888, \"#fdca26\"], [1.0, \"#f0f921\"]], \"type\": \"histogram2dcontour\"}], \"mesh3d\": [{\"colorbar\": {\"outlinewidth\": 0, \"ticks\": \"\"}, \"type\": \"mesh3d\"}], \"parcoords\": [{\"line\": {\"colorbar\": {\"outlinewidth\": 0, \"ticks\": \"\"}}, \"type\": \"parcoords\"}], \"pie\": [{\"automargin\": true, \"type\": \"pie\"}], \"scatter\": [{\"marker\": {\"colorbar\": {\"outlinewidth\": 0, \"ticks\": \"\"}}, \"type\": \"scatter\"}], \"scatter3d\": [{\"line\": {\"colorbar\": {\"outlinewidth\": 0, \"ticks\": \"\"}}, \"marker\": {\"colorbar\": {\"outlinewidth\": 0, \"ticks\": \"\"}}, \"type\": \"scatter3d\"}], \"scattercarpet\": [{\"marker\": {\"colorbar\": {\"outlinewidth\": 0, \"ticks\": \"\"}}, \"type\": \"scattercarpet\"}], \"scattergeo\": [{\"marker\": {\"colorbar\": {\"outlinewidth\": 0, \"ticks\": \"\"}}, \"type\": \"scattergeo\"}], \"scattergl\": [{\"marker\": {\"colorbar\": {\"outlinewidth\": 0, \"ticks\": \"\"}}, \"type\": \"scattergl\"}], \"scattermapbox\": [{\"marker\": {\"colorbar\": {\"outlinewidth\": 0, \"ticks\": \"\"}}, \"type\": \"scattermapbox\"}], \"scatterpolar\": [{\"marker\": {\"colorbar\": {\"outlinewidth\": 0, \"ticks\": \"\"}}, \"type\": \"scatterpolar\"}], \"scatterpolargl\": [{\"marker\": {\"colorbar\": {\"outlinewidth\": 0, \"ticks\": \"\"}}, \"type\": \"scatterpolargl\"}], \"scatterternary\": [{\"marker\": {\"colorbar\": {\"outlinewidth\": 0, \"ticks\": \"\"}}, \"type\": \"scatterternary\"}], \"surface\": [{\"colorbar\": {\"outlinewidth\": 0, \"ticks\": \"\"}, \"colorscale\": [[0.0, \"#0d0887\"], [0.1111111111111111, \"#46039f\"], [0.2222222222222222, \"#7201a8\"], [0.3333333333333333, \"#9c179e\"], [0.4444444444444444, \"#bd3786\"], [0.5555555555555556, \"#d8576b\"], [0.6666666666666666, \"#ed7953\"], [0.7777777777777778, \"#fb9f3a\"], [0.8888888888888888, \"#fdca26\"], [1.0, \"#f0f921\"]], \"type\": \"surface\"}], \"table\": [{\"cells\": {\"fill\": {\"color\": \"#EBF0F8\"}, \"line\": {\"color\": \"white\"}}, \"header\": {\"fill\": {\"color\": \"#C8D4E3\"}, \"line\": {\"color\": \"white\"}}, \"type\": \"table\"}]}, \"layout\": {\"annotationdefaults\": {\"arrowcolor\": \"#2a3f5f\", \"arrowhead\": 0, \"arrowwidth\": 1}, \"coloraxis\": {\"colorbar\": {\"outlinewidth\": 0, \"ticks\": \"\"}}, \"colorscale\": {\"diverging\": [[0, \"#8e0152\"], [0.1, \"#c51b7d\"], [0.2, \"#de77ae\"], [0.3, \"#f1b6da\"], [0.4, \"#fde0ef\"], [0.5, \"#f7f7f7\"], [0.6, \"#e6f5d0\"], [0.7, \"#b8e186\"], [0.8, \"#7fbc41\"], [0.9, \"#4d9221\"], [1, \"#276419\"]], \"sequential\": [[0.0, \"#0d0887\"], [0.1111111111111111, \"#46039f\"], [0.2222222222222222, \"#7201a8\"], [0.3333333333333333, \"#9c179e\"], [0.4444444444444444, \"#bd3786\"], [0.5555555555555556, \"#d8576b\"], [0.6666666666666666, \"#ed7953\"], [0.7777777777777778, \"#fb9f3a\"], [0.8888888888888888, \"#fdca26\"], [1.0, \"#f0f921\"]], \"sequentialminus\": [[0.0, \"#0d0887\"], [0.1111111111111111, \"#46039f\"], [0.2222222222222222, \"#7201a8\"], [0.3333333333333333, \"#9c179e\"], [0.4444444444444444, \"#bd3786\"], [0.5555555555555556, \"#d8576b\"], [0.6666666666666666, \"#ed7953\"], [0.7777777777777778, \"#fb9f3a\"], [0.8888888888888888, \"#fdca26\"], [1.0, \"#f0f921\"]]}, \"colorway\": [\"#636efa\", \"#EF553B\", \"#00cc96\", \"#ab63fa\", \"#FFA15A\", \"#19d3f3\", \"#FF6692\", \"#B6E880\", \"#FF97FF\", \"#FECB52\"], \"font\": {\"color\": \"#2a3f5f\"}, \"geo\": {\"bgcolor\": \"white\", \"lakecolor\": \"white\", \"landcolor\": \"#E5ECF6\", \"showlakes\": true, \"showland\": true, \"subunitcolor\": \"white\"}, \"hoverlabel\": {\"align\": \"left\"}, \"hovermode\": \"closest\", \"mapbox\": {\"style\": \"light\"}, \"paper_bgcolor\": \"white\", \"plot_bgcolor\": \"#E5ECF6\", \"polar\": {\"angularaxis\": {\"gridcolor\": \"white\", \"linecolor\": \"white\", \"ticks\": \"\"}, \"bgcolor\": \"#E5ECF6\", \"radialaxis\": {\"gridcolor\": \"white\", \"linecolor\": \"white\", \"ticks\": \"\"}}, \"scene\": {\"xaxis\": {\"backgroundcolor\": \"#E5ECF6\", \"gridcolor\": \"white\", \"gridwidth\": 2, \"linecolor\": \"white\", \"showbackground\": true, \"ticks\": \"\", \"zerolinecolor\": \"white\"}, \"yaxis\": {\"backgroundcolor\": \"#E5ECF6\", \"gridcolor\": \"white\", \"gridwidth\": 2, \"linecolor\": \"white\", \"showbackground\": true, \"ticks\": \"\", \"zerolinecolor\": \"white\"}, \"zaxis\": {\"backgroundcolor\": \"#E5ECF6\", \"gridcolor\": \"white\", \"gridwidth\": 2, \"linecolor\": \"white\", \"showbackground\": true, \"ticks\": \"\", \"zerolinecolor\": \"white\"}}, \"shapedefaults\": {\"line\": {\"color\": \"#2a3f5f\"}}, \"ternary\": {\"aaxis\": {\"gridcolor\": \"white\", \"linecolor\": \"white\", \"ticks\": \"\"}, \"baxis\": {\"gridcolor\": \"white\", \"linecolor\": \"white\", \"ticks\": \"\"}, \"bgcolor\": \"#E5ECF6\", \"caxis\": {\"gridcolor\": \"white\", \"linecolor\": \"white\", \"ticks\": \"\"}}, \"title\": {\"x\": 0.05}, \"xaxis\": {\"automargin\": true, \"gridcolor\": \"white\", \"linecolor\": \"white\", \"ticks\": \"\", \"title\": {\"standoff\": 15}, \"zerolinecolor\": \"white\", \"zerolinewidth\": 2}, \"yaxis\": {\"automargin\": true, \"gridcolor\": \"white\", \"linecolor\": \"white\", \"ticks\": \"\", \"title\": {\"standoff\": 15}, \"zerolinecolor\": \"white\", \"zerolinewidth\": 2}}}, \"title\": {\"font\": {\"size\": 22}, \"text\": \"Porcentagem de <b>Fraudes</b> por Documento\\n            \"}, \"width\": 700, \"xaxis\": {\"linecolor\": \"gray\", \"linewidth\": 1, \"mirror\": true, \"showline\": true, \"ticks\": \"outside\", \"title\": {\"text\": \"Documento\"}, \"type\": \"category\"}, \"yaxis\": {\"linecolor\": \"grey\", \"linewidth\": 1, \"mirror\": true, \"showline\": true, \"tickformat\": \"%\", \"ticks\": \"outside\", \"title\": {\"text\": \"Porcentagem\"}}},\n",
              "                        {\"responsive\": true}\n",
              "                    ).then(function(){\n",
              "                            \n",
              "var gd = document.getElementById('cae28ea1-943c-4586-93f2-073b36c377c7');\n",
              "var x = new MutationObserver(function (mutations, observer) {{\n",
              "        var display = window.getComputedStyle(gd).display;\n",
              "        if (!display || display === 'none') {{\n",
              "            console.log([gd, 'removed!']);\n",
              "            Plotly.purge(gd);\n",
              "            observer.disconnect();\n",
              "        }}\n",
              "}});\n",
              "\n",
              "// Listen for the removal of the full notebook cells\n",
              "var notebookContainer = gd.closest('#notebook-container');\n",
              "if (notebookContainer) {{\n",
              "    x.observe(notebookContainer, {childList: true});\n",
              "}}\n",
              "\n",
              "// Listen for the clearing of the current output cell\n",
              "var outputEl = gd.closest('.output');\n",
              "if (outputEl) {{\n",
              "    x.observe(outputEl, {childList: true});\n",
              "}}\n",
              "\n",
              "                        })\n",
              "                };\n",
              "                \n",
              "            </script>\n",
              "        </div>\n",
              "</body>\n",
              "</html>"
            ]
          },
          "metadata": {}
        }
      ]
    },
    {
      "cell_type": "markdown",
      "metadata": {
        "id": "2UgJgDmtd7KW"
      },
      "source": [
        "##Porcentagem de Não Fraudes por Documento"
      ]
    },
    {
      "cell_type": "code",
      "metadata": {
        "colab": {
          "base_uri": "https://localhost:8080/",
          "height": 567
        },
        "id": "ER1ZC1TnDZcV",
        "outputId": "4e3200f0-f45b-40be-dcad-1ff58a0da2b1"
      },
      "source": [
        "b =[df_no_fraud['tipo_doc'].value_counts(normalize=True)['cpf'], df_no_fraud['tipo_doc'].value_counts(normalize=True)['cnpj']]\n",
        "fig = go.Figure(go.Bar (x = ['cpj', 'cnpj'],\n",
        "                        y = b,\n",
        "                        marker = dict(color = [color[0], color[1]],\n",
        ")))\n",
        "\n",
        "fig.update_layout(\n",
        "    title=\"\"\"Porcentagem de <b>Não </b>Fraudes por Documento\n",
        "            \"\"\",\n",
        "    title_font_size=22,\n",
        "    font_size=13,\n",
        "    plot_bgcolor='white',\n",
        "    legend_x=0.99, legend_xanchor='right', legend_font_size=18,\n",
        "    hovermode='x',\n",
        "    bargap=0.15,\n",
        "    yaxis_tickformat = '%',\n",
        "    width=700, height=550\n",
        ")\n",
        "\n",
        "fig.update_xaxes(\n",
        "    mirror=True, ticks='outside', showline=True, linewidth=1, linecolor='gray')\n",
        "fig.update_yaxes(\n",
        "    mirror=True, ticks='outside', showline=True, linewidth=1, linecolor='grey',\n",
        "    )\n",
        "\n",
        "fig.update_xaxes(type = 'category', title = 'Documento')\n",
        "fig.update_yaxes(title = 'Porcentagem')\n",
        "fig.show()"
      ],
      "execution_count": 61,
      "outputs": [
        {
          "output_type": "display_data",
          "data": {
            "text/html": [
              "<html>\n",
              "<head><meta charset=\"utf-8\" /></head>\n",
              "<body>\n",
              "    <div>\n",
              "            <script src=\"https://cdnjs.cloudflare.com/ajax/libs/mathjax/2.7.5/MathJax.js?config=TeX-AMS-MML_SVG\"></script><script type=\"text/javascript\">if (window.MathJax) {MathJax.Hub.Config({SVG: {font: \"STIX-Web\"}});}</script>\n",
              "                <script type=\"text/javascript\">window.PlotlyConfig = {MathJaxConfig: 'local'};</script>\n",
              "        <script src=\"https://cdn.plot.ly/plotly-latest.min.js\"></script>    \n",
              "            <div id=\"03fb8b2f-3a01-4e37-b0fb-e2d1bb5d0122\" class=\"plotly-graph-div\" style=\"height:550px; width:700px;\"></div>\n",
              "            <script type=\"text/javascript\">\n",
              "                \n",
              "                    window.PLOTLYENV=window.PLOTLYENV || {};\n",
              "                    \n",
              "                if (document.getElementById(\"03fb8b2f-3a01-4e37-b0fb-e2d1bb5d0122\")) {\n",
              "                    Plotly.newPlot(\n",
              "                        '03fb8b2f-3a01-4e37-b0fb-e2d1bb5d0122',\n",
              "                        [{\"marker\": {\"color\": [\"#87B738\", \"#283610\"]}, \"type\": \"bar\", \"x\": [\"cpj\", \"cnpj\"], \"y\": [0.2896896182661434, 0.7103103817338566]}],\n",
              "                        {\"bargap\": 0.15, \"font\": {\"size\": 13}, \"height\": 550, \"hovermode\": \"x\", \"legend\": {\"font\": {\"size\": 18}, \"x\": 0.99, \"xanchor\": \"right\"}, \"plot_bgcolor\": \"white\", \"template\": {\"data\": {\"bar\": [{\"error_x\": {\"color\": \"#2a3f5f\"}, \"error_y\": {\"color\": \"#2a3f5f\"}, \"marker\": {\"line\": {\"color\": \"#E5ECF6\", \"width\": 0.5}}, \"type\": \"bar\"}], \"barpolar\": [{\"marker\": {\"line\": {\"color\": \"#E5ECF6\", \"width\": 0.5}}, \"type\": \"barpolar\"}], \"carpet\": [{\"aaxis\": {\"endlinecolor\": \"#2a3f5f\", \"gridcolor\": \"white\", \"linecolor\": \"white\", \"minorgridcolor\": \"white\", \"startlinecolor\": \"#2a3f5f\"}, \"baxis\": {\"endlinecolor\": \"#2a3f5f\", \"gridcolor\": \"white\", \"linecolor\": \"white\", \"minorgridcolor\": \"white\", \"startlinecolor\": \"#2a3f5f\"}, \"type\": \"carpet\"}], \"choropleth\": [{\"colorbar\": {\"outlinewidth\": 0, \"ticks\": \"\"}, \"type\": \"choropleth\"}], \"contour\": [{\"colorbar\": {\"outlinewidth\": 0, \"ticks\": \"\"}, \"colorscale\": [[0.0, \"#0d0887\"], [0.1111111111111111, \"#46039f\"], [0.2222222222222222, \"#7201a8\"], [0.3333333333333333, \"#9c179e\"], [0.4444444444444444, \"#bd3786\"], [0.5555555555555556, \"#d8576b\"], [0.6666666666666666, \"#ed7953\"], [0.7777777777777778, \"#fb9f3a\"], [0.8888888888888888, \"#fdca26\"], [1.0, \"#f0f921\"]], \"type\": \"contour\"}], \"contourcarpet\": [{\"colorbar\": {\"outlinewidth\": 0, \"ticks\": \"\"}, \"type\": \"contourcarpet\"}], \"heatmap\": [{\"colorbar\": {\"outlinewidth\": 0, \"ticks\": \"\"}, \"colorscale\": [[0.0, \"#0d0887\"], [0.1111111111111111, \"#46039f\"], [0.2222222222222222, \"#7201a8\"], [0.3333333333333333, \"#9c179e\"], [0.4444444444444444, \"#bd3786\"], [0.5555555555555556, \"#d8576b\"], [0.6666666666666666, \"#ed7953\"], [0.7777777777777778, \"#fb9f3a\"], [0.8888888888888888, \"#fdca26\"], [1.0, \"#f0f921\"]], \"type\": \"heatmap\"}], \"heatmapgl\": [{\"colorbar\": {\"outlinewidth\": 0, \"ticks\": \"\"}, \"colorscale\": [[0.0, \"#0d0887\"], [0.1111111111111111, \"#46039f\"], [0.2222222222222222, \"#7201a8\"], [0.3333333333333333, \"#9c179e\"], [0.4444444444444444, \"#bd3786\"], [0.5555555555555556, \"#d8576b\"], [0.6666666666666666, \"#ed7953\"], [0.7777777777777778, \"#fb9f3a\"], [0.8888888888888888, \"#fdca26\"], [1.0, \"#f0f921\"]], \"type\": \"heatmapgl\"}], \"histogram\": [{\"marker\": {\"colorbar\": {\"outlinewidth\": 0, \"ticks\": \"\"}}, \"type\": \"histogram\"}], \"histogram2d\": [{\"colorbar\": {\"outlinewidth\": 0, \"ticks\": \"\"}, \"colorscale\": [[0.0, \"#0d0887\"], [0.1111111111111111, \"#46039f\"], [0.2222222222222222, \"#7201a8\"], [0.3333333333333333, \"#9c179e\"], [0.4444444444444444, \"#bd3786\"], [0.5555555555555556, \"#d8576b\"], [0.6666666666666666, \"#ed7953\"], [0.7777777777777778, \"#fb9f3a\"], [0.8888888888888888, \"#fdca26\"], [1.0, \"#f0f921\"]], \"type\": \"histogram2d\"}], \"histogram2dcontour\": [{\"colorbar\": {\"outlinewidth\": 0, \"ticks\": \"\"}, \"colorscale\": [[0.0, \"#0d0887\"], [0.1111111111111111, \"#46039f\"], [0.2222222222222222, \"#7201a8\"], [0.3333333333333333, \"#9c179e\"], [0.4444444444444444, \"#bd3786\"], [0.5555555555555556, \"#d8576b\"], [0.6666666666666666, \"#ed7953\"], [0.7777777777777778, \"#fb9f3a\"], [0.8888888888888888, \"#fdca26\"], [1.0, \"#f0f921\"]], \"type\": \"histogram2dcontour\"}], \"mesh3d\": [{\"colorbar\": {\"outlinewidth\": 0, \"ticks\": \"\"}, \"type\": \"mesh3d\"}], \"parcoords\": [{\"line\": {\"colorbar\": {\"outlinewidth\": 0, \"ticks\": \"\"}}, \"type\": \"parcoords\"}], \"pie\": [{\"automargin\": true, \"type\": \"pie\"}], \"scatter\": [{\"marker\": {\"colorbar\": {\"outlinewidth\": 0, \"ticks\": \"\"}}, \"type\": \"scatter\"}], \"scatter3d\": [{\"line\": {\"colorbar\": {\"outlinewidth\": 0, \"ticks\": \"\"}}, \"marker\": {\"colorbar\": {\"outlinewidth\": 0, \"ticks\": \"\"}}, \"type\": \"scatter3d\"}], \"scattercarpet\": [{\"marker\": {\"colorbar\": {\"outlinewidth\": 0, \"ticks\": \"\"}}, \"type\": \"scattercarpet\"}], \"scattergeo\": [{\"marker\": {\"colorbar\": {\"outlinewidth\": 0, \"ticks\": \"\"}}, \"type\": \"scattergeo\"}], \"scattergl\": [{\"marker\": {\"colorbar\": {\"outlinewidth\": 0, \"ticks\": \"\"}}, \"type\": \"scattergl\"}], \"scattermapbox\": [{\"marker\": {\"colorbar\": {\"outlinewidth\": 0, \"ticks\": \"\"}}, \"type\": \"scattermapbox\"}], \"scatterpolar\": [{\"marker\": {\"colorbar\": {\"outlinewidth\": 0, \"ticks\": \"\"}}, \"type\": \"scatterpolar\"}], \"scatterpolargl\": [{\"marker\": {\"colorbar\": {\"outlinewidth\": 0, \"ticks\": \"\"}}, \"type\": \"scatterpolargl\"}], \"scatterternary\": [{\"marker\": {\"colorbar\": {\"outlinewidth\": 0, \"ticks\": \"\"}}, \"type\": \"scatterternary\"}], \"surface\": [{\"colorbar\": {\"outlinewidth\": 0, \"ticks\": \"\"}, \"colorscale\": [[0.0, \"#0d0887\"], [0.1111111111111111, \"#46039f\"], [0.2222222222222222, \"#7201a8\"], [0.3333333333333333, \"#9c179e\"], [0.4444444444444444, \"#bd3786\"], [0.5555555555555556, \"#d8576b\"], [0.6666666666666666, \"#ed7953\"], [0.7777777777777778, \"#fb9f3a\"], [0.8888888888888888, \"#fdca26\"], [1.0, \"#f0f921\"]], \"type\": \"surface\"}], \"table\": [{\"cells\": {\"fill\": {\"color\": \"#EBF0F8\"}, \"line\": {\"color\": \"white\"}}, \"header\": {\"fill\": {\"color\": \"#C8D4E3\"}, \"line\": {\"color\": \"white\"}}, \"type\": \"table\"}]}, \"layout\": {\"annotationdefaults\": {\"arrowcolor\": \"#2a3f5f\", \"arrowhead\": 0, \"arrowwidth\": 1}, \"coloraxis\": {\"colorbar\": {\"outlinewidth\": 0, \"ticks\": \"\"}}, \"colorscale\": {\"diverging\": [[0, \"#8e0152\"], [0.1, \"#c51b7d\"], [0.2, \"#de77ae\"], [0.3, \"#f1b6da\"], [0.4, \"#fde0ef\"], [0.5, \"#f7f7f7\"], [0.6, \"#e6f5d0\"], [0.7, \"#b8e186\"], [0.8, \"#7fbc41\"], [0.9, \"#4d9221\"], [1, \"#276419\"]], \"sequential\": [[0.0, \"#0d0887\"], [0.1111111111111111, \"#46039f\"], [0.2222222222222222, \"#7201a8\"], [0.3333333333333333, \"#9c179e\"], [0.4444444444444444, \"#bd3786\"], [0.5555555555555556, \"#d8576b\"], [0.6666666666666666, \"#ed7953\"], [0.7777777777777778, \"#fb9f3a\"], [0.8888888888888888, \"#fdca26\"], [1.0, \"#f0f921\"]], \"sequentialminus\": [[0.0, \"#0d0887\"], [0.1111111111111111, \"#46039f\"], [0.2222222222222222, \"#7201a8\"], [0.3333333333333333, \"#9c179e\"], [0.4444444444444444, \"#bd3786\"], [0.5555555555555556, \"#d8576b\"], [0.6666666666666666, \"#ed7953\"], [0.7777777777777778, \"#fb9f3a\"], [0.8888888888888888, \"#fdca26\"], [1.0, \"#f0f921\"]]}, \"colorway\": [\"#636efa\", \"#EF553B\", \"#00cc96\", \"#ab63fa\", \"#FFA15A\", \"#19d3f3\", \"#FF6692\", \"#B6E880\", \"#FF97FF\", \"#FECB52\"], \"font\": {\"color\": \"#2a3f5f\"}, \"geo\": {\"bgcolor\": \"white\", \"lakecolor\": \"white\", \"landcolor\": \"#E5ECF6\", \"showlakes\": true, \"showland\": true, \"subunitcolor\": \"white\"}, \"hoverlabel\": {\"align\": \"left\"}, \"hovermode\": \"closest\", \"mapbox\": {\"style\": \"light\"}, \"paper_bgcolor\": \"white\", \"plot_bgcolor\": \"#E5ECF6\", \"polar\": {\"angularaxis\": {\"gridcolor\": \"white\", \"linecolor\": \"white\", \"ticks\": \"\"}, \"bgcolor\": \"#E5ECF6\", \"radialaxis\": {\"gridcolor\": \"white\", \"linecolor\": \"white\", \"ticks\": \"\"}}, \"scene\": {\"xaxis\": {\"backgroundcolor\": \"#E5ECF6\", \"gridcolor\": \"white\", \"gridwidth\": 2, \"linecolor\": \"white\", \"showbackground\": true, \"ticks\": \"\", \"zerolinecolor\": \"white\"}, \"yaxis\": {\"backgroundcolor\": \"#E5ECF6\", \"gridcolor\": \"white\", \"gridwidth\": 2, \"linecolor\": \"white\", \"showbackground\": true, \"ticks\": \"\", \"zerolinecolor\": \"white\"}, \"zaxis\": {\"backgroundcolor\": \"#E5ECF6\", \"gridcolor\": \"white\", \"gridwidth\": 2, \"linecolor\": \"white\", \"showbackground\": true, \"ticks\": \"\", \"zerolinecolor\": \"white\"}}, \"shapedefaults\": {\"line\": {\"color\": \"#2a3f5f\"}}, \"ternary\": {\"aaxis\": {\"gridcolor\": \"white\", \"linecolor\": \"white\", \"ticks\": \"\"}, \"baxis\": {\"gridcolor\": \"white\", \"linecolor\": \"white\", \"ticks\": \"\"}, \"bgcolor\": \"#E5ECF6\", \"caxis\": {\"gridcolor\": \"white\", \"linecolor\": \"white\", \"ticks\": \"\"}}, \"title\": {\"x\": 0.05}, \"xaxis\": {\"automargin\": true, \"gridcolor\": \"white\", \"linecolor\": \"white\", \"ticks\": \"\", \"title\": {\"standoff\": 15}, \"zerolinecolor\": \"white\", \"zerolinewidth\": 2}, \"yaxis\": {\"automargin\": true, \"gridcolor\": \"white\", \"linecolor\": \"white\", \"ticks\": \"\", \"title\": {\"standoff\": 15}, \"zerolinecolor\": \"white\", \"zerolinewidth\": 2}}}, \"title\": {\"font\": {\"size\": 22}, \"text\": \"Porcentagem de <b>N\\u00e3o </b>Fraudes por Documento\\n            \"}, \"width\": 700, \"xaxis\": {\"linecolor\": \"gray\", \"linewidth\": 1, \"mirror\": true, \"showline\": true, \"ticks\": \"outside\", \"title\": {\"text\": \"Documento\"}, \"type\": \"category\"}, \"yaxis\": {\"linecolor\": \"grey\", \"linewidth\": 1, \"mirror\": true, \"showline\": true, \"tickformat\": \"%\", \"ticks\": \"outside\", \"title\": {\"text\": \"Porcentagem\"}}},\n",
              "                        {\"responsive\": true}\n",
              "                    ).then(function(){\n",
              "                            \n",
              "var gd = document.getElementById('03fb8b2f-3a01-4e37-b0fb-e2d1bb5d0122');\n",
              "var x = new MutationObserver(function (mutations, observer) {{\n",
              "        var display = window.getComputedStyle(gd).display;\n",
              "        if (!display || display === 'none') {{\n",
              "            console.log([gd, 'removed!']);\n",
              "            Plotly.purge(gd);\n",
              "            observer.disconnect();\n",
              "        }}\n",
              "}});\n",
              "\n",
              "// Listen for the removal of the full notebook cells\n",
              "var notebookContainer = gd.closest('#notebook-container');\n",
              "if (notebookContainer) {{\n",
              "    x.observe(notebookContainer, {childList: true});\n",
              "}}\n",
              "\n",
              "// Listen for the clearing of the current output cell\n",
              "var outputEl = gd.closest('.output');\n",
              "if (outputEl) {{\n",
              "    x.observe(outputEl, {childList: true});\n",
              "}}\n",
              "\n",
              "                        })\n",
              "                };\n",
              "                \n",
              "            </script>\n",
              "        </div>\n",
              "</body>\n",
              "</html>"
            ]
          },
          "metadata": {}
        }
      ]
    },
    {
      "cell_type": "markdown",
      "metadata": {
        "id": "nQQN5Y9ne6ry"
      },
      "source": [
        "#PRÉ-PROCESSAMENTO"
      ]
    },
    {
      "cell_type": "markdown",
      "metadata": {
        "id": "Zp6MOtY6goLm"
      },
      "source": [
        "- aplicar oversampling e salvar\n",
        "- aplicar undersampling e salvar\n",
        "- remover ids\n",
        "- separar em train and test\n",
        "- criar pipeline\n"
      ]
    },
    {
      "cell_type": "markdown",
      "metadata": {
        "id": "gPw9nFJKe-Zd"
      },
      "source": [
        "#MODELO PREDITIVO"
      ]
    },
    {
      "cell_type": "markdown",
      "metadata": {
        "id": "Pwxdo7oUiMMr"
      },
      "source": [
        "- testar modelo regressão logistica\n",
        "- testar modelo random forest\n",
        "- testar modelo XGB sem hiperparametros\n",
        "- fazer feature engeneering\n",
        "\n"
      ]
    },
    {
      "cell_type": "markdown",
      "metadata": {
        "id": "FP22SIUGfCi7"
      },
      "source": [
        "#CONCLUSÃO"
      ]
    },
    {
      "cell_type": "markdown",
      "metadata": {
        "id": "vpjnpfhIi62a"
      },
      "source": [
        "- Existe algum padrão no comportamento dos fraudadores?\n",
        "- Esse dataset é suficiente para tirar alguma conclusão?\n",
        "- Conseguimos fazer alguma “feature engineering” que nos auxilie a identificar os fraudadores?\n",
        "- Como poderíamos identificá-los antes das denúncias?\n",
        "- Consegue propor alguma sugestão do que é necessário ser feito para solucionar o problema?"
      ]
    },
    {
      "cell_type": "markdown",
      "metadata": {
        "id": "ykCgahhMjXWq"
      },
      "source": [
        "- Você também deverá estudar e responder a pergunta: Além de fraudes de boleto, quais são outros riscos que o mercado de\n",
        "adquirência está exposto e como poderíamos tentar mitigá-los?"
      ]
    }
  ]
}