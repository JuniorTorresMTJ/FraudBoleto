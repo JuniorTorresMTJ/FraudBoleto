{
  "nbformat": 4,
  "nbformat_minor": 0,
  "metadata": {
    "colab": {
      "name": "BoletoFraud.ipynb",
      "provenance": [],
      "collapsed_sections": [],
      "authorship_tag": "ABX9TyOeip9mXETyqisqvZPO2e7w",
      "include_colab_link": true
    },
    "kernelspec": {
      "name": "python3",
      "display_name": "Python 3"
    },
    "language_info": {
      "name": "python"
    }
  },
  "cells": [
    {
      "cell_type": "markdown",
      "metadata": {
        "id": "view-in-github",
        "colab_type": "text"
      },
      "source": [
        "<a href=\"https://colab.research.google.com/github/JuniorTorresMTJ/FraudBoleto/blob/main/notebook/BoletoFraud.ipynb\" target=\"_parent\"><img src=\"https://colab.research.google.com/assets/colab-badge.svg\" alt=\"Open In Colab\"/></a>"
      ]
    },
    {
      "cell_type": "markdown",
      "metadata": {
        "id": "ASCmOrZoXmbO"
      },
      "source": [
        "- Existe algum padrão no comportamento dos fraudadores?-\n",
        "- Esse dataset é suficiente para tirar alguma conclusão?\n",
        "- Conseguimos fazer alguma “feature engineering” que nos auxilie a identificar os fraudadores?\n",
        "- Como poderíamos identificá-los antes das denúncias?\n",
        "- Consegue propor alguma sugestão do que é necessário ser feito para solucionar o problema?"
      ]
    },
    {
      "cell_type": "code",
      "metadata": {
        "id": "1Xkn35t1TvRv"
      },
      "source": [
        "import numpy as np\n",
        "import pandas as pd\n",
        "import matplotlib.pyplot as plt\n",
        "import seaborn as sns\n",
        "\n",
        "import plotly.express as px\n",
        "import plotly.graph_objects as go\n",
        "from plotly.subplots import make_subplots\n",
        "import plotly.figure_factory as ff"
      ],
      "execution_count": 1,
      "outputs": []
    },
    {
      "cell_type": "code",
      "metadata": {
        "id": "hVtroqKJFoto"
      },
      "source": [
        "color =['#87B738',\n",
        "        '#283610',\n",
        "        '#ABCC73'] "
      ],
      "execution_count": 110,
      "outputs": []
    },
    {
      "cell_type": "code",
      "metadata": {
        "colab": {
          "base_uri": "https://localhost:8080/",
          "height": 444
        },
        "id": "uGqYTvkXT3Ps",
        "outputId": "d7cb228c-29ce-4ef9-84af-a1005661e646"
      },
      "source": [
        "df_boleto = pd.read_csv(\"https://raw.githubusercontent.com/JuniorTorresMTJ/FraudBoleto/main/Data/dataset_case_boleto.csv\", sep=\";\")\n",
        "df_boleto"
      ],
      "execution_count": 2,
      "outputs": [
        {
          "output_type": "execute_result",
          "data": {
            "text/html": [
              "<div>\n",
              "<style scoped>\n",
              "    .dataframe tbody tr th:only-of-type {\n",
              "        vertical-align: middle;\n",
              "    }\n",
              "\n",
              "    .dataframe tbody tr th {\n",
              "        vertical-align: top;\n",
              "    }\n",
              "\n",
              "    .dataframe thead th {\n",
              "        text-align: right;\n",
              "    }\n",
              "</style>\n",
              "<table border=\"1\" class=\"dataframe\">\n",
              "  <thead>\n",
              "    <tr style=\"text-align: right;\">\n",
              "      <th></th>\n",
              "      <th>mes_ref</th>\n",
              "      <th>company_id</th>\n",
              "      <th>tipo_doc</th>\n",
              "      <th>max_valor_boleto</th>\n",
              "      <th>avg_valor_boleto</th>\n",
              "      <th>total_valor_boleto</th>\n",
              "      <th>valor_boleto_stdv</th>\n",
              "      <th>qtd_boleto_pago</th>\n",
              "      <th>qtd_boleto_total</th>\n",
              "      <th>qtd_boleto_estorno</th>\n",
              "      <th>qnt_cc_total</th>\n",
              "      <th>tempo_credenciamento</th>\n",
              "      <th>conta_bnk_repetida</th>\n",
              "      <th>fraude</th>\n",
              "    </tr>\n",
              "  </thead>\n",
              "  <tbody>\n",
              "    <tr>\n",
              "      <th>0</th>\n",
              "      <td>01/03/2020</td>\n",
              "      <td>5e74d202d1498c5bdf8aafe3</td>\n",
              "      <td>cnpj</td>\n",
              "      <td>6000</td>\n",
              "      <td>4884,61</td>\n",
              "      <td>63500</td>\n",
              "      <td>2122,83</td>\n",
              "      <td>10</td>\n",
              "      <td>13</td>\n",
              "      <td>0</td>\n",
              "      <td>35</td>\n",
              "      <td>11</td>\n",
              "      <td>0</td>\n",
              "      <td>0</td>\n",
              "    </tr>\n",
              "    <tr>\n",
              "      <th>1</th>\n",
              "      <td>01/03/2020</td>\n",
              "      <td>5e78dafeb5ac867c7e85eb5e</td>\n",
              "      <td>cnpj</td>\n",
              "      <td>1800</td>\n",
              "      <td>1800</td>\n",
              "      <td>3600</td>\n",
              "      <td>0</td>\n",
              "      <td>0</td>\n",
              "      <td>2</td>\n",
              "      <td>0</td>\n",
              "      <td>0</td>\n",
              "      <td>11</td>\n",
              "      <td>0</td>\n",
              "      <td>0</td>\n",
              "    </tr>\n",
              "    <tr>\n",
              "      <th>2</th>\n",
              "      <td>01/03/2020</td>\n",
              "      <td>5e73e21359193c2f123c1076</td>\n",
              "      <td>cnpj</td>\n",
              "      <td>159,9</td>\n",
              "      <td>104,9</td>\n",
              "      <td>209,8</td>\n",
              "      <td>77,78</td>\n",
              "      <td>0</td>\n",
              "      <td>2</td>\n",
              "      <td>0</td>\n",
              "      <td>14</td>\n",
              "      <td>11</td>\n",
              "      <td>0</td>\n",
              "      <td>0</td>\n",
              "    </tr>\n",
              "    <tr>\n",
              "      <th>3</th>\n",
              "      <td>01/04/2020</td>\n",
              "      <td>5e7262c49d55ea5dbea59d57</td>\n",
              "      <td>cnpj</td>\n",
              "      <td>600</td>\n",
              "      <td>600</td>\n",
              "      <td>1800</td>\n",
              "      <td>0</td>\n",
              "      <td>0</td>\n",
              "      <td>3</td>\n",
              "      <td>0</td>\n",
              "      <td>18</td>\n",
              "      <td>11</td>\n",
              "      <td>0</td>\n",
              "      <td>0</td>\n",
              "    </tr>\n",
              "    <tr>\n",
              "      <th>4</th>\n",
              "      <td>01/04/2020</td>\n",
              "      <td>5e610d9f66945c0f82dd357f</td>\n",
              "      <td>cnpj</td>\n",
              "      <td>2941</td>\n",
              "      <td>1764,6</td>\n",
              "      <td>8823</td>\n",
              "      <td>657,63</td>\n",
              "      <td>2</td>\n",
              "      <td>5</td>\n",
              "      <td>0</td>\n",
              "      <td>65</td>\n",
              "      <td>12</td>\n",
              "      <td>0</td>\n",
              "      <td>0</td>\n",
              "    </tr>\n",
              "    <tr>\n",
              "      <th>...</th>\n",
              "      <td>...</td>\n",
              "      <td>...</td>\n",
              "      <td>...</td>\n",
              "      <td>...</td>\n",
              "      <td>...</td>\n",
              "      <td>...</td>\n",
              "      <td>...</td>\n",
              "      <td>...</td>\n",
              "      <td>...</td>\n",
              "      <td>...</td>\n",
              "      <td>...</td>\n",
              "      <td>...</td>\n",
              "      <td>...</td>\n",
              "      <td>...</td>\n",
              "    </tr>\n",
              "    <tr>\n",
              "      <th>9272</th>\n",
              "      <td>01/11/2020</td>\n",
              "      <td>5fa6013aec647c00160a173b</td>\n",
              "      <td>cpf</td>\n",
              "      <td>50</td>\n",
              "      <td>50</td>\n",
              "      <td>50</td>\n",
              "      <td>0</td>\n",
              "      <td>0</td>\n",
              "      <td>1</td>\n",
              "      <td>0</td>\n",
              "      <td>0</td>\n",
              "      <td>2</td>\n",
              "      <td>0</td>\n",
              "      <td>1</td>\n",
              "    </tr>\n",
              "    <tr>\n",
              "      <th>9273</th>\n",
              "      <td>01/11/2020</td>\n",
              "      <td>5fc3ed1659018400162a83ad</td>\n",
              "      <td>cpf</td>\n",
              "      <td>10</td>\n",
              "      <td>10</td>\n",
              "      <td>10</td>\n",
              "      <td>0</td>\n",
              "      <td>1</td>\n",
              "      <td>1</td>\n",
              "      <td>0</td>\n",
              "      <td>0</td>\n",
              "      <td>3</td>\n",
              "      <td>0</td>\n",
              "      <td>0</td>\n",
              "    </tr>\n",
              "    <tr>\n",
              "      <th>9274</th>\n",
              "      <td>01/10/2020</td>\n",
              "      <td>5f6f796ccff5532d540c6f58</td>\n",
              "      <td>cpf</td>\n",
              "      <td>160</td>\n",
              "      <td>160</td>\n",
              "      <td>160</td>\n",
              "      <td>0</td>\n",
              "      <td>0</td>\n",
              "      <td>1</td>\n",
              "      <td>0</td>\n",
              "      <td>0</td>\n",
              "      <td>5</td>\n",
              "      <td>0</td>\n",
              "      <td>0</td>\n",
              "    </tr>\n",
              "    <tr>\n",
              "      <th>9275</th>\n",
              "      <td>01/12/2020</td>\n",
              "      <td>5ebd605d4c4cb062ab6b3c66</td>\n",
              "      <td>cnpj</td>\n",
              "      <td>600</td>\n",
              "      <td>600</td>\n",
              "      <td>600</td>\n",
              "      <td>0</td>\n",
              "      <td>0</td>\n",
              "      <td>1</td>\n",
              "      <td>0</td>\n",
              "      <td>0</td>\n",
              "      <td>9</td>\n",
              "      <td>0</td>\n",
              "      <td>0</td>\n",
              "    </tr>\n",
              "    <tr>\n",
              "      <th>9276</th>\n",
              "      <td>01/03/2021</td>\n",
              "      <td>5ec2eef04e34c55a49997326</td>\n",
              "      <td>cnpj</td>\n",
              "      <td>60</td>\n",
              "      <td>60</td>\n",
              "      <td>60</td>\n",
              "      <td>0</td>\n",
              "      <td>1</td>\n",
              "      <td>1</td>\n",
              "      <td>0</td>\n",
              "      <td>0</td>\n",
              "      <td>9</td>\n",
              "      <td>0</td>\n",
              "      <td>0</td>\n",
              "    </tr>\n",
              "  </tbody>\n",
              "</table>\n",
              "<p>9277 rows × 14 columns</p>\n",
              "</div>"
            ],
            "text/plain": [
              "         mes_ref                company_id  ... conta_bnk_repetida fraude\n",
              "0     01/03/2020  5e74d202d1498c5bdf8aafe3  ...                  0      0\n",
              "1     01/03/2020  5e78dafeb5ac867c7e85eb5e  ...                  0      0\n",
              "2     01/03/2020  5e73e21359193c2f123c1076  ...                  0      0\n",
              "3     01/04/2020  5e7262c49d55ea5dbea59d57  ...                  0      0\n",
              "4     01/04/2020  5e610d9f66945c0f82dd357f  ...                  0      0\n",
              "...          ...                       ...  ...                ...    ...\n",
              "9272  01/11/2020  5fa6013aec647c00160a173b  ...                  0      1\n",
              "9273  01/11/2020  5fc3ed1659018400162a83ad  ...                  0      0\n",
              "9274  01/10/2020  5f6f796ccff5532d540c6f58  ...                  0      0\n",
              "9275  01/12/2020  5ebd605d4c4cb062ab6b3c66  ...                  0      0\n",
              "9276  01/03/2021  5ec2eef04e34c55a49997326  ...                  0      0\n",
              "\n",
              "[9277 rows x 14 columns]"
            ]
          },
          "metadata": {},
          "execution_count": 2
        }
      ]
    },
    {
      "cell_type": "markdown",
      "metadata": {
        "id": "b3gcgRC-v-qf"
      },
      "source": [
        "Verificando se tem nulos e os tipos das colunas"
      ]
    },
    {
      "cell_type": "code",
      "metadata": {
        "id": "-WFrvOwvyH7l"
      },
      "source": [
        "df_boleto['max_valor_boleto'] = df_boleto['max_valor_boleto'].str.replace(',', '.')\n",
        "df_boleto['avg_valor_boleto'] = df_boleto['max_valor_boleto'].str.replace(',', '.')\n",
        "df_boleto['total_valor_boleto'] = df_boleto['max_valor_boleto'].str.replace(',', '.')\n",
        "df_boleto['valor_boleto_stdv'] = df_boleto['max_valor_boleto'].str.replace(',', '.')"
      ],
      "execution_count": 3,
      "outputs": []
    },
    {
      "cell_type": "code",
      "metadata": {
        "colab": {
          "base_uri": "https://localhost:8080/"
        },
        "id": "OJnKymPRv57n",
        "outputId": "cc60b9d6-7e3b-417c-d69f-ce37d3579f82"
      },
      "source": [
        "df_boleto['valor_boleto_stdv']"
      ],
      "execution_count": 4,
      "outputs": [
        {
          "output_type": "execute_result",
          "data": {
            "text/plain": [
              "0        6000\n",
              "1        1800\n",
              "2       159.9\n",
              "3         600\n",
              "4        2941\n",
              "        ...  \n",
              "9272       50\n",
              "9273       10\n",
              "9274      160\n",
              "9275      600\n",
              "9276       60\n",
              "Name: valor_boleto_stdv, Length: 9277, dtype: object"
            ]
          },
          "metadata": {},
          "execution_count": 4
        }
      ]
    },
    {
      "cell_type": "code",
      "metadata": {
        "colab": {
          "base_uri": "https://localhost:8080/"
        },
        "id": "7S2EH0PctAC7",
        "outputId": "8e0c42b5-93d7-44e1-d447-96ad808712ac"
      },
      "source": [
        "df_boleto.info()"
      ],
      "execution_count": 5,
      "outputs": [
        {
          "output_type": "stream",
          "name": "stdout",
          "text": [
            "<class 'pandas.core.frame.DataFrame'>\n",
            "RangeIndex: 9277 entries, 0 to 9276\n",
            "Data columns (total 14 columns):\n",
            " #   Column                Non-Null Count  Dtype \n",
            "---  ------                --------------  ----- \n",
            " 0   mes_ref               9277 non-null   object\n",
            " 1   company_id            9277 non-null   object\n",
            " 2   tipo_doc              9277 non-null   object\n",
            " 3   max_valor_boleto      9277 non-null   object\n",
            " 4   avg_valor_boleto      9277 non-null   object\n",
            " 5   total_valor_boleto    9277 non-null   object\n",
            " 6   valor_boleto_stdv     9277 non-null   object\n",
            " 7   qtd_boleto_pago       9277 non-null   int64 \n",
            " 8   qtd_boleto_total      9277 non-null   int64 \n",
            " 9   qtd_boleto_estorno    9277 non-null   int64 \n",
            " 10  qnt_cc_total          9277 non-null   int64 \n",
            " 11  tempo_credenciamento  9277 non-null   int64 \n",
            " 12  conta_bnk_repetida    9277 non-null   int64 \n",
            " 13  fraude                9277 non-null   int64 \n",
            "dtypes: int64(7), object(7)\n",
            "memory usage: 1014.8+ KB\n"
          ]
        }
      ]
    },
    {
      "cell_type": "code",
      "metadata": {
        "id": "vzR7M2QIwLsE"
      },
      "source": [
        "df_boleto['max_valor_boleto'] = df_boleto['max_valor_boleto'].astype(float)\n",
        "df_boleto['avg_valor_boleto'] = df_boleto['avg_valor_boleto'].astype(float)\n",
        "df_boleto['total_valor_boleto'] = df_boleto['total_valor_boleto'].astype(float)\n",
        "df_boleto['valor_boleto_stdv'] = df_boleto['valor_boleto_stdv'].astype(float)"
      ],
      "execution_count": 6,
      "outputs": []
    },
    {
      "cell_type": "code",
      "metadata": {
        "colab": {
          "base_uri": "https://localhost:8080/"
        },
        "id": "VHAhE_EKZnmC",
        "outputId": "00796b4c-4e5d-4f33-a07a-5adb64904bd0"
      },
      "source": [
        "df_boleto.isnull().sum()"
      ],
      "execution_count": 7,
      "outputs": [
        {
          "output_type": "execute_result",
          "data": {
            "text/plain": [
              "mes_ref                 0\n",
              "company_id              0\n",
              "tipo_doc                0\n",
              "max_valor_boleto        0\n",
              "avg_valor_boleto        0\n",
              "total_valor_boleto      0\n",
              "valor_boleto_stdv       0\n",
              "qtd_boleto_pago         0\n",
              "qtd_boleto_total        0\n",
              "qtd_boleto_estorno      0\n",
              "qnt_cc_total            0\n",
              "tempo_credenciamento    0\n",
              "conta_bnk_repetida      0\n",
              "fraude                  0\n",
              "dtype: int64"
            ]
          },
          "metadata": {},
          "execution_count": 7
        }
      ]
    },
    {
      "cell_type": "code",
      "metadata": {
        "colab": {
          "base_uri": "https://localhost:8080/"
        },
        "id": "-f1q4qs_wsL6",
        "outputId": "9d6e99ff-62e2-4d67-b930-afc7c1b3c032"
      },
      "source": [
        "df_boleto.info()"
      ],
      "execution_count": 8,
      "outputs": [
        {
          "output_type": "stream",
          "name": "stdout",
          "text": [
            "<class 'pandas.core.frame.DataFrame'>\n",
            "RangeIndex: 9277 entries, 0 to 9276\n",
            "Data columns (total 14 columns):\n",
            " #   Column                Non-Null Count  Dtype  \n",
            "---  ------                --------------  -----  \n",
            " 0   mes_ref               9277 non-null   object \n",
            " 1   company_id            9277 non-null   object \n",
            " 2   tipo_doc              9277 non-null   object \n",
            " 3   max_valor_boleto      9277 non-null   float64\n",
            " 4   avg_valor_boleto      9277 non-null   float64\n",
            " 5   total_valor_boleto    9277 non-null   float64\n",
            " 6   valor_boleto_stdv     9277 non-null   float64\n",
            " 7   qtd_boleto_pago       9277 non-null   int64  \n",
            " 8   qtd_boleto_total      9277 non-null   int64  \n",
            " 9   qtd_boleto_estorno    9277 non-null   int64  \n",
            " 10  qnt_cc_total          9277 non-null   int64  \n",
            " 11  tempo_credenciamento  9277 non-null   int64  \n",
            " 12  conta_bnk_repetida    9277 non-null   int64  \n",
            " 13  fraude                9277 non-null   int64  \n",
            "dtypes: float64(4), int64(7), object(3)\n",
            "memory usage: 1014.8+ KB\n"
          ]
        }
      ]
    },
    {
      "cell_type": "code",
      "metadata": {
        "id": "iIfvnmKjGI-V"
      },
      "source": [
        "balanced = [df_boleto['fraude'].value_counts()[0], df_boleto['fraude'].value_counts()[1]]"
      ],
      "execution_count": 111,
      "outputs": []
    },
    {
      "cell_type": "code",
      "metadata": {
        "colab": {
          "base_uri": "https://localhost:8080/",
          "height": 517
        },
        "id": "o2I_cXTcF_rh",
        "outputId": "bd7633a1-a24b-4f5a-de70-be0cd7d4bca1"
      },
      "source": [
        "fig = go.Figure(go.Bar (x = ['Não Fraude', 'Fraude'],\n",
        "                        y = balanced,\n",
        "                        marker = dict(color = [color[0], color[1]],\n",
        ")))\n",
        "fig.update_layout(\n",
        "    title=\"\"\"Balanceamento da Variável Target\n",
        "            \"\"\",\n",
        "    title_font_size=22,\n",
        "    font_size=13,\n",
        "    plot_bgcolor='white',\n",
        "    legend_x=0.99, legend_xanchor='right', legend_font_size=18,\n",
        "    hovermode='x',\n",
        "    bargap=0.15,\n",
        "    width=800, height=500\n",
        ")\n",
        "fig.update_yaxes(title = 'Quantidade')\n",
        "fig.show()"
      ],
      "execution_count": 116,
      "outputs": [
        {
          "output_type": "display_data",
          "data": {
            "text/html": [
              "<html>\n",
              "<head><meta charset=\"utf-8\" /></head>\n",
              "<body>\n",
              "    <div>\n",
              "            <script src=\"https://cdnjs.cloudflare.com/ajax/libs/mathjax/2.7.5/MathJax.js?config=TeX-AMS-MML_SVG\"></script><script type=\"text/javascript\">if (window.MathJax) {MathJax.Hub.Config({SVG: {font: \"STIX-Web\"}});}</script>\n",
              "                <script type=\"text/javascript\">window.PlotlyConfig = {MathJaxConfig: 'local'};</script>\n",
              "        <script src=\"https://cdn.plot.ly/plotly-latest.min.js\"></script>    \n",
              "            <div id=\"8cf4dcb2-a4b6-4237-9642-a39c9f4cbe6d\" class=\"plotly-graph-div\" style=\"height:500px; width:800px;\"></div>\n",
              "            <script type=\"text/javascript\">\n",
              "                \n",
              "                    window.PLOTLYENV=window.PLOTLYENV || {};\n",
              "                    \n",
              "                if (document.getElementById(\"8cf4dcb2-a4b6-4237-9642-a39c9f4cbe6d\")) {\n",
              "                    Plotly.newPlot(\n",
              "                        '8cf4dcb2-a4b6-4237-9642-a39c9f4cbe6d',\n",
              "                        [{\"marker\": {\"color\": [\"#87B738\", \"#283610\"]}, \"type\": \"bar\", \"x\": [\"N\\u00e3o Fraude\", \"Fraude\"], \"y\": [5606, 142]}],\n",
              "                        {\"bargap\": 0.15, \"font\": {\"size\": 13}, \"height\": 500, \"hovermode\": \"x\", \"legend\": {\"font\": {\"size\": 18}, \"x\": 0.99, \"xanchor\": \"right\"}, \"plot_bgcolor\": \"white\", \"template\": {\"data\": {\"bar\": [{\"error_x\": {\"color\": \"#2a3f5f\"}, \"error_y\": {\"color\": \"#2a3f5f\"}, \"marker\": {\"line\": {\"color\": \"#E5ECF6\", \"width\": 0.5}}, \"type\": \"bar\"}], \"barpolar\": [{\"marker\": {\"line\": {\"color\": \"#E5ECF6\", \"width\": 0.5}}, \"type\": \"barpolar\"}], \"carpet\": [{\"aaxis\": {\"endlinecolor\": \"#2a3f5f\", \"gridcolor\": \"white\", \"linecolor\": \"white\", \"minorgridcolor\": \"white\", \"startlinecolor\": \"#2a3f5f\"}, \"baxis\": {\"endlinecolor\": \"#2a3f5f\", \"gridcolor\": \"white\", \"linecolor\": \"white\", \"minorgridcolor\": \"white\", \"startlinecolor\": \"#2a3f5f\"}, \"type\": \"carpet\"}], \"choropleth\": [{\"colorbar\": {\"outlinewidth\": 0, \"ticks\": \"\"}, \"type\": \"choropleth\"}], \"contour\": [{\"colorbar\": {\"outlinewidth\": 0, \"ticks\": \"\"}, \"colorscale\": [[0.0, \"#0d0887\"], [0.1111111111111111, \"#46039f\"], [0.2222222222222222, \"#7201a8\"], [0.3333333333333333, \"#9c179e\"], [0.4444444444444444, \"#bd3786\"], [0.5555555555555556, \"#d8576b\"], [0.6666666666666666, \"#ed7953\"], [0.7777777777777778, \"#fb9f3a\"], [0.8888888888888888, \"#fdca26\"], [1.0, \"#f0f921\"]], \"type\": \"contour\"}], \"contourcarpet\": [{\"colorbar\": {\"outlinewidth\": 0, \"ticks\": \"\"}, \"type\": \"contourcarpet\"}], \"heatmap\": [{\"colorbar\": {\"outlinewidth\": 0, \"ticks\": \"\"}, \"colorscale\": [[0.0, \"#0d0887\"], [0.1111111111111111, \"#46039f\"], [0.2222222222222222, \"#7201a8\"], [0.3333333333333333, \"#9c179e\"], [0.4444444444444444, \"#bd3786\"], [0.5555555555555556, \"#d8576b\"], [0.6666666666666666, \"#ed7953\"], [0.7777777777777778, \"#fb9f3a\"], [0.8888888888888888, \"#fdca26\"], [1.0, \"#f0f921\"]], \"type\": \"heatmap\"}], \"heatmapgl\": [{\"colorbar\": {\"outlinewidth\": 0, \"ticks\": \"\"}, \"colorscale\": [[0.0, \"#0d0887\"], [0.1111111111111111, \"#46039f\"], [0.2222222222222222, \"#7201a8\"], [0.3333333333333333, \"#9c179e\"], [0.4444444444444444, \"#bd3786\"], [0.5555555555555556, \"#d8576b\"], [0.6666666666666666, \"#ed7953\"], [0.7777777777777778, \"#fb9f3a\"], [0.8888888888888888, \"#fdca26\"], [1.0, \"#f0f921\"]], \"type\": \"heatmapgl\"}], \"histogram\": [{\"marker\": {\"colorbar\": {\"outlinewidth\": 0, \"ticks\": \"\"}}, \"type\": \"histogram\"}], \"histogram2d\": [{\"colorbar\": {\"outlinewidth\": 0, \"ticks\": \"\"}, \"colorscale\": [[0.0, \"#0d0887\"], [0.1111111111111111, \"#46039f\"], [0.2222222222222222, \"#7201a8\"], [0.3333333333333333, \"#9c179e\"], [0.4444444444444444, \"#bd3786\"], [0.5555555555555556, \"#d8576b\"], [0.6666666666666666, \"#ed7953\"], [0.7777777777777778, \"#fb9f3a\"], [0.8888888888888888, \"#fdca26\"], [1.0, \"#f0f921\"]], \"type\": \"histogram2d\"}], \"histogram2dcontour\": [{\"colorbar\": {\"outlinewidth\": 0, \"ticks\": \"\"}, \"colorscale\": [[0.0, \"#0d0887\"], [0.1111111111111111, \"#46039f\"], [0.2222222222222222, \"#7201a8\"], [0.3333333333333333, \"#9c179e\"], [0.4444444444444444, \"#bd3786\"], [0.5555555555555556, \"#d8576b\"], [0.6666666666666666, \"#ed7953\"], [0.7777777777777778, \"#fb9f3a\"], [0.8888888888888888, \"#fdca26\"], [1.0, \"#f0f921\"]], \"type\": \"histogram2dcontour\"}], \"mesh3d\": [{\"colorbar\": {\"outlinewidth\": 0, \"ticks\": \"\"}, \"type\": \"mesh3d\"}], \"parcoords\": [{\"line\": {\"colorbar\": {\"outlinewidth\": 0, \"ticks\": \"\"}}, \"type\": \"parcoords\"}], \"pie\": [{\"automargin\": true, \"type\": \"pie\"}], \"scatter\": [{\"marker\": {\"colorbar\": {\"outlinewidth\": 0, \"ticks\": \"\"}}, \"type\": \"scatter\"}], \"scatter3d\": [{\"line\": {\"colorbar\": {\"outlinewidth\": 0, \"ticks\": \"\"}}, \"marker\": {\"colorbar\": {\"outlinewidth\": 0, \"ticks\": \"\"}}, \"type\": \"scatter3d\"}], \"scattercarpet\": [{\"marker\": {\"colorbar\": {\"outlinewidth\": 0, \"ticks\": \"\"}}, \"type\": \"scattercarpet\"}], \"scattergeo\": [{\"marker\": {\"colorbar\": {\"outlinewidth\": 0, \"ticks\": \"\"}}, \"type\": \"scattergeo\"}], \"scattergl\": [{\"marker\": {\"colorbar\": {\"outlinewidth\": 0, \"ticks\": \"\"}}, \"type\": \"scattergl\"}], \"scattermapbox\": [{\"marker\": {\"colorbar\": {\"outlinewidth\": 0, \"ticks\": \"\"}}, \"type\": \"scattermapbox\"}], \"scatterpolar\": [{\"marker\": {\"colorbar\": {\"outlinewidth\": 0, \"ticks\": \"\"}}, \"type\": \"scatterpolar\"}], \"scatterpolargl\": [{\"marker\": {\"colorbar\": {\"outlinewidth\": 0, \"ticks\": \"\"}}, \"type\": \"scatterpolargl\"}], \"scatterternary\": [{\"marker\": {\"colorbar\": {\"outlinewidth\": 0, \"ticks\": \"\"}}, \"type\": \"scatterternary\"}], \"surface\": [{\"colorbar\": {\"outlinewidth\": 0, \"ticks\": \"\"}, \"colorscale\": [[0.0, \"#0d0887\"], [0.1111111111111111, \"#46039f\"], [0.2222222222222222, \"#7201a8\"], [0.3333333333333333, \"#9c179e\"], [0.4444444444444444, \"#bd3786\"], [0.5555555555555556, \"#d8576b\"], [0.6666666666666666, \"#ed7953\"], [0.7777777777777778, \"#fb9f3a\"], [0.8888888888888888, \"#fdca26\"], [1.0, \"#f0f921\"]], \"type\": \"surface\"}], \"table\": [{\"cells\": {\"fill\": {\"color\": \"#EBF0F8\"}, \"line\": {\"color\": \"white\"}}, \"header\": {\"fill\": {\"color\": \"#C8D4E3\"}, \"line\": {\"color\": \"white\"}}, \"type\": \"table\"}]}, \"layout\": {\"annotationdefaults\": {\"arrowcolor\": \"#2a3f5f\", \"arrowhead\": 0, \"arrowwidth\": 1}, \"coloraxis\": {\"colorbar\": {\"outlinewidth\": 0, \"ticks\": \"\"}}, \"colorscale\": {\"diverging\": [[0, \"#8e0152\"], [0.1, \"#c51b7d\"], [0.2, \"#de77ae\"], [0.3, \"#f1b6da\"], [0.4, \"#fde0ef\"], [0.5, \"#f7f7f7\"], [0.6, \"#e6f5d0\"], [0.7, \"#b8e186\"], [0.8, \"#7fbc41\"], [0.9, \"#4d9221\"], [1, \"#276419\"]], \"sequential\": [[0.0, \"#0d0887\"], [0.1111111111111111, \"#46039f\"], [0.2222222222222222, \"#7201a8\"], [0.3333333333333333, \"#9c179e\"], [0.4444444444444444, \"#bd3786\"], [0.5555555555555556, \"#d8576b\"], [0.6666666666666666, \"#ed7953\"], [0.7777777777777778, \"#fb9f3a\"], [0.8888888888888888, \"#fdca26\"], [1.0, \"#f0f921\"]], \"sequentialminus\": [[0.0, \"#0d0887\"], [0.1111111111111111, \"#46039f\"], [0.2222222222222222, \"#7201a8\"], [0.3333333333333333, \"#9c179e\"], [0.4444444444444444, \"#bd3786\"], [0.5555555555555556, \"#d8576b\"], [0.6666666666666666, \"#ed7953\"], [0.7777777777777778, \"#fb9f3a\"], [0.8888888888888888, \"#fdca26\"], [1.0, \"#f0f921\"]]}, \"colorway\": [\"#636efa\", \"#EF553B\", \"#00cc96\", \"#ab63fa\", \"#FFA15A\", \"#19d3f3\", \"#FF6692\", \"#B6E880\", \"#FF97FF\", \"#FECB52\"], \"font\": {\"color\": \"#2a3f5f\"}, \"geo\": {\"bgcolor\": \"white\", \"lakecolor\": \"white\", \"landcolor\": \"#E5ECF6\", \"showlakes\": true, \"showland\": true, \"subunitcolor\": \"white\"}, \"hoverlabel\": {\"align\": \"left\"}, \"hovermode\": \"closest\", \"mapbox\": {\"style\": \"light\"}, \"paper_bgcolor\": \"white\", \"plot_bgcolor\": \"#E5ECF6\", \"polar\": {\"angularaxis\": {\"gridcolor\": \"white\", \"linecolor\": \"white\", \"ticks\": \"\"}, \"bgcolor\": \"#E5ECF6\", \"radialaxis\": {\"gridcolor\": \"white\", \"linecolor\": \"white\", \"ticks\": \"\"}}, \"scene\": {\"xaxis\": {\"backgroundcolor\": \"#E5ECF6\", \"gridcolor\": \"white\", \"gridwidth\": 2, \"linecolor\": \"white\", \"showbackground\": true, \"ticks\": \"\", \"zerolinecolor\": \"white\"}, \"yaxis\": {\"backgroundcolor\": \"#E5ECF6\", \"gridcolor\": \"white\", \"gridwidth\": 2, \"linecolor\": \"white\", \"showbackground\": true, \"ticks\": \"\", \"zerolinecolor\": \"white\"}, \"zaxis\": {\"backgroundcolor\": \"#E5ECF6\", \"gridcolor\": \"white\", \"gridwidth\": 2, \"linecolor\": \"white\", \"showbackground\": true, \"ticks\": \"\", \"zerolinecolor\": \"white\"}}, \"shapedefaults\": {\"line\": {\"color\": \"#2a3f5f\"}}, \"ternary\": {\"aaxis\": {\"gridcolor\": \"white\", \"linecolor\": \"white\", \"ticks\": \"\"}, \"baxis\": {\"gridcolor\": \"white\", \"linecolor\": \"white\", \"ticks\": \"\"}, \"bgcolor\": \"#E5ECF6\", \"caxis\": {\"gridcolor\": \"white\", \"linecolor\": \"white\", \"ticks\": \"\"}}, \"title\": {\"x\": 0.05}, \"xaxis\": {\"automargin\": true, \"gridcolor\": \"white\", \"linecolor\": \"white\", \"ticks\": \"\", \"title\": {\"standoff\": 15}, \"zerolinecolor\": \"white\", \"zerolinewidth\": 2}, \"yaxis\": {\"automargin\": true, \"gridcolor\": \"white\", \"linecolor\": \"white\", \"ticks\": \"\", \"title\": {\"standoff\": 15}, \"zerolinecolor\": \"white\", \"zerolinewidth\": 2}}}, \"title\": {\"font\": {\"size\": 22}, \"text\": \"Balanceamento da Vari\\u00e1vel Target\\n            \"}, \"width\": 800, \"yaxis\": {\"title\": {\"text\": \"Quantidade\"}}},\n",
              "                        {\"responsive\": true}\n",
              "                    ).then(function(){\n",
              "                            \n",
              "var gd = document.getElementById('8cf4dcb2-a4b6-4237-9642-a39c9f4cbe6d');\n",
              "var x = new MutationObserver(function (mutations, observer) {{\n",
              "        var display = window.getComputedStyle(gd).display;\n",
              "        if (!display || display === 'none') {{\n",
              "            console.log([gd, 'removed!']);\n",
              "            Plotly.purge(gd);\n",
              "            observer.disconnect();\n",
              "        }}\n",
              "}});\n",
              "\n",
              "// Listen for the removal of the full notebook cells\n",
              "var notebookContainer = gd.closest('#notebook-container');\n",
              "if (notebookContainer) {{\n",
              "    x.observe(notebookContainer, {childList: true});\n",
              "}}\n",
              "\n",
              "// Listen for the clearing of the current output cell\n",
              "var outputEl = gd.closest('.output');\n",
              "if (outputEl) {{\n",
              "    x.observe(outputEl, {childList: true});\n",
              "}}\n",
              "\n",
              "                        })\n",
              "                };\n",
              "                \n",
              "            </script>\n",
              "        </div>\n",
              "</body>\n",
              "</html>"
            ]
          },
          "metadata": {}
        }
      ]
    },
    {
      "cell_type": "code",
      "metadata": {
        "id": "-JodN0fkhFPY"
      },
      "source": [
        "numerical_features = df_boleto.drop(['fraude','conta_bnk_repetida'], axis=1).select_dtypes(include = np.number).columns"
      ],
      "execution_count": 10,
      "outputs": []
    },
    {
      "cell_type": "code",
      "metadata": {
        "colab": {
          "base_uri": "https://localhost:8080/"
        },
        "id": "fydShvglhs-X",
        "outputId": "975f9f6e-90c4-4b2e-ad7d-757419a5d080"
      },
      "source": [
        "numerical_features "
      ],
      "execution_count": 11,
      "outputs": [
        {
          "output_type": "execute_result",
          "data": {
            "text/plain": [
              "Index(['max_valor_boleto', 'avg_valor_boleto', 'total_valor_boleto',\n",
              "       'valor_boleto_stdv', 'qtd_boleto_pago', 'qtd_boleto_total',\n",
              "       'qtd_boleto_estorno', 'qnt_cc_total', 'tempo_credenciamento'],\n",
              "      dtype='object')"
            ]
          },
          "metadata": {},
          "execution_count": 11
        }
      ]
    },
    {
      "cell_type": "code",
      "metadata": {
        "colab": {
          "base_uri": "https://localhost:8080/",
          "height": 464
        },
        "id": "Ob9c6xO8iJKc",
        "outputId": "f2b7afe3-b8ee-447d-fbae-fc0603a54227"
      },
      "source": [
        "df_boleto[numerical_features].hist()"
      ],
      "execution_count": 12,
      "outputs": [
        {
          "output_type": "execute_result",
          "data": {
            "text/plain": [
              "array([[<matplotlib.axes._subplots.AxesSubplot object at 0x7fb5a7b061d0>,\n",
              "        <matplotlib.axes._subplots.AxesSubplot object at 0x7fb5a7afc990>,\n",
              "        <matplotlib.axes._subplots.AxesSubplot object at 0x7fb5a7af26d0>],\n",
              "       [<matplotlib.axes._subplots.AxesSubplot object at 0x7fb5a7ae8210>,\n",
              "        <matplotlib.axes._subplots.AxesSubplot object at 0x7fb5a7adcb50>,\n",
              "        <matplotlib.axes._subplots.AxesSubplot object at 0x7fb5a739ad10>],\n",
              "       [<matplotlib.axes._subplots.AxesSubplot object at 0x7fb5a735e3d0>,\n",
              "        <matplotlib.axes._subplots.AxesSubplot object at 0x7fb5a7313910>,\n",
              "        <matplotlib.axes._subplots.AxesSubplot object at 0x7fb5a7313950>]],\n",
              "      dtype=object)"
            ]
          },
          "metadata": {},
          "execution_count": 12
        },
        {
          "output_type": "display_data",
          "data": {
            "image/png": "[encoded data removed]",
            "text/plain": [
              "<Figure size 432x288 with 9 Axes>"
            ]
          },
          "metadata": {
            "needs_background": "light"
          }
        }
      ]
    },
    {
      "cell_type": "code",
      "metadata": {
        "colab": {
          "base_uri": "https://localhost:8080/"
        },
        "id": "ZyxB_ecNUGee",
        "outputId": "10195754-8d48-4664-d364-8d6c80497b82"
      },
      "source": [
        "df_boleto['company_id'].value_counts()"
      ],
      "execution_count": 13,
      "outputs": [
        {
          "output_type": "execute_result",
          "data": {
            "text/plain": [
              "5e1c738d7268a016d9e71108    14\n",
              "5e7e508f03cfe831e3703c26    13\n",
              "5e78c7d101e84d486076b16f    13\n",
              "5e7b750f6bbf5c74f19de1a6    13\n",
              "5e7507e20a8d7971d0698d79    13\n",
              "                            ..\n",
              "5ea82b8e373a7770690eb902     1\n",
              "601d4a6b1071ce00116c5dff     1\n",
              "601d443afe80c500121c4dd7     1\n",
              "60193308d5af06001006f86a     1\n",
              "5f3be18d91bd506c139d55fe     1\n",
              "Name: company_id, Length: 4960, dtype: int64"
            ]
          },
          "metadata": {},
          "execution_count": 13
        }
      ]
    },
    {
      "cell_type": "code",
      "metadata": {
        "colab": {
          "base_uri": "https://localhost:8080/",
          "height": 476
        },
        "id": "rgeTvN-5nrtD",
        "outputId": "aa910592-40bd-420a-ef1b-52a0dced89a8"
      },
      "source": [
        "df_boleto.query('company_id ==\"5e78c7d101e84d486076b16f\"')"
      ],
      "execution_count": 15,
      "outputs": [
        {
          "output_type": "execute_result",
          "data": {
            "text/html": [
              "<div>\n",
              "<style scoped>\n",
              "    .dataframe tbody tr th:only-of-type {\n",
              "        vertical-align: middle;\n",
              "    }\n",
              "\n",
              "    .dataframe tbody tr th {\n",
              "        vertical-align: top;\n",
              "    }\n",
              "\n",
              "    .dataframe thead th {\n",
              "        text-align: right;\n",
              "    }\n",
              "</style>\n",
              "<table border=\"1\" class=\"dataframe\">\n",
              "  <thead>\n",
              "    <tr style=\"text-align: right;\">\n",
              "      <th></th>\n",
              "      <th>mes_ref</th>\n",
              "      <th>company_id</th>\n",
              "      <th>tipo_doc</th>\n",
              "      <th>max_valor_boleto</th>\n",
              "      <th>avg_valor_boleto</th>\n",
              "      <th>total_valor_boleto</th>\n",
              "      <th>valor_boleto_stdv</th>\n",
              "      <th>qtd_boleto_pago</th>\n",
              "      <th>qtd_boleto_total</th>\n",
              "      <th>qtd_boleto_estorno</th>\n",
              "      <th>qnt_cc_total</th>\n",
              "      <th>tempo_credenciamento</th>\n",
              "      <th>conta_bnk_repetida</th>\n",
              "      <th>fraude</th>\n",
              "    </tr>\n",
              "  </thead>\n",
              "  <tbody>\n",
              "    <tr>\n",
              "      <th>168</th>\n",
              "      <td>01/03/2020</td>\n",
              "      <td>5e78c7d101e84d486076b16f</td>\n",
              "      <td>cnpj</td>\n",
              "      <td>199.99</td>\n",
              "      <td>199.99</td>\n",
              "      <td>199.99</td>\n",
              "      <td>199.99</td>\n",
              "      <td>5</td>\n",
              "      <td>19</td>\n",
              "      <td>0</td>\n",
              "      <td>0</td>\n",
              "      <td>11</td>\n",
              "      <td>0</td>\n",
              "      <td>0</td>\n",
              "    </tr>\n",
              "    <tr>\n",
              "      <th>230</th>\n",
              "      <td>01/04/2020</td>\n",
              "      <td>5e78c7d101e84d486076b16f</td>\n",
              "      <td>cnpj</td>\n",
              "      <td>199.90</td>\n",
              "      <td>199.90</td>\n",
              "      <td>199.90</td>\n",
              "      <td>199.90</td>\n",
              "      <td>2</td>\n",
              "      <td>14</td>\n",
              "      <td>0</td>\n",
              "      <td>2</td>\n",
              "      <td>11</td>\n",
              "      <td>0</td>\n",
              "      <td>0</td>\n",
              "    </tr>\n",
              "    <tr>\n",
              "      <th>377</th>\n",
              "      <td>01/08/2020</td>\n",
              "      <td>5e78c7d101e84d486076b16f</td>\n",
              "      <td>cnpj</td>\n",
              "      <td>531.17</td>\n",
              "      <td>531.17</td>\n",
              "      <td>531.17</td>\n",
              "      <td>531.17</td>\n",
              "      <td>10</td>\n",
              "      <td>14</td>\n",
              "      <td>0</td>\n",
              "      <td>6</td>\n",
              "      <td>11</td>\n",
              "      <td>0</td>\n",
              "      <td>0</td>\n",
              "    </tr>\n",
              "    <tr>\n",
              "      <th>1128</th>\n",
              "      <td>01/07/2020</td>\n",
              "      <td>5e78c7d101e84d486076b16f</td>\n",
              "      <td>cnpj</td>\n",
              "      <td>285.55</td>\n",
              "      <td>285.55</td>\n",
              "      <td>285.55</td>\n",
              "      <td>285.55</td>\n",
              "      <td>9</td>\n",
              "      <td>20</td>\n",
              "      <td>0</td>\n",
              "      <td>1</td>\n",
              "      <td>11</td>\n",
              "      <td>0</td>\n",
              "      <td>0</td>\n",
              "    </tr>\n",
              "    <tr>\n",
              "      <th>1316</th>\n",
              "      <td>01/10/2020</td>\n",
              "      <td>5e78c7d101e84d486076b16f</td>\n",
              "      <td>cnpj</td>\n",
              "      <td>274.97</td>\n",
              "      <td>274.97</td>\n",
              "      <td>274.97</td>\n",
              "      <td>274.97</td>\n",
              "      <td>18</td>\n",
              "      <td>27</td>\n",
              "      <td>0</td>\n",
              "      <td>14</td>\n",
              "      <td>11</td>\n",
              "      <td>0</td>\n",
              "      <td>0</td>\n",
              "    </tr>\n",
              "    <tr>\n",
              "      <th>1616</th>\n",
              "      <td>01/11/2020</td>\n",
              "      <td>5e78c7d101e84d486076b16f</td>\n",
              "      <td>cnpj</td>\n",
              "      <td>549.94</td>\n",
              "      <td>549.94</td>\n",
              "      <td>549.94</td>\n",
              "      <td>549.94</td>\n",
              "      <td>14</td>\n",
              "      <td>29</td>\n",
              "      <td>0</td>\n",
              "      <td>8</td>\n",
              "      <td>11</td>\n",
              "      <td>0</td>\n",
              "      <td>0</td>\n",
              "    </tr>\n",
              "    <tr>\n",
              "      <th>2077</th>\n",
              "      <td>01/06/2020</td>\n",
              "      <td>5e78c7d101e84d486076b16f</td>\n",
              "      <td>cnpj</td>\n",
              "      <td>275.80</td>\n",
              "      <td>275.80</td>\n",
              "      <td>275.80</td>\n",
              "      <td>275.80</td>\n",
              "      <td>1</td>\n",
              "      <td>2</td>\n",
              "      <td>0</td>\n",
              "      <td>1</td>\n",
              "      <td>11</td>\n",
              "      <td>0</td>\n",
              "      <td>0</td>\n",
              "    </tr>\n",
              "    <tr>\n",
              "      <th>2859</th>\n",
              "      <td>01/05/2020</td>\n",
              "      <td>5e78c7d101e84d486076b16f</td>\n",
              "      <td>cnpj</td>\n",
              "      <td>99.00</td>\n",
              "      <td>99.00</td>\n",
              "      <td>99.00</td>\n",
              "      <td>99.00</td>\n",
              "      <td>1</td>\n",
              "      <td>4</td>\n",
              "      <td>0</td>\n",
              "      <td>8</td>\n",
              "      <td>11</td>\n",
              "      <td>0</td>\n",
              "      <td>0</td>\n",
              "    </tr>\n",
              "    <tr>\n",
              "      <th>2896</th>\n",
              "      <td>01/03/2021</td>\n",
              "      <td>5e78c7d101e84d486076b16f</td>\n",
              "      <td>cnpj</td>\n",
              "      <td>373.60</td>\n",
              "      <td>373.60</td>\n",
              "      <td>373.60</td>\n",
              "      <td>373.60</td>\n",
              "      <td>2</td>\n",
              "      <td>3</td>\n",
              "      <td>0</td>\n",
              "      <td>1</td>\n",
              "      <td>11</td>\n",
              "      <td>0</td>\n",
              "      <td>0</td>\n",
              "    </tr>\n",
              "    <tr>\n",
              "      <th>3746</th>\n",
              "      <td>01/09/2020</td>\n",
              "      <td>5e78c7d101e84d486076b16f</td>\n",
              "      <td>cnpj</td>\n",
              "      <td>285.55</td>\n",
              "      <td>285.55</td>\n",
              "      <td>285.55</td>\n",
              "      <td>285.55</td>\n",
              "      <td>15</td>\n",
              "      <td>30</td>\n",
              "      <td>0</td>\n",
              "      <td>0</td>\n",
              "      <td>11</td>\n",
              "      <td>0</td>\n",
              "      <td>0</td>\n",
              "    </tr>\n",
              "    <tr>\n",
              "      <th>4327</th>\n",
              "      <td>01/12/2020</td>\n",
              "      <td>5e78c7d101e84d486076b16f</td>\n",
              "      <td>cnpj</td>\n",
              "      <td>824.91</td>\n",
              "      <td>824.91</td>\n",
              "      <td>824.91</td>\n",
              "      <td>824.91</td>\n",
              "      <td>21</td>\n",
              "      <td>31</td>\n",
              "      <td>0</td>\n",
              "      <td>1</td>\n",
              "      <td>11</td>\n",
              "      <td>0</td>\n",
              "      <td>0</td>\n",
              "    </tr>\n",
              "    <tr>\n",
              "      <th>4929</th>\n",
              "      <td>01/01/2021</td>\n",
              "      <td>5e78c7d101e84d486076b16f</td>\n",
              "      <td>cnpj</td>\n",
              "      <td>309.60</td>\n",
              "      <td>309.60</td>\n",
              "      <td>309.60</td>\n",
              "      <td>309.60</td>\n",
              "      <td>9</td>\n",
              "      <td>11</td>\n",
              "      <td>0</td>\n",
              "      <td>9</td>\n",
              "      <td>11</td>\n",
              "      <td>0</td>\n",
              "      <td>0</td>\n",
              "    </tr>\n",
              "    <tr>\n",
              "      <th>8110</th>\n",
              "      <td>01/02/2021</td>\n",
              "      <td>5e78c7d101e84d486076b16f</td>\n",
              "      <td>cnpj</td>\n",
              "      <td>339.45</td>\n",
              "      <td>339.45</td>\n",
              "      <td>339.45</td>\n",
              "      <td>339.45</td>\n",
              "      <td>7</td>\n",
              "      <td>14</td>\n",
              "      <td>0</td>\n",
              "      <td>3</td>\n",
              "      <td>11</td>\n",
              "      <td>0</td>\n",
              "      <td>0</td>\n",
              "    </tr>\n",
              "  </tbody>\n",
              "</table>\n",
              "</div>"
            ],
            "text/plain": [
              "         mes_ref                company_id  ... conta_bnk_repetida  fraude\n",
              "168   01/03/2020  5e78c7d101e84d486076b16f  ...                  0       0\n",
              "230   01/04/2020  5e78c7d101e84d486076b16f  ...                  0       0\n",
              "377   01/08/2020  5e78c7d101e84d486076b16f  ...                  0       0\n",
              "1128  01/07/2020  5e78c7d101e84d486076b16f  ...                  0       0\n",
              "1316  01/10/2020  5e78c7d101e84d486076b16f  ...                  0       0\n",
              "1616  01/11/2020  5e78c7d101e84d486076b16f  ...                  0       0\n",
              "2077  01/06/2020  5e78c7d101e84d486076b16f  ...                  0       0\n",
              "2859  01/05/2020  5e78c7d101e84d486076b16f  ...                  0       0\n",
              "2896  01/03/2021  5e78c7d101e84d486076b16f  ...                  0       0\n",
              "3746  01/09/2020  5e78c7d101e84d486076b16f  ...                  0       0\n",
              "4327  01/12/2020  5e78c7d101e84d486076b16f  ...                  0       0\n",
              "4929  01/01/2021  5e78c7d101e84d486076b16f  ...                  0       0\n",
              "8110  01/02/2021  5e78c7d101e84d486076b16f  ...                  0       0\n",
              "\n",
              "[13 rows x 14 columns]"
            ]
          },
          "metadata": {},
          "execution_count": 15
        }
      ]
    },
    {
      "cell_type": "code",
      "metadata": {
        "id": "-NKcpAqGqIY4"
      },
      "source": [
        "df_boleto_clean = df_boleto.groupby(['company_id', 'tipo_doc','conta_bnk_repetida','fraude']).mean().reset_index()"
      ],
      "execution_count": 16,
      "outputs": []
    },
    {
      "cell_type": "code",
      "metadata": {
        "colab": {
          "base_uri": "https://localhost:8080/",
          "height": 424
        },
        "id": "8KwomlRnsVKC",
        "outputId": "f475b456-b474-48fa-bc32-9fda0a798f3c"
      },
      "source": [
        "df_amount= df_boleto.groupby(['company_id']).size().reset_index()\n",
        "df_amount = df_amount.rename(columns={0: \"amount\"})\n",
        "df_amount"
      ],
      "execution_count": 18,
      "outputs": [
        {
          "output_type": "execute_result",
          "data": {
            "text/html": [
              "<div>\n",
              "<style scoped>\n",
              "    .dataframe tbody tr th:only-of-type {\n",
              "        vertical-align: middle;\n",
              "    }\n",
              "\n",
              "    .dataframe tbody tr th {\n",
              "        vertical-align: top;\n",
              "    }\n",
              "\n",
              "    .dataframe thead th {\n",
              "        text-align: right;\n",
              "    }\n",
              "</style>\n",
              "<table border=\"1\" class=\"dataframe\">\n",
              "  <thead>\n",
              "    <tr style=\"text-align: right;\">\n",
              "      <th></th>\n",
              "      <th>company_id</th>\n",
              "      <th>amount</th>\n",
              "    </tr>\n",
              "  </thead>\n",
              "  <tbody>\n",
              "    <tr>\n",
              "      <th>0</th>\n",
              "      <td>5e0eb0115e364024155a696c</td>\n",
              "      <td>1</td>\n",
              "    </tr>\n",
              "    <tr>\n",
              "      <th>1</th>\n",
              "      <td>5e0f70e84331ba63bb6a3eb0</td>\n",
              "      <td>9</td>\n",
              "    </tr>\n",
              "    <tr>\n",
              "      <th>2</th>\n",
              "      <td>5e1485a98e158b0d6cfc4df9</td>\n",
              "      <td>1</td>\n",
              "    </tr>\n",
              "    <tr>\n",
              "      <th>3</th>\n",
              "      <td>5e149751d9d52a271763c0e1</td>\n",
              "      <td>1</td>\n",
              "    </tr>\n",
              "    <tr>\n",
              "      <th>4</th>\n",
              "      <td>5e14ac4c6204025f8ec345a3</td>\n",
              "      <td>4</td>\n",
              "    </tr>\n",
              "    <tr>\n",
              "      <th>...</th>\n",
              "      <td>...</td>\n",
              "      <td>...</td>\n",
              "    </tr>\n",
              "    <tr>\n",
              "      <th>4955</th>\n",
              "      <td>60442a0bb22d6100118bc21a</td>\n",
              "      <td>1</td>\n",
              "    </tr>\n",
              "    <tr>\n",
              "      <th>4956</th>\n",
              "      <td>60444661b22d6100118bc276</td>\n",
              "      <td>1</td>\n",
              "    </tr>\n",
              "    <tr>\n",
              "      <th>4957</th>\n",
              "      <td>60444c6505b7f90019aa3e20</td>\n",
              "      <td>1</td>\n",
              "    </tr>\n",
              "    <tr>\n",
              "      <th>4958</th>\n",
              "      <td>60445669a8b6c8001136e544</td>\n",
              "      <td>1</td>\n",
              "    </tr>\n",
              "    <tr>\n",
              "      <th>4959</th>\n",
              "      <td>60448af00269de0019bfac5a</td>\n",
              "      <td>1</td>\n",
              "    </tr>\n",
              "  </tbody>\n",
              "</table>\n",
              "<p>4960 rows × 2 columns</p>\n",
              "</div>"
            ],
            "text/plain": [
              "                    company_id  amount\n",
              "0     5e0eb0115e364024155a696c       1\n",
              "1     5e0f70e84331ba63bb6a3eb0       9\n",
              "2     5e1485a98e158b0d6cfc4df9       1\n",
              "3     5e149751d9d52a271763c0e1       1\n",
              "4     5e14ac4c6204025f8ec345a3       4\n",
              "...                        ...     ...\n",
              "4955  60442a0bb22d6100118bc21a       1\n",
              "4956  60444661b22d6100118bc276       1\n",
              "4957  60444c6505b7f90019aa3e20       1\n",
              "4958  60445669a8b6c8001136e544       1\n",
              "4959  60448af00269de0019bfac5a       1\n",
              "\n",
              "[4960 rows x 2 columns]"
            ]
          },
          "metadata": {},
          "execution_count": 18
        }
      ]
    },
    {
      "cell_type": "code",
      "metadata": {
        "colab": {
          "base_uri": "https://localhost:8080/"
        },
        "id": "WJKL1EvuzGjT",
        "outputId": "ef27f919-6825-4f94-aee4-0c56d8e9276f"
      },
      "source": [
        "df_amount.company_id.value_counts()"
      ],
      "execution_count": 19,
      "outputs": [
        {
          "output_type": "execute_result",
          "data": {
            "text/plain": [
              "5e724bd6d95d002aa846a265    1\n",
              "5f15b45456defc71b0e02e7c    1\n",
              "5fce8f9008cdf3001762ebca    1\n",
              "5ffef012852e8000179b57de    1\n",
              "5ec43ae493d82738f2b5f6d5    1\n",
              "                           ..\n",
              "5fac07c2c7bcfb0016f25813    1\n",
              "5ebe9ff41a4bca2f2e9e32f5    1\n",
              "5f0fa42e358d3823962635d1    1\n",
              "6006b7cea11a3c001625df72    1\n",
              "5f3be18d91bd506c139d55fe    1\n",
              "Name: company_id, Length: 4960, dtype: int64"
            ]
          },
          "metadata": {},
          "execution_count": 19
        }
      ]
    },
    {
      "cell_type": "code",
      "metadata": {
        "colab": {
          "base_uri": "https://localhost:8080/",
          "height": 444
        },
        "id": "uqda1qeMsVD4",
        "outputId": "c85db38a-f4c5-4e7c-e26e-1fe68d113a26"
      },
      "source": [
        "df_boleto_clean = df_boleto_clean.merge(df_amount, on='company_id')\n",
        "df_boleto_clean"
      ],
      "execution_count": 20,
      "outputs": [
        {
          "output_type": "execute_result",
          "data": {
            "text/html": [
              "<div>\n",
              "<style scoped>\n",
              "    .dataframe tbody tr th:only-of-type {\n",
              "        vertical-align: middle;\n",
              "    }\n",
              "\n",
              "    .dataframe tbody tr th {\n",
              "        vertical-align: top;\n",
              "    }\n",
              "\n",
              "    .dataframe thead th {\n",
              "        text-align: right;\n",
              "    }\n",
              "</style>\n",
              "<table border=\"1\" class=\"dataframe\">\n",
              "  <thead>\n",
              "    <tr style=\"text-align: right;\">\n",
              "      <th></th>\n",
              "      <th>company_id</th>\n",
              "      <th>tipo_doc</th>\n",
              "      <th>conta_bnk_repetida</th>\n",
              "      <th>fraude</th>\n",
              "      <th>max_valor_boleto</th>\n",
              "      <th>avg_valor_boleto</th>\n",
              "      <th>total_valor_boleto</th>\n",
              "      <th>valor_boleto_stdv</th>\n",
              "      <th>qtd_boleto_pago</th>\n",
              "      <th>qtd_boleto_total</th>\n",
              "      <th>qtd_boleto_estorno</th>\n",
              "      <th>qnt_cc_total</th>\n",
              "      <th>tempo_credenciamento</th>\n",
              "      <th>amount</th>\n",
              "    </tr>\n",
              "  </thead>\n",
              "  <tbody>\n",
              "    <tr>\n",
              "      <th>0</th>\n",
              "      <td>5e0eb0115e364024155a696c</td>\n",
              "      <td>cpf</td>\n",
              "      <td>0</td>\n",
              "      <td>0</td>\n",
              "      <td>597.950000</td>\n",
              "      <td>597.950000</td>\n",
              "      <td>597.950000</td>\n",
              "      <td>597.950000</td>\n",
              "      <td>0.000000</td>\n",
              "      <td>4.000000</td>\n",
              "      <td>0.0</td>\n",
              "      <td>3.000000</td>\n",
              "      <td>14.0</td>\n",
              "      <td>1</td>\n",
              "    </tr>\n",
              "    <tr>\n",
              "      <th>1</th>\n",
              "      <td>5e0f70e84331ba63bb6a3eb0</td>\n",
              "      <td>cnpj</td>\n",
              "      <td>0</td>\n",
              "      <td>0</td>\n",
              "      <td>831.977778</td>\n",
              "      <td>831.977778</td>\n",
              "      <td>831.977778</td>\n",
              "      <td>831.977778</td>\n",
              "      <td>1.666667</td>\n",
              "      <td>2.333333</td>\n",
              "      <td>0.0</td>\n",
              "      <td>11.888889</td>\n",
              "      <td>14.0</td>\n",
              "      <td>9</td>\n",
              "    </tr>\n",
              "    <tr>\n",
              "      <th>2</th>\n",
              "      <td>5e1485a98e158b0d6cfc4df9</td>\n",
              "      <td>cpf</td>\n",
              "      <td>0</td>\n",
              "      <td>0</td>\n",
              "      <td>792.930000</td>\n",
              "      <td>792.930000</td>\n",
              "      <td>792.930000</td>\n",
              "      <td>792.930000</td>\n",
              "      <td>0.000000</td>\n",
              "      <td>1.000000</td>\n",
              "      <td>0.0</td>\n",
              "      <td>0.000000</td>\n",
              "      <td>14.0</td>\n",
              "      <td>1</td>\n",
              "    </tr>\n",
              "    <tr>\n",
              "      <th>3</th>\n",
              "      <td>5e149751d9d52a271763c0e1</td>\n",
              "      <td>cnpj</td>\n",
              "      <td>0</td>\n",
              "      <td>0</td>\n",
              "      <td>2399.000000</td>\n",
              "      <td>2399.000000</td>\n",
              "      <td>2399.000000</td>\n",
              "      <td>2399.000000</td>\n",
              "      <td>0.000000</td>\n",
              "      <td>1.000000</td>\n",
              "      <td>0.0</td>\n",
              "      <td>2.000000</td>\n",
              "      <td>14.0</td>\n",
              "      <td>1</td>\n",
              "    </tr>\n",
              "    <tr>\n",
              "      <th>4</th>\n",
              "      <td>5e14ac4c6204025f8ec345a3</td>\n",
              "      <td>cnpj</td>\n",
              "      <td>0</td>\n",
              "      <td>0</td>\n",
              "      <td>396.150000</td>\n",
              "      <td>396.150000</td>\n",
              "      <td>396.150000</td>\n",
              "      <td>396.150000</td>\n",
              "      <td>1.750000</td>\n",
              "      <td>3.000000</td>\n",
              "      <td>0.0</td>\n",
              "      <td>46.750000</td>\n",
              "      <td>14.0</td>\n",
              "      <td>4</td>\n",
              "    </tr>\n",
              "    <tr>\n",
              "      <th>...</th>\n",
              "      <td>...</td>\n",
              "      <td>...</td>\n",
              "      <td>...</td>\n",
              "      <td>...</td>\n",
              "      <td>...</td>\n",
              "      <td>...</td>\n",
              "      <td>...</td>\n",
              "      <td>...</td>\n",
              "      <td>...</td>\n",
              "      <td>...</td>\n",
              "      <td>...</td>\n",
              "      <td>...</td>\n",
              "      <td>...</td>\n",
              "      <td>...</td>\n",
              "    </tr>\n",
              "    <tr>\n",
              "      <th>4955</th>\n",
              "      <td>60442a0bb22d6100118bc21a</td>\n",
              "      <td>cnpj</td>\n",
              "      <td>0</td>\n",
              "      <td>0</td>\n",
              "      <td>10020.000000</td>\n",
              "      <td>10020.000000</td>\n",
              "      <td>10020.000000</td>\n",
              "      <td>10020.000000</td>\n",
              "      <td>0.000000</td>\n",
              "      <td>2.000000</td>\n",
              "      <td>0.0</td>\n",
              "      <td>0.000000</td>\n",
              "      <td>0.0</td>\n",
              "      <td>1</td>\n",
              "    </tr>\n",
              "    <tr>\n",
              "      <th>4956</th>\n",
              "      <td>60444661b22d6100118bc276</td>\n",
              "      <td>cnpj</td>\n",
              "      <td>0</td>\n",
              "      <td>0</td>\n",
              "      <td>12090.000000</td>\n",
              "      <td>12090.000000</td>\n",
              "      <td>12090.000000</td>\n",
              "      <td>12090.000000</td>\n",
              "      <td>0.000000</td>\n",
              "      <td>2.000000</td>\n",
              "      <td>0.0</td>\n",
              "      <td>0.000000</td>\n",
              "      <td>0.0</td>\n",
              "      <td>1</td>\n",
              "    </tr>\n",
              "    <tr>\n",
              "      <th>4957</th>\n",
              "      <td>60444c6505b7f90019aa3e20</td>\n",
              "      <td>cnpj</td>\n",
              "      <td>0</td>\n",
              "      <td>0</td>\n",
              "      <td>26541.710000</td>\n",
              "      <td>26541.710000</td>\n",
              "      <td>26541.710000</td>\n",
              "      <td>26541.710000</td>\n",
              "      <td>0.000000</td>\n",
              "      <td>2.000000</td>\n",
              "      <td>0.0</td>\n",
              "      <td>0.000000</td>\n",
              "      <td>0.0</td>\n",
              "      <td>1</td>\n",
              "    </tr>\n",
              "    <tr>\n",
              "      <th>4958</th>\n",
              "      <td>60445669a8b6c8001136e544</td>\n",
              "      <td>cnpj</td>\n",
              "      <td>0</td>\n",
              "      <td>0</td>\n",
              "      <td>17681.370000</td>\n",
              "      <td>17681.370000</td>\n",
              "      <td>17681.370000</td>\n",
              "      <td>17681.370000</td>\n",
              "      <td>0.000000</td>\n",
              "      <td>1.000000</td>\n",
              "      <td>0.0</td>\n",
              "      <td>0.000000</td>\n",
              "      <td>0.0</td>\n",
              "      <td>1</td>\n",
              "    </tr>\n",
              "    <tr>\n",
              "      <th>4959</th>\n",
              "      <td>60448af00269de0019bfac5a</td>\n",
              "      <td>cnpj</td>\n",
              "      <td>0</td>\n",
              "      <td>0</td>\n",
              "      <td>11803.000000</td>\n",
              "      <td>11803.000000</td>\n",
              "      <td>11803.000000</td>\n",
              "      <td>11803.000000</td>\n",
              "      <td>0.000000</td>\n",
              "      <td>2.000000</td>\n",
              "      <td>0.0</td>\n",
              "      <td>0.000000</td>\n",
              "      <td>0.0</td>\n",
              "      <td>1</td>\n",
              "    </tr>\n",
              "  </tbody>\n",
              "</table>\n",
              "<p>4960 rows × 14 columns</p>\n",
              "</div>"
            ],
            "text/plain": [
              "                    company_id tipo_doc  ...  tempo_credenciamento  amount\n",
              "0     5e0eb0115e364024155a696c      cpf  ...                  14.0       1\n",
              "1     5e0f70e84331ba63bb6a3eb0     cnpj  ...                  14.0       9\n",
              "2     5e1485a98e158b0d6cfc4df9      cpf  ...                  14.0       1\n",
              "3     5e149751d9d52a271763c0e1     cnpj  ...                  14.0       1\n",
              "4     5e14ac4c6204025f8ec345a3     cnpj  ...                  14.0       4\n",
              "...                        ...      ...  ...                   ...     ...\n",
              "4955  60442a0bb22d6100118bc21a     cnpj  ...                   0.0       1\n",
              "4956  60444661b22d6100118bc276     cnpj  ...                   0.0       1\n",
              "4957  60444c6505b7f90019aa3e20     cnpj  ...                   0.0       1\n",
              "4958  60445669a8b6c8001136e544     cnpj  ...                   0.0       1\n",
              "4959  60448af00269de0019bfac5a     cnpj  ...                   0.0       1\n",
              "\n",
              "[4960 rows x 14 columns]"
            ]
          },
          "metadata": {},
          "execution_count": 20
        }
      ]
    },
    {
      "cell_type": "code",
      "metadata": {
        "colab": {
          "base_uri": "https://localhost:8080/"
        },
        "id": "nLQgxsI-WXMI",
        "outputId": "a4447269-cc4b-4caf-f9c2-ff5b55f0aa5b"
      },
      "source": [
        " df_boleto['fraude']== \"1\""
      ],
      "execution_count": 21,
      "outputs": [
        {
          "output_type": "execute_result",
          "data": {
            "text/plain": [
              "0       False\n",
              "1       False\n",
              "2       False\n",
              "3       False\n",
              "4       False\n",
              "        ...  \n",
              "9272    False\n",
              "9273    False\n",
              "9274    False\n",
              "9275    False\n",
              "9276    False\n",
              "Name: fraude, Length: 9277, dtype: bool"
            ]
          },
          "metadata": {},
          "execution_count": 21
        }
      ]
    },
    {
      "cell_type": "code",
      "metadata": {
        "id": "td0F6qQ2WrKI"
      },
      "source": [
        "df_fraud = df_boleto.query('fraude == 1')\n",
        "df_no_fraud = df_boleto.query('fraude == 0')"
      ],
      "execution_count": 22,
      "outputs": []
    },
    {
      "cell_type": "code",
      "metadata": {
        "colab": {
          "base_uri": "https://localhost:8080/",
          "height": 966
        },
        "id": "Nbsyxpky0o-J",
        "outputId": "1e495cb1-ccdb-4073-a734-bcfe37bedf75"
      },
      "source": [
        "\n",
        "fig , ax = plt.subplots(figsize=(8, 12), sharex=True)\n",
        "sns.boxplot(df_boleto.fraude, df_boleto.avg_valor_boleto, showmeans=True, ax=ax, orient='v')\n",
        "plt.xticks([0, 1],['Normal', 'Fraude'])\n",
        "plt.tight_layout();"
      ],
      "execution_count": 23,
      "outputs": [
        {
          "output_type": "stream",
          "name": "stderr",
          "text": [
            "/usr/local/lib/python3.7/dist-packages/seaborn/_decorators.py:43: FutureWarning:\n",
            "\n",
            "Pass the following variables as keyword args: x, y. From version 0.12, the only valid positional argument will be `data`, and passing other arguments without an explicit keyword will result in an error or misinterpretation.\n",
            "\n"
          ]
        },
        {
          "output_type": "display_data",
          "data": {
            "image/png": "[encoded data removed]",
            "text/plain": [
              "<Figure size 576x864 with 1 Axes>"
            ]
          },
          "metadata": {
            "needs_background": "light"
          }
        }
      ]
    },
    {
      "cell_type": "markdown",
      "metadata": {
        "id": "DCZRA51z2dMS"
      },
      "source": [
        "5357, 8785"
      ]
    },
    {
      "cell_type": "code",
      "metadata": {
        "colab": {
          "base_uri": "https://localhost:8080/",
          "height": 132
        },
        "id": "zuHzwRKd2TjI",
        "outputId": "3224e73f-f23f-49a4-ddae-8817b057135f"
      },
      "source": [
        "df_boleto.query('avg_valor_boleto > 10000000.0')"
      ],
      "execution_count": 24,
      "outputs": [
        {
          "output_type": "execute_result",
          "data": {
            "text/html": [
              "<div>\n",
              "<style scoped>\n",
              "    .dataframe tbody tr th:only-of-type {\n",
              "        vertical-align: middle;\n",
              "    }\n",
              "\n",
              "    .dataframe tbody tr th {\n",
              "        vertical-align: top;\n",
              "    }\n",
              "\n",
              "    .dataframe thead th {\n",
              "        text-align: right;\n",
              "    }\n",
              "</style>\n",
              "<table border=\"1\" class=\"dataframe\">\n",
              "  <thead>\n",
              "    <tr style=\"text-align: right;\">\n",
              "      <th></th>\n",
              "      <th>mes_ref</th>\n",
              "      <th>company_id</th>\n",
              "      <th>tipo_doc</th>\n",
              "      <th>max_valor_boleto</th>\n",
              "      <th>avg_valor_boleto</th>\n",
              "      <th>total_valor_boleto</th>\n",
              "      <th>valor_boleto_stdv</th>\n",
              "      <th>qtd_boleto_pago</th>\n",
              "      <th>qtd_boleto_total</th>\n",
              "      <th>qtd_boleto_estorno</th>\n",
              "      <th>qnt_cc_total</th>\n",
              "      <th>tempo_credenciamento</th>\n",
              "      <th>conta_bnk_repetida</th>\n",
              "      <th>fraude</th>\n",
              "    </tr>\n",
              "  </thead>\n",
              "  <tbody>\n",
              "    <tr>\n",
              "      <th>5357</th>\n",
              "      <td>01/01/2021</td>\n",
              "      <td>5f2806ac630047377469fc39</td>\n",
              "      <td>cpf</td>\n",
              "      <td>20000000.00</td>\n",
              "      <td>20000000.00</td>\n",
              "      <td>20000000.00</td>\n",
              "      <td>20000000.00</td>\n",
              "      <td>0</td>\n",
              "      <td>3</td>\n",
              "      <td>0</td>\n",
              "      <td>0</td>\n",
              "      <td>5</td>\n",
              "      <td>0</td>\n",
              "      <td>1</td>\n",
              "    </tr>\n",
              "    <tr>\n",
              "      <th>8785</th>\n",
              "      <td>01/06/2020</td>\n",
              "      <td>5ed79c02aac2f87ee2f8f0d4</td>\n",
              "      <td>cpf</td>\n",
              "      <td>21474836.47</td>\n",
              "      <td>21474836.47</td>\n",
              "      <td>21474836.47</td>\n",
              "      <td>21474836.47</td>\n",
              "      <td>0</td>\n",
              "      <td>2</td>\n",
              "      <td>0</td>\n",
              "      <td>0</td>\n",
              "      <td>8</td>\n",
              "      <td>0</td>\n",
              "      <td>0</td>\n",
              "    </tr>\n",
              "  </tbody>\n",
              "</table>\n",
              "</div>"
            ],
            "text/plain": [
              "         mes_ref                company_id  ... conta_bnk_repetida  fraude\n",
              "5357  01/01/2021  5f2806ac630047377469fc39  ...                  0       1\n",
              "8785  01/06/2020  5ed79c02aac2f87ee2f8f0d4  ...                  0       0\n",
              "\n",
              "[2 rows x 14 columns]"
            ]
          },
          "metadata": {},
          "execution_count": 24
        }
      ]
    },
    {
      "cell_type": "code",
      "metadata": {
        "id": "vAJei9mv2voN"
      },
      "source": [
        "df_boleto = df_boleto.drop([5357, 8785])"
      ],
      "execution_count": 25,
      "outputs": []
    },
    {
      "cell_type": "code",
      "metadata": {
        "colab": {
          "base_uri": "https://localhost:8080/",
          "height": 966
        },
        "id": "Kw0LyEtW2_Yb",
        "outputId": "21f36cf9-ae1c-43b0-9e5a-8d56365f96fb"
      },
      "source": [
        "fig , ax = plt.subplots(figsize=(8, 12), sharex=True)\n",
        "sns.boxplot(df_boleto.fraude, df_boleto.avg_valor_boleto, showmeans=True, ax=ax, orient='v')\n",
        "plt.xticks([0, 1],['Normal', 'Fraude'])\n",
        "plt.tight_layout();"
      ],
      "execution_count": 26,
      "outputs": [
        {
          "output_type": "stream",
          "name": "stderr",
          "text": [
            "/usr/local/lib/python3.7/dist-packages/seaborn/_decorators.py:43: FutureWarning:\n",
            "\n",
            "Pass the following variables as keyword args: x, y. From version 0.12, the only valid positional argument will be `data`, and passing other arguments without an explicit keyword will result in an error or misinterpretation.\n",
            "\n"
          ]
        },
        {
          "output_type": "display_data",
          "data": {
            "image/png": "[encoded data removed]",
            "text/plain": [
              "<Figure size 576x864 with 1 Axes>"
            ]
          },
          "metadata": {
            "needs_background": "light"
          }
        }
      ]
    },
    {
      "cell_type": "code",
      "metadata": {
        "id": "mGfL315B2_UD"
      },
      "source": [
        "def get_iqr_values(df_in, col_name):\n",
        "    median = df_in[col_name].median()\n",
        "    q1 = df_in[col_name].quantile(0.25) # 25th percentile / 1st quartile\n",
        "    q3 = df_in[col_name].quantile(0.75) # 7th percentile / 3rd quartile\n",
        "    iqr = q3-q1 #Interquartile range\n",
        "    minimum  = q1-1.5*iqr # The minimum value or the |- marker in the box plot\n",
        "    maximum = q3+1.5*iqr # The maximum value or the -| marker in the box plot\n",
        "    return median, q1, q3, iqr, minimum, maximum\n",
        "\n",
        "def get_iqr_text(df_in, col_name):\n",
        "    median, q1, q3, iqr, minimum, maximum = get_iqr_values(df_in, col_name)\n",
        "    text = f\"median={median:.2f}, q1={q1:.2f}, q3={q3:.2f}, iqr={iqr:.2f}, minimum={minimum:.2f}, maximum={maximum:.2f}\"\n",
        "    return text\n",
        "\n",
        "def remove_outliers(df_in, col_name):\n",
        "    _, _, _, _, minimum, maximum = get_iqr_values(df_in, col_name)\n",
        "    df_out = df_in.loc[(df_in[col_name] > minimum) & (df_in[col_name] < maximum)]\n",
        "    return df_out\n",
        "\n",
        "def count_outliers(df_in, col_name):\n",
        "    _, _, _, _, minimum, maximum = get_iqr_values(df_in, col_name)\n",
        "    df_outliers = df_in.loc[(df_in[col_name] <= minimum) | (df_in[col_name] >= maximum)]\n",
        "    return df_outliers.shape[0]\n",
        "\n",
        "def box_and_whisker(df_in, col_name):\n",
        "    title = get_iqr_text(df_in, col_name)\n",
        "    sns.boxplot(df_in[col_name], color= color[0])\n",
        "    plt.title(title)\n",
        "    plt.show()"
      ],
      "execution_count": 117,
      "outputs": []
    },
    {
      "cell_type": "code",
      "metadata": {
        "colab": {
          "base_uri": "https://localhost:8080/",
          "height": 1000
        },
        "id": "TdIEg0oS4i5m",
        "outputId": "423cfe5e-e81a-4348-a203-6b9213e2edce"
      },
      "source": [
        "box_and_whisker(df_boleto, 'avg_valor_boleto')\n",
        "box_and_whisker(df_boleto, 'valor_boleto_stdv')\n",
        "box_and_whisker(df_boleto, 'max_valor_boleto')\n",
        "box_and_whisker(df_boleto, 'total_valor_boleto')"
      ],
      "execution_count": 118,
      "outputs": [
        {
          "output_type": "stream",
          "name": "stderr",
          "text": [
            "/usr/local/lib/python3.7/dist-packages/seaborn/_decorators.py:43: FutureWarning:\n",
            "\n",
            "Pass the following variable as a keyword arg: x. From version 0.12, the only valid positional argument will be `data`, and passing other arguments without an explicit keyword will result in an error or misinterpretation.\n",
            "\n"
          ]
        },
        {
          "output_type": "display_data",
          "data": {
            "image/png": "[encoded data removed]",
            "text/plain": [
              "<Figure size 432x288 with 1 Axes>"
            ]
          },
          "metadata": {
            "needs_background": "light"
          }
        },
        {
          "output_type": "stream",
          "name": "stderr",
          "text": [
            "/usr/local/lib/python3.7/dist-packages/seaborn/_decorators.py:43: FutureWarning:\n",
            "\n",
            "Pass the following variable as a keyword arg: x. From version 0.12, the only valid positional argument will be `data`, and passing other arguments without an explicit keyword will result in an error or misinterpretation.\n",
            "\n"
          ]
        },
        {
          "output_type": "display_data",
          "data": {
            "image/png": "[encoded data removed]",
            "text/plain": [
              "<Figure size 432x288 with 1 Axes>"
            ]
          },
          "metadata": {
            "needs_background": "light"
          }
        },
        {
          "output_type": "stream",
          "name": "stderr",
          "text": [
            "/usr/local/lib/python3.7/dist-packages/seaborn/_decorators.py:43: FutureWarning:\n",
            "\n",
            "Pass the following variable as a keyword arg: x. From version 0.12, the only valid positional argument will be `data`, and passing other arguments without an explicit keyword will result in an error or misinterpretation.\n",
            "\n"
          ]
        },
        {
          "output_type": "display_data",
          "data": {
            "image/png": "[encoded data removed]",
            "text/plain": [
              "<Figure size 432x288 with 1 Axes>"
            ]
          },
          "metadata": {
            "needs_background": "light"
          }
        },
        {
          "output_type": "stream",
          "name": "stderr",
          "text": [
            "/usr/local/lib/python3.7/dist-packages/seaborn/_decorators.py:43: FutureWarning:\n",
            "\n",
            "Pass the following variable as a keyword arg: x. From version 0.12, the only valid positional argument will be `data`, and passing other arguments without an explicit keyword will result in an error or misinterpretation.\n",
            "\n"
          ]
        },
        {
          "output_type": "display_data",
          "data": {
            "image/png": "[encoded data removed]",
            "text/plain": [
              "<Figure size 432x288 with 1 Axes>"
            ]
          },
          "metadata": {
            "needs_background": "light"
          }
        }
      ]
    },
    {
      "cell_type": "code",
      "metadata": {
        "colab": {
          "base_uri": "https://localhost:8080/"
        },
        "id": "pw6kUDTk23w5",
        "outputId": "80a361ab-f52a-4e30-f4e8-58ce9ac356cb"
      },
      "source": [
        "print(f\" A coluna valor_boleto_stdv tem {count_outliers(df_boleto, 'valor_boleto_stdv')} outliers\")\n",
        "print(f\" A coluna total_valor_boleto tem {count_outliers(df_boleto, 'total_valor_boleto')} outliers\")\n",
        "print(f\" A coluna avg_valor_boleto tem {count_outliers(df_boleto, 'avg_valor_boleto')} outliers\")\n",
        "print(f\" A coluna max_valor_boleto tem {count_outliers(df_boleto, 'max_valor_boleto')} outliers\")"
      ],
      "execution_count": 29,
      "outputs": [
        {
          "output_type": "stream",
          "name": "stdout",
          "text": [
            " A coluna valor_boleto_stdv tem 1419 outliers\n",
            " A coluna total_valor_boleto tem 1419 outliers\n",
            " A coluna avg_valor_boleto tem 1419 outliers\n",
            " A coluna max_valor_boleto tem 1419 outliers\n"
          ]
        }
      ]
    },
    {
      "cell_type": "code",
      "metadata": {
        "colab": {
          "base_uri": "https://localhost:8080/",
          "height": 1000
        },
        "id": "KVppRF5N6UKz",
        "outputId": "f98d9d74-90d2-4b9b-cc87-952fe51eb295"
      },
      "source": [
        "# %% Remove the outliers\n",
        "print(f\"rows before removing: {df_boleto.shape[0]}\")\n",
        "df_boleto = remove_outliers(df_boleto, 'valor_boleto_stdv')\n",
        "df_boleto = remove_outliers(df_boleto, 'total_valor_boleto')\n",
        "df_boleto = remove_outliers(df_boleto, 'avg_valor_boleto')\n",
        "df_boleto = remove_outliers(df_boleto, 'max_valor_boleto')\n",
        "print(f\"rows after removing: {df_boleto.shape[0]}\")\n",
        "\n",
        "# Let's have a look at the end-result. Here is something very strange though, our data still appears to have outliers!\n",
        "box_and_whisker(df_boleto, 'valor_boleto_stdv')\n",
        "box_and_whisker(df_boleto, 'total_valor_boleto')\n",
        "box_and_whisker(df_boleto, 'avg_valor_boleto')\n",
        "box_and_whisker(df_boleto, 'max_valor_boleto')"
      ],
      "execution_count": 119,
      "outputs": [
        {
          "output_type": "stream",
          "name": "stdout",
          "text": [
            "rows before removing: 5748\n",
            "rows after removing: 5459\n"
          ]
        },
        {
          "output_type": "stream",
          "name": "stderr",
          "text": [
            "/usr/local/lib/python3.7/dist-packages/seaborn/_decorators.py:43: FutureWarning:\n",
            "\n",
            "Pass the following variable as a keyword arg: x. From version 0.12, the only valid positional argument will be `data`, and passing other arguments without an explicit keyword will result in an error or misinterpretation.\n",
            "\n"
          ]
        },
        {
          "output_type": "display_data",
          "data": {
            "image/png": "[encoded data removed]",
            "text/plain": [
              "<Figure size 432x288 with 1 Axes>"
            ]
          },
          "metadata": {
            "needs_background": "light"
          }
        },
        {
          "output_type": "stream",
          "name": "stderr",
          "text": [
            "/usr/local/lib/python3.7/dist-packages/seaborn/_decorators.py:43: FutureWarning:\n",
            "\n",
            "Pass the following variable as a keyword arg: x. From version 0.12, the only valid positional argument will be `data`, and passing other arguments without an explicit keyword will result in an error or misinterpretation.\n",
            "\n"
          ]
        },
        {
          "output_type": "display_data",
          "data": {
            "image/png": "[encoded data removed]",
            "text/plain": [
              "<Figure size 432x288 with 1 Axes>"
            ]
          },
          "metadata": {
            "needs_background": "light"
          }
        },
        {
          "output_type": "stream",
          "name": "stderr",
          "text": [
            "/usr/local/lib/python3.7/dist-packages/seaborn/_decorators.py:43: FutureWarning:\n",
            "\n",
            "Pass the following variable as a keyword arg: x. From version 0.12, the only valid positional argument will be `data`, and passing other arguments without an explicit keyword will result in an error or misinterpretation.\n",
            "\n"
          ]
        },
        {
          "output_type": "display_data",
          "data": {
            "image/png": "[encoded data removed]",
            "text/plain": [
              "<Figure size 432x288 with 1 Axes>"
            ]
          },
          "metadata": {
            "needs_background": "light"
          }
        },
        {
          "output_type": "stream",
          "name": "stderr",
          "text": [
            "/usr/local/lib/python3.7/dist-packages/seaborn/_decorators.py:43: FutureWarning:\n",
            "\n",
            "Pass the following variable as a keyword arg: x. From version 0.12, the only valid positional argument will be `data`, and passing other arguments without an explicit keyword will result in an error or misinterpretation.\n",
            "\n"
          ]
        },
        {
          "output_type": "display_data",
          "data": {
            "image/png": "[encoded data removed]",
            "text/plain": [
              "<Figure size 432x288 with 1 Axes>"
            ]
          },
          "metadata": {
            "needs_background": "light"
          }
        }
      ]
    },
    {
      "cell_type": "code",
      "metadata": {
        "id": "AQj4SRgB7tKU"
      },
      "source": [
        "df_fraud = df_boleto.query('fraude == 1')\n",
        "df_no_fraud = df_boleto.query('fraude == 0')"
      ],
      "execution_count": 31,
      "outputs": []
    },
    {
      "cell_type": "code",
      "metadata": {
        "colab": {
          "base_uri": "https://localhost:8080/",
          "height": 101
        },
        "id": "Lcwb0DuBzCaJ",
        "outputId": "6689ab79-9102-43fe-d472-acdf4de39114"
      },
      "source": [
        "df_fraud.query('company_id == \"5f2806ac630047377469fc39\"')"
      ],
      "execution_count": 35,
      "outputs": [
        {
          "output_type": "execute_result",
          "data": {
            "text/html": [
              "<div>\n",
              "<style scoped>\n",
              "    .dataframe tbody tr th:only-of-type {\n",
              "        vertical-align: middle;\n",
              "    }\n",
              "\n",
              "    .dataframe tbody tr th {\n",
              "        vertical-align: top;\n",
              "    }\n",
              "\n",
              "    .dataframe thead th {\n",
              "        text-align: right;\n",
              "    }\n",
              "</style>\n",
              "<table border=\"1\" class=\"dataframe\">\n",
              "  <thead>\n",
              "    <tr style=\"text-align: right;\">\n",
              "      <th></th>\n",
              "      <th>mes_ref</th>\n",
              "      <th>company_id</th>\n",
              "      <th>tipo_doc</th>\n",
              "      <th>max_valor_boleto</th>\n",
              "      <th>avg_valor_boleto</th>\n",
              "      <th>total_valor_boleto</th>\n",
              "      <th>valor_boleto_stdv</th>\n",
              "      <th>qtd_boleto_pago</th>\n",
              "      <th>qtd_boleto_total</th>\n",
              "      <th>qtd_boleto_estorno</th>\n",
              "      <th>qnt_cc_total</th>\n",
              "      <th>tempo_credenciamento</th>\n",
              "      <th>conta_bnk_repetida</th>\n",
              "      <th>fraude</th>\n",
              "    </tr>\n",
              "  </thead>\n",
              "  <tbody>\n",
              "    <tr>\n",
              "      <th>8847</th>\n",
              "      <td>01/02/2021</td>\n",
              "      <td>5f2806ac630047377469fc39</td>\n",
              "      <td>cpf</td>\n",
              "      <td>912.4</td>\n",
              "      <td>912.4</td>\n",
              "      <td>912.4</td>\n",
              "      <td>912.4</td>\n",
              "      <td>0</td>\n",
              "      <td>3</td>\n",
              "      <td>0</td>\n",
              "      <td>0</td>\n",
              "      <td>5</td>\n",
              "      <td>0</td>\n",
              "      <td>1</td>\n",
              "    </tr>\n",
              "  </tbody>\n",
              "</table>\n",
              "</div>"
            ],
            "text/plain": [
              "         mes_ref                company_id  ... conta_bnk_repetida  fraude\n",
              "8847  01/02/2021  5f2806ac630047377469fc39  ...                  0       1\n",
              "\n",
              "[1 rows x 14 columns]"
            ]
          },
          "metadata": {},
          "execution_count": 35
        }
      ]
    },
    {
      "cell_type": "code",
      "metadata": {
        "colab": {
          "base_uri": "https://localhost:8080/",
          "height": 320
        },
        "id": "_Fg5RlCO0PIp",
        "outputId": "a0c3b396-ab0d-4b28-dcc6-2fd3fb412662"
      },
      "source": [
        "df_fraud.describe()"
      ],
      "execution_count": 36,
      "outputs": [
        {
          "output_type": "execute_result",
          "data": {
            "text/html": [
              "<div>\n",
              "<style scoped>\n",
              "    .dataframe tbody tr th:only-of-type {\n",
              "        vertical-align: middle;\n",
              "    }\n",
              "\n",
              "    .dataframe tbody tr th {\n",
              "        vertical-align: top;\n",
              "    }\n",
              "\n",
              "    .dataframe thead th {\n",
              "        text-align: right;\n",
              "    }\n",
              "</style>\n",
              "<table border=\"1\" class=\"dataframe\">\n",
              "  <thead>\n",
              "    <tr style=\"text-align: right;\">\n",
              "      <th></th>\n",
              "      <th>max_valor_boleto</th>\n",
              "      <th>avg_valor_boleto</th>\n",
              "      <th>total_valor_boleto</th>\n",
              "      <th>valor_boleto_stdv</th>\n",
              "      <th>qtd_boleto_pago</th>\n",
              "      <th>qtd_boleto_total</th>\n",
              "      <th>qtd_boleto_estorno</th>\n",
              "      <th>qnt_cc_total</th>\n",
              "      <th>tempo_credenciamento</th>\n",
              "      <th>conta_bnk_repetida</th>\n",
              "      <th>fraude</th>\n",
              "    </tr>\n",
              "  </thead>\n",
              "  <tbody>\n",
              "    <tr>\n",
              "      <th>count</th>\n",
              "      <td>142.000000</td>\n",
              "      <td>142.000000</td>\n",
              "      <td>142.000000</td>\n",
              "      <td>142.000000</td>\n",
              "      <td>142.000000</td>\n",
              "      <td>142.000000</td>\n",
              "      <td>142.000000</td>\n",
              "      <td>142.0</td>\n",
              "      <td>142.000000</td>\n",
              "      <td>142.000000</td>\n",
              "      <td>142.0</td>\n",
              "    </tr>\n",
              "    <tr>\n",
              "      <th>mean</th>\n",
              "      <td>565.685211</td>\n",
              "      <td>565.685211</td>\n",
              "      <td>565.685211</td>\n",
              "      <td>565.685211</td>\n",
              "      <td>0.450704</td>\n",
              "      <td>5.612676</td>\n",
              "      <td>1.767606</td>\n",
              "      <td>0.0</td>\n",
              "      <td>2.640845</td>\n",
              "      <td>0.676056</td>\n",
              "      <td>1.0</td>\n",
              "    </tr>\n",
              "    <tr>\n",
              "      <th>std</th>\n",
              "      <td>282.496700</td>\n",
              "      <td>282.496700</td>\n",
              "      <td>282.496700</td>\n",
              "      <td>282.496700</td>\n",
              "      <td>2.454053</td>\n",
              "      <td>9.060747</td>\n",
              "      <td>2.191749</td>\n",
              "      <td>0.0</td>\n",
              "      <td>2.015337</td>\n",
              "      <td>0.469635</td>\n",
              "      <td>0.0</td>\n",
              "    </tr>\n",
              "    <tr>\n",
              "      <th>min</th>\n",
              "      <td>3.000000</td>\n",
              "      <td>3.000000</td>\n",
              "      <td>3.000000</td>\n",
              "      <td>3.000000</td>\n",
              "      <td>0.000000</td>\n",
              "      <td>1.000000</td>\n",
              "      <td>0.000000</td>\n",
              "      <td>0.0</td>\n",
              "      <td>0.000000</td>\n",
              "      <td>0.000000</td>\n",
              "      <td>1.0</td>\n",
              "    </tr>\n",
              "    <tr>\n",
              "      <th>25%</th>\n",
              "      <td>479.407500</td>\n",
              "      <td>479.407500</td>\n",
              "      <td>479.407500</td>\n",
              "      <td>479.407500</td>\n",
              "      <td>0.000000</td>\n",
              "      <td>2.000000</td>\n",
              "      <td>0.000000</td>\n",
              "      <td>0.0</td>\n",
              "      <td>1.000000</td>\n",
              "      <td>0.000000</td>\n",
              "      <td>1.0</td>\n",
              "    </tr>\n",
              "    <tr>\n",
              "      <th>50%</th>\n",
              "      <td>599.795000</td>\n",
              "      <td>599.795000</td>\n",
              "      <td>599.795000</td>\n",
              "      <td>599.795000</td>\n",
              "      <td>0.000000</td>\n",
              "      <td>4.000000</td>\n",
              "      <td>1.000000</td>\n",
              "      <td>0.0</td>\n",
              "      <td>4.000000</td>\n",
              "      <td>1.000000</td>\n",
              "      <td>1.0</td>\n",
              "    </tr>\n",
              "    <tr>\n",
              "      <th>75%</th>\n",
              "      <td>700.000000</td>\n",
              "      <td>700.000000</td>\n",
              "      <td>700.000000</td>\n",
              "      <td>700.000000</td>\n",
              "      <td>0.000000</td>\n",
              "      <td>6.000000</td>\n",
              "      <td>4.000000</td>\n",
              "      <td>0.0</td>\n",
              "      <td>4.000000</td>\n",
              "      <td>1.000000</td>\n",
              "      <td>1.0</td>\n",
              "    </tr>\n",
              "    <tr>\n",
              "      <th>max</th>\n",
              "      <td>1057.000000</td>\n",
              "      <td>1057.000000</td>\n",
              "      <td>1057.000000</td>\n",
              "      <td>1057.000000</td>\n",
              "      <td>24.000000</td>\n",
              "      <td>89.000000</td>\n",
              "      <td>9.000000</td>\n",
              "      <td>0.0</td>\n",
              "      <td>8.000000</td>\n",
              "      <td>1.000000</td>\n",
              "      <td>1.0</td>\n",
              "    </tr>\n",
              "  </tbody>\n",
              "</table>\n",
              "</div>"
            ],
            "text/plain": [
              "       max_valor_boleto  avg_valor_boleto  ...  conta_bnk_repetida  fraude\n",
              "count        142.000000        142.000000  ...          142.000000   142.0\n",
              "mean         565.685211        565.685211  ...            0.676056     1.0\n",
              "std          282.496700        282.496700  ...            0.469635     0.0\n",
              "min            3.000000          3.000000  ...            0.000000     1.0\n",
              "25%          479.407500        479.407500  ...            0.000000     1.0\n",
              "50%          599.795000        599.795000  ...            1.000000     1.0\n",
              "75%          700.000000        700.000000  ...            1.000000     1.0\n",
              "max         1057.000000       1057.000000  ...            1.000000     1.0\n",
              "\n",
              "[8 rows x 11 columns]"
            ]
          },
          "metadata": {},
          "execution_count": 36
        }
      ]
    },
    {
      "cell_type": "code",
      "metadata": {
        "colab": {
          "base_uri": "https://localhost:8080/",
          "height": 320
        },
        "id": "D6V2TcDCcAQk",
        "outputId": "e02d0321-10a5-4c87-a55c-c6b557b1926f"
      },
      "source": [
        "df_no_fraud.describe()"
      ],
      "execution_count": 37,
      "outputs": [
        {
          "output_type": "execute_result",
          "data": {
            "text/html": [
              "<div>\n",
              "<style scoped>\n",
              "    .dataframe tbody tr th:only-of-type {\n",
              "        vertical-align: middle;\n",
              "    }\n",
              "\n",
              "    .dataframe tbody tr th {\n",
              "        vertical-align: top;\n",
              "    }\n",
              "\n",
              "    .dataframe thead th {\n",
              "        text-align: right;\n",
              "    }\n",
              "</style>\n",
              "<table border=\"1\" class=\"dataframe\">\n",
              "  <thead>\n",
              "    <tr style=\"text-align: right;\">\n",
              "      <th></th>\n",
              "      <th>max_valor_boleto</th>\n",
              "      <th>avg_valor_boleto</th>\n",
              "      <th>total_valor_boleto</th>\n",
              "      <th>valor_boleto_stdv</th>\n",
              "      <th>qtd_boleto_pago</th>\n",
              "      <th>qtd_boleto_total</th>\n",
              "      <th>qtd_boleto_estorno</th>\n",
              "      <th>qnt_cc_total</th>\n",
              "      <th>tempo_credenciamento</th>\n",
              "      <th>conta_bnk_repetida</th>\n",
              "      <th>fraude</th>\n",
              "    </tr>\n",
              "  </thead>\n",
              "  <tbody>\n",
              "    <tr>\n",
              "      <th>count</th>\n",
              "      <td>5606.000000</td>\n",
              "      <td>5606.000000</td>\n",
              "      <td>5606.000000</td>\n",
              "      <td>5606.000000</td>\n",
              "      <td>5606.000000</td>\n",
              "      <td>5606.000000</td>\n",
              "      <td>5606.000000</td>\n",
              "      <td>5606.000000</td>\n",
              "      <td>5606.000000</td>\n",
              "      <td>5606.000000</td>\n",
              "      <td>5606.0</td>\n",
              "    </tr>\n",
              "    <tr>\n",
              "      <th>mean</th>\n",
              "      <td>284.693007</td>\n",
              "      <td>284.693007</td>\n",
              "      <td>284.693007</td>\n",
              "      <td>284.693007</td>\n",
              "      <td>4.633607</td>\n",
              "      <td>7.370318</td>\n",
              "      <td>0.008741</td>\n",
              "      <td>8.498751</td>\n",
              "      <td>8.864788</td>\n",
              "      <td>0.008027</td>\n",
              "      <td>0.0</td>\n",
              "    </tr>\n",
              "    <tr>\n",
              "      <th>std</th>\n",
              "      <td>246.313423</td>\n",
              "      <td>246.313423</td>\n",
              "      <td>246.313423</td>\n",
              "      <td>246.313423</td>\n",
              "      <td>12.956191</td>\n",
              "      <td>21.110141</td>\n",
              "      <td>0.133952</td>\n",
              "      <td>21.392402</td>\n",
              "      <td>3.047044</td>\n",
              "      <td>0.089242</td>\n",
              "      <td>0.0</td>\n",
              "    </tr>\n",
              "    <tr>\n",
              "      <th>min</th>\n",
              "      <td>1.000000</td>\n",
              "      <td>1.000000</td>\n",
              "      <td>1.000000</td>\n",
              "      <td>1.000000</td>\n",
              "      <td>0.000000</td>\n",
              "      <td>1.000000</td>\n",
              "      <td>0.000000</td>\n",
              "      <td>0.000000</td>\n",
              "      <td>0.000000</td>\n",
              "      <td>0.000000</td>\n",
              "      <td>0.0</td>\n",
              "    </tr>\n",
              "    <tr>\n",
              "      <th>25%</th>\n",
              "      <td>99.300000</td>\n",
              "      <td>99.300000</td>\n",
              "      <td>99.300000</td>\n",
              "      <td>99.300000</td>\n",
              "      <td>0.000000</td>\n",
              "      <td>1.000000</td>\n",
              "      <td>0.000000</td>\n",
              "      <td>0.000000</td>\n",
              "      <td>8.000000</td>\n",
              "      <td>0.000000</td>\n",
              "      <td>0.0</td>\n",
              "    </tr>\n",
              "    <tr>\n",
              "      <th>50%</th>\n",
              "      <td>200.000000</td>\n",
              "      <td>200.000000</td>\n",
              "      <td>200.000000</td>\n",
              "      <td>200.000000</td>\n",
              "      <td>1.000000</td>\n",
              "      <td>2.000000</td>\n",
              "      <td>0.000000</td>\n",
              "      <td>2.000000</td>\n",
              "      <td>10.000000</td>\n",
              "      <td>0.000000</td>\n",
              "      <td>0.0</td>\n",
              "    </tr>\n",
              "    <tr>\n",
              "      <th>75%</th>\n",
              "      <td>407.675000</td>\n",
              "      <td>407.675000</td>\n",
              "      <td>407.675000</td>\n",
              "      <td>407.675000</td>\n",
              "      <td>3.000000</td>\n",
              "      <td>5.000000</td>\n",
              "      <td>0.000000</td>\n",
              "      <td>8.000000</td>\n",
              "      <td>11.000000</td>\n",
              "      <td>0.000000</td>\n",
              "      <td>0.0</td>\n",
              "    </tr>\n",
              "    <tr>\n",
              "      <th>max</th>\n",
              "      <td>1057.000000</td>\n",
              "      <td>1057.000000</td>\n",
              "      <td>1057.000000</td>\n",
              "      <td>1057.000000</td>\n",
              "      <td>189.000000</td>\n",
              "      <td>423.000000</td>\n",
              "      <td>4.000000</td>\n",
              "      <td>528.000000</td>\n",
              "      <td>14.000000</td>\n",
              "      <td>1.000000</td>\n",
              "      <td>0.0</td>\n",
              "    </tr>\n",
              "  </tbody>\n",
              "</table>\n",
              "</div>"
            ],
            "text/plain": [
              "       max_valor_boleto  avg_valor_boleto  ...  conta_bnk_repetida  fraude\n",
              "count       5606.000000       5606.000000  ...         5606.000000  5606.0\n",
              "mean         284.693007        284.693007  ...            0.008027     0.0\n",
              "std          246.313423        246.313423  ...            0.089242     0.0\n",
              "min            1.000000          1.000000  ...            0.000000     0.0\n",
              "25%           99.300000         99.300000  ...            0.000000     0.0\n",
              "50%          200.000000        200.000000  ...            0.000000     0.0\n",
              "75%          407.675000        407.675000  ...            0.000000     0.0\n",
              "max         1057.000000       1057.000000  ...            1.000000     0.0\n",
              "\n",
              "[8 rows x 11 columns]"
            ]
          },
          "metadata": {},
          "execution_count": 37
        }
      ]
    },
    {
      "cell_type": "code",
      "metadata": {
        "colab": {
          "base_uri": "https://localhost:8080/",
          "height": 284
        },
        "id": "eZUMNegw-FQS",
        "outputId": "40f71de2-e96f-4ba6-f3d2-b6bee3b02f87"
      },
      "source": [
        "df_fraud['max_valor_boleto'].hist()"
      ],
      "execution_count": 38,
      "outputs": [
        {
          "output_type": "execute_result",
          "data": {
            "text/plain": [
              "<matplotlib.axes._subplots.AxesSubplot at 0x7fb5a65931d0>"
            ]
          },
          "metadata": {},
          "execution_count": 38
        },
        {
          "output_type": "display_data",
          "data": {
            "image/png": "[encoded data removed]",
            "text/plain": [
              "<Figure size 432x288 with 1 Axes>"
            ]
          },
          "metadata": {
            "needs_background": "light"
          }
        }
      ]
    },
    {
      "cell_type": "code",
      "metadata": {
        "colab": {
          "base_uri": "https://localhost:8080/"
        },
        "id": "wH2E9XOy-Q1n",
        "outputId": "9e5cb8d9-9aa3-425b-f14f-3ec86fa3702f"
      },
      "source": [
        "df_fraud['company_id'].value_counts()"
      ],
      "execution_count": 39,
      "outputs": [
        {
          "output_type": "execute_result",
          "data": {
            "text/plain": [
              "6009fe6293e19e00106dc3b5    3\n",
              "5fc6e59a83ca9b0010788e3b    2\n",
              "5f3497c9ca191809dce38b01    2\n",
              "5f735388cce4d546e910d1fe    2\n",
              "5f47b573c0276a3940155085    2\n",
              "                           ..\n",
              "5f5a293fad9ac66575dbd0e4    1\n",
              "5edbce71de8b4e1ac28ba953    1\n",
              "5fb72cc83406af0016fd6d9c    1\n",
              "5f8faa1998c7b700111d1865    1\n",
              "5ff6f62c365cdb00127b1daf    1\n",
              "Name: company_id, Length: 125, dtype: int64"
            ]
          },
          "metadata": {},
          "execution_count": 39
        }
      ]
    },
    {
      "cell_type": "code",
      "metadata": {
        "colab": {
          "base_uri": "https://localhost:8080/",
          "height": 164
        },
        "id": "ailxKgPUB8iL",
        "outputId": "8dc94dc3-b877-4b73-ec2c-5fe39d4ce331"
      },
      "source": [
        "df_fraud.query('company_id == \"6009fe6293e19e00106dc3b5\" ')"
      ],
      "execution_count": 40,
      "outputs": [
        {
          "output_type": "execute_result",
          "data": {
            "text/html": [
              "<div>\n",
              "<style scoped>\n",
              "    .dataframe tbody tr th:only-of-type {\n",
              "        vertical-align: middle;\n",
              "    }\n",
              "\n",
              "    .dataframe tbody tr th {\n",
              "        vertical-align: top;\n",
              "    }\n",
              "\n",
              "    .dataframe thead th {\n",
              "        text-align: right;\n",
              "    }\n",
              "</style>\n",
              "<table border=\"1\" class=\"dataframe\">\n",
              "  <thead>\n",
              "    <tr style=\"text-align: right;\">\n",
              "      <th></th>\n",
              "      <th>mes_ref</th>\n",
              "      <th>company_id</th>\n",
              "      <th>tipo_doc</th>\n",
              "      <th>max_valor_boleto</th>\n",
              "      <th>avg_valor_boleto</th>\n",
              "      <th>total_valor_boleto</th>\n",
              "      <th>valor_boleto_stdv</th>\n",
              "      <th>qtd_boleto_pago</th>\n",
              "      <th>qtd_boleto_total</th>\n",
              "      <th>qtd_boleto_estorno</th>\n",
              "      <th>qnt_cc_total</th>\n",
              "      <th>tempo_credenciamento</th>\n",
              "      <th>conta_bnk_repetida</th>\n",
              "      <th>fraude</th>\n",
              "    </tr>\n",
              "  </thead>\n",
              "  <tbody>\n",
              "    <tr>\n",
              "      <th>2375</th>\n",
              "      <td>01/03/2021</td>\n",
              "      <td>6009fe6293e19e00106dc3b5</td>\n",
              "      <td>cpf</td>\n",
              "      <td>700.00</td>\n",
              "      <td>700.00</td>\n",
              "      <td>700.00</td>\n",
              "      <td>700.00</td>\n",
              "      <td>0</td>\n",
              "      <td>2</td>\n",
              "      <td>0</td>\n",
              "      <td>0</td>\n",
              "      <td>0</td>\n",
              "      <td>0</td>\n",
              "      <td>1</td>\n",
              "    </tr>\n",
              "    <tr>\n",
              "      <th>4730</th>\n",
              "      <td>01/02/2021</td>\n",
              "      <td>6009fe6293e19e00106dc3b5</td>\n",
              "      <td>cpf</td>\n",
              "      <td>500.00</td>\n",
              "      <td>500.00</td>\n",
              "      <td>500.00</td>\n",
              "      <td>500.00</td>\n",
              "      <td>0</td>\n",
              "      <td>13</td>\n",
              "      <td>8</td>\n",
              "      <td>0</td>\n",
              "      <td>0</td>\n",
              "      <td>0</td>\n",
              "      <td>1</td>\n",
              "    </tr>\n",
              "    <tr>\n",
              "      <th>9197</th>\n",
              "      <td>01/01/2021</td>\n",
              "      <td>6009fe6293e19e00106dc3b5</td>\n",
              "      <td>cpf</td>\n",
              "      <td>627.67</td>\n",
              "      <td>627.67</td>\n",
              "      <td>627.67</td>\n",
              "      <td>627.67</td>\n",
              "      <td>0</td>\n",
              "      <td>9</td>\n",
              "      <td>2</td>\n",
              "      <td>0</td>\n",
              "      <td>0</td>\n",
              "      <td>0</td>\n",
              "      <td>1</td>\n",
              "    </tr>\n",
              "  </tbody>\n",
              "</table>\n",
              "</div>"
            ],
            "text/plain": [
              "         mes_ref                company_id  ... conta_bnk_repetida  fraude\n",
              "2375  01/03/2021  6009fe6293e19e00106dc3b5  ...                  0       1\n",
              "4730  01/02/2021  6009fe6293e19e00106dc3b5  ...                  0       1\n",
              "9197  01/01/2021  6009fe6293e19e00106dc3b5  ...                  0       1\n",
              "\n",
              "[3 rows x 14 columns]"
            ]
          },
          "metadata": {},
          "execution_count": 40
        }
      ]
    },
    {
      "cell_type": "code",
      "metadata": {
        "colab": {
          "base_uri": "https://localhost:8080/"
        },
        "id": "p_PJ6FpNDxLX",
        "outputId": "49d4729e-bba1-452f-8268-ec299fd87c3f"
      },
      "source": [
        "df_fraud['conta_bnk_repetida'].value_counts(normalize=True)"
      ],
      "execution_count": 41,
      "outputs": [
        {
          "output_type": "execute_result",
          "data": {
            "text/plain": [
              "1    0.676056\n",
              "0    0.323944\n",
              "Name: conta_bnk_repetida, dtype: float64"
            ]
          },
          "metadata": {},
          "execution_count": 41
        }
      ]
    },
    {
      "cell_type": "code",
      "metadata": {
        "colab": {
          "base_uri": "https://localhost:8080/"
        },
        "id": "qgxdEJ_1D-er",
        "outputId": "a508c8a4-54eb-4502-e6af-ed3beb2e10f9"
      },
      "source": [
        "df_no_fraud['conta_bnk_repetida'].value_counts(normalize=True)"
      ],
      "execution_count": 42,
      "outputs": [
        {
          "output_type": "execute_result",
          "data": {
            "text/plain": [
              "0    0.991973\n",
              "1    0.008027\n",
              "Name: conta_bnk_repetida, dtype: float64"
            ]
          },
          "metadata": {},
          "execution_count": 42
        }
      ]
    },
    {
      "cell_type": "code",
      "metadata": {
        "colab": {
          "base_uri": "https://localhost:8080/"
        },
        "id": "2TNu6Pq7EK5T",
        "outputId": "d0bee22a-3857-48b0-f6c1-fa3c62c9fe5f"
      },
      "source": [
        "df_no_fraud['tempo_credenciamento'].value_counts(normalize=True)"
      ],
      "execution_count": 43,
      "outputs": [
        {
          "output_type": "execute_result",
          "data": {
            "text/plain": [
              "11    0.345701\n",
              "10    0.187656\n",
              "9     0.154656\n",
              "8     0.071709\n",
              "4     0.033535\n",
              "0     0.033357\n",
              "3     0.030146\n",
              "7     0.028362\n",
              "12    0.023011\n",
              "6     0.022654\n",
              "5     0.020335\n",
              "1     0.019800\n",
              "2     0.011238\n",
              "14    0.008919\n",
              "13    0.008919\n",
              "Name: tempo_credenciamento, dtype: float64"
            ]
          },
          "metadata": {},
          "execution_count": 43
        }
      ]
    },
    {
      "cell_type": "code",
      "metadata": {
        "colab": {
          "base_uri": "https://localhost:8080/"
        },
        "id": "0gwpf0InEXoi",
        "outputId": "30c3ab8b-e099-4aa2-84fb-e7c8e1f8c365"
      },
      "source": [
        "df_fraud['tempo_credenciamento'].value_counts(normalize=True)"
      ],
      "execution_count": 44,
      "outputs": [
        {
          "output_type": "execute_result",
          "data": {
            "text/plain": [
              "4    0.394366\n",
              "0    0.239437\n",
              "1    0.126761\n",
              "2    0.098592\n",
              "5    0.091549\n",
              "8    0.021127\n",
              "3    0.021127\n",
              "7    0.007042\n",
              "Name: tempo_credenciamento, dtype: float64"
            ]
          },
          "metadata": {},
          "execution_count": 44
        }
      ]
    },
    {
      "cell_type": "code",
      "metadata": {
        "colab": {
          "base_uri": "https://localhost:8080/"
        },
        "id": "y0LZgVuYEkc6",
        "outputId": "3f5928b9-5eae-47a8-8724-76a0d033ed68"
      },
      "source": [
        "df_no_fraud['qnt_cc_total'].value_counts(normalize=True)"
      ],
      "execution_count": 45,
      "outputs": [
        {
          "output_type": "execute_result",
          "data": {
            "text/plain": [
              "0      0.380485\n",
              "1      0.099358\n",
              "2      0.064930\n",
              "3      0.055833\n",
              "4      0.043168\n",
              "         ...   \n",
              "117    0.000178\n",
              "113    0.000178\n",
              "105    0.000178\n",
              "93     0.000178\n",
              "161    0.000178\n",
              "Name: qnt_cc_total, Length: 134, dtype: float64"
            ]
          },
          "metadata": {},
          "execution_count": 45
        }
      ]
    },
    {
      "cell_type": "code",
      "metadata": {
        "colab": {
          "base_uri": "https://localhost:8080/"
        },
        "id": "2EbZQnWkEzZg",
        "outputId": "d57208c1-7c25-43c9-ed15-9f27fd31cbbb"
      },
      "source": [
        "df_fraud['qnt_cc_total'].value_counts(normalize=True)"
      ],
      "execution_count": 46,
      "outputs": [
        {
          "output_type": "execute_result",
          "data": {
            "text/plain": [
              "0    1.0\n",
              "Name: qnt_cc_total, dtype: float64"
            ]
          },
          "metadata": {},
          "execution_count": 46
        }
      ]
    },
    {
      "cell_type": "code",
      "metadata": {
        "colab": {
          "base_uri": "https://localhost:8080/"
        },
        "id": "H6cseSdhFZnG",
        "outputId": "9e24c55a-43fc-4368-b4a7-d9e472bbe8f7"
      },
      "source": [
        "df_fraud['qtd_boleto_estorno'].value_counts(normalize=True)"
      ],
      "execution_count": 47,
      "outputs": [
        {
          "output_type": "execute_result",
          "data": {
            "text/plain": [
              "0    0.471831\n",
              "4    0.183099\n",
              "1    0.119718\n",
              "2    0.105634\n",
              "6    0.049296\n",
              "5    0.028169\n",
              "8    0.014085\n",
              "3    0.014085\n",
              "9    0.007042\n",
              "7    0.007042\n",
              "Name: qtd_boleto_estorno, dtype: float64"
            ]
          },
          "metadata": {},
          "execution_count": 47
        }
      ]
    },
    {
      "cell_type": "code",
      "metadata": {
        "colab": {
          "base_uri": "https://localhost:8080/"
        },
        "id": "G0OEvJeLFkT8",
        "outputId": "77d088dc-8b17-4050-e48f-ba1e6b512c0a"
      },
      "source": [
        "df_no_fraud['qtd_boleto_estorno'].value_counts(normalize=True)"
      ],
      "execution_count": 48,
      "outputs": [
        {
          "output_type": "execute_result",
          "data": {
            "text/plain": [
              "0    0.993757\n",
              "1    0.005173\n",
              "4    0.000714\n",
              "2    0.000357\n",
              "Name: qtd_boleto_estorno, dtype: float64"
            ]
          },
          "metadata": {},
          "execution_count": 48
        }
      ]
    },
    {
      "cell_type": "code",
      "metadata": {
        "colab": {
          "base_uri": "https://localhost:8080/",
          "height": 444
        },
        "id": "2MRC2hKgBSgH",
        "outputId": "0f9e7cac-02eb-4509-d1ea-0db356f09708"
      },
      "source": [
        "df_no_fraud"
      ],
      "execution_count": 49,
      "outputs": [
        {
          "output_type": "execute_result",
          "data": {
            "text/html": [
              "<div>\n",
              "<style scoped>\n",
              "    .dataframe tbody tr th:only-of-type {\n",
              "        vertical-align: middle;\n",
              "    }\n",
              "\n",
              "    .dataframe tbody tr th {\n",
              "        vertical-align: top;\n",
              "    }\n",
              "\n",
              "    .dataframe thead th {\n",
              "        text-align: right;\n",
              "    }\n",
              "</style>\n",
              "<table border=\"1\" class=\"dataframe\">\n",
              "  <thead>\n",
              "    <tr style=\"text-align: right;\">\n",
              "      <th></th>\n",
              "      <th>mes_ref</th>\n",
              "      <th>company_id</th>\n",
              "      <th>tipo_doc</th>\n",
              "      <th>max_valor_boleto</th>\n",
              "      <th>avg_valor_boleto</th>\n",
              "      <th>total_valor_boleto</th>\n",
              "      <th>valor_boleto_stdv</th>\n",
              "      <th>qtd_boleto_pago</th>\n",
              "      <th>qtd_boleto_total</th>\n",
              "      <th>qtd_boleto_estorno</th>\n",
              "      <th>qnt_cc_total</th>\n",
              "      <th>tempo_credenciamento</th>\n",
              "      <th>conta_bnk_repetida</th>\n",
              "      <th>fraude</th>\n",
              "    </tr>\n",
              "  </thead>\n",
              "  <tbody>\n",
              "    <tr>\n",
              "      <th>2</th>\n",
              "      <td>01/03/2020</td>\n",
              "      <td>5e73e21359193c2f123c1076</td>\n",
              "      <td>cnpj</td>\n",
              "      <td>159.9</td>\n",
              "      <td>159.9</td>\n",
              "      <td>159.9</td>\n",
              "      <td>159.9</td>\n",
              "      <td>0</td>\n",
              "      <td>2</td>\n",
              "      <td>0</td>\n",
              "      <td>14</td>\n",
              "      <td>11</td>\n",
              "      <td>0</td>\n",
              "      <td>0</td>\n",
              "    </tr>\n",
              "    <tr>\n",
              "      <th>3</th>\n",
              "      <td>01/04/2020</td>\n",
              "      <td>5e7262c49d55ea5dbea59d57</td>\n",
              "      <td>cnpj</td>\n",
              "      <td>600.0</td>\n",
              "      <td>600.0</td>\n",
              "      <td>600.0</td>\n",
              "      <td>600.0</td>\n",
              "      <td>0</td>\n",
              "      <td>3</td>\n",
              "      <td>0</td>\n",
              "      <td>18</td>\n",
              "      <td>11</td>\n",
              "      <td>0</td>\n",
              "      <td>0</td>\n",
              "    </tr>\n",
              "    <tr>\n",
              "      <th>5</th>\n",
              "      <td>01/04/2020</td>\n",
              "      <td>5e820bd5afa5275e41256253</td>\n",
              "      <td>cnpj</td>\n",
              "      <td>10.0</td>\n",
              "      <td>10.0</td>\n",
              "      <td>10.0</td>\n",
              "      <td>10.0</td>\n",
              "      <td>1</td>\n",
              "      <td>1</td>\n",
              "      <td>0</td>\n",
              "      <td>5</td>\n",
              "      <td>11</td>\n",
              "      <td>0</td>\n",
              "      <td>0</td>\n",
              "    </tr>\n",
              "    <tr>\n",
              "      <th>6</th>\n",
              "      <td>01/04/2020</td>\n",
              "      <td>5e8608cc1a20cb550a715bd8</td>\n",
              "      <td>cnpj</td>\n",
              "      <td>200.0</td>\n",
              "      <td>200.0</td>\n",
              "      <td>200.0</td>\n",
              "      <td>200.0</td>\n",
              "      <td>1</td>\n",
              "      <td>1</td>\n",
              "      <td>0</td>\n",
              "      <td>8</td>\n",
              "      <td>11</td>\n",
              "      <td>0</td>\n",
              "      <td>0</td>\n",
              "    </tr>\n",
              "    <tr>\n",
              "      <th>7</th>\n",
              "      <td>01/05/2020</td>\n",
              "      <td>5e72623f841f1c7cfa61dcb2</td>\n",
              "      <td>cpf</td>\n",
              "      <td>600.0</td>\n",
              "      <td>600.0</td>\n",
              "      <td>600.0</td>\n",
              "      <td>600.0</td>\n",
              "      <td>0</td>\n",
              "      <td>2</td>\n",
              "      <td>0</td>\n",
              "      <td>0</td>\n",
              "      <td>11</td>\n",
              "      <td>0</td>\n",
              "      <td>0</td>\n",
              "    </tr>\n",
              "    <tr>\n",
              "      <th>...</th>\n",
              "      <td>...</td>\n",
              "      <td>...</td>\n",
              "      <td>...</td>\n",
              "      <td>...</td>\n",
              "      <td>...</td>\n",
              "      <td>...</td>\n",
              "      <td>...</td>\n",
              "      <td>...</td>\n",
              "      <td>...</td>\n",
              "      <td>...</td>\n",
              "      <td>...</td>\n",
              "      <td>...</td>\n",
              "      <td>...</td>\n",
              "      <td>...</td>\n",
              "    </tr>\n",
              "    <tr>\n",
              "      <th>9271</th>\n",
              "      <td>01/02/2021</td>\n",
              "      <td>60366182fc5fa000191ebb03</td>\n",
              "      <td>cpf</td>\n",
              "      <td>100.0</td>\n",
              "      <td>100.0</td>\n",
              "      <td>100.0</td>\n",
              "      <td>100.0</td>\n",
              "      <td>0</td>\n",
              "      <td>1</td>\n",
              "      <td>0</td>\n",
              "      <td>1</td>\n",
              "      <td>0</td>\n",
              "      <td>0</td>\n",
              "      <td>0</td>\n",
              "    </tr>\n",
              "    <tr>\n",
              "      <th>9273</th>\n",
              "      <td>01/11/2020</td>\n",
              "      <td>5fc3ed1659018400162a83ad</td>\n",
              "      <td>cpf</td>\n",
              "      <td>10.0</td>\n",
              "      <td>10.0</td>\n",
              "      <td>10.0</td>\n",
              "      <td>10.0</td>\n",
              "      <td>1</td>\n",
              "      <td>1</td>\n",
              "      <td>0</td>\n",
              "      <td>0</td>\n",
              "      <td>3</td>\n",
              "      <td>0</td>\n",
              "      <td>0</td>\n",
              "    </tr>\n",
              "    <tr>\n",
              "      <th>9274</th>\n",
              "      <td>01/10/2020</td>\n",
              "      <td>5f6f796ccff5532d540c6f58</td>\n",
              "      <td>cpf</td>\n",
              "      <td>160.0</td>\n",
              "      <td>160.0</td>\n",
              "      <td>160.0</td>\n",
              "      <td>160.0</td>\n",
              "      <td>0</td>\n",
              "      <td>1</td>\n",
              "      <td>0</td>\n",
              "      <td>0</td>\n",
              "      <td>5</td>\n",
              "      <td>0</td>\n",
              "      <td>0</td>\n",
              "    </tr>\n",
              "    <tr>\n",
              "      <th>9275</th>\n",
              "      <td>01/12/2020</td>\n",
              "      <td>5ebd605d4c4cb062ab6b3c66</td>\n",
              "      <td>cnpj</td>\n",
              "      <td>600.0</td>\n",
              "      <td>600.0</td>\n",
              "      <td>600.0</td>\n",
              "      <td>600.0</td>\n",
              "      <td>0</td>\n",
              "      <td>1</td>\n",
              "      <td>0</td>\n",
              "      <td>0</td>\n",
              "      <td>9</td>\n",
              "      <td>0</td>\n",
              "      <td>0</td>\n",
              "    </tr>\n",
              "    <tr>\n",
              "      <th>9276</th>\n",
              "      <td>01/03/2021</td>\n",
              "      <td>5ec2eef04e34c55a49997326</td>\n",
              "      <td>cnpj</td>\n",
              "      <td>60.0</td>\n",
              "      <td>60.0</td>\n",
              "      <td>60.0</td>\n",
              "      <td>60.0</td>\n",
              "      <td>1</td>\n",
              "      <td>1</td>\n",
              "      <td>0</td>\n",
              "      <td>0</td>\n",
              "      <td>9</td>\n",
              "      <td>0</td>\n",
              "      <td>0</td>\n",
              "    </tr>\n",
              "  </tbody>\n",
              "</table>\n",
              "<p>5606 rows × 14 columns</p>\n",
              "</div>"
            ],
            "text/plain": [
              "         mes_ref                company_id  ... conta_bnk_repetida  fraude\n",
              "2     01/03/2020  5e73e21359193c2f123c1076  ...                  0       0\n",
              "3     01/04/2020  5e7262c49d55ea5dbea59d57  ...                  0       0\n",
              "5     01/04/2020  5e820bd5afa5275e41256253  ...                  0       0\n",
              "6     01/04/2020  5e8608cc1a20cb550a715bd8  ...                  0       0\n",
              "7     01/05/2020  5e72623f841f1c7cfa61dcb2  ...                  0       0\n",
              "...          ...                       ...  ...                ...     ...\n",
              "9271  01/02/2021  60366182fc5fa000191ebb03  ...                  0       0\n",
              "9273  01/11/2020  5fc3ed1659018400162a83ad  ...                  0       0\n",
              "9274  01/10/2020  5f6f796ccff5532d540c6f58  ...                  0       0\n",
              "9275  01/12/2020  5ebd605d4c4cb062ab6b3c66  ...                  0       0\n",
              "9276  01/03/2021  5ec2eef04e34c55a49997326  ...                  0       0\n",
              "\n",
              "[5606 rows x 14 columns]"
            ]
          },
          "metadata": {},
          "execution_count": 49
        }
      ]
    },
    {
      "cell_type": "code",
      "metadata": {
        "colab": {
          "base_uri": "https://localhost:8080/"
        },
        "id": "LLdTqzVnHLxw",
        "outputId": "e2e27863-63a6-489b-8307-786567d25d2a"
      },
      "source": [
        "df_fraud['mes_ref'].value_counts(normalize=True)"
      ],
      "execution_count": 50,
      "outputs": [
        {
          "output_type": "execute_result",
          "data": {
            "text/plain": [
              "01/09/2020    0.309859\n",
              "01/01/2021    0.197183\n",
              "01/02/2021    0.190141\n",
              "01/12/2020    0.105634\n",
              "01/11/2020    0.063380\n",
              "01/10/2020    0.049296\n",
              "01/08/2020    0.042254\n",
              "01/03/2021    0.035211\n",
              "01/05/2020    0.007042\n",
              "Name: mes_ref, dtype: float64"
            ]
          },
          "metadata": {},
          "execution_count": 50
        }
      ]
    },
    {
      "cell_type": "code",
      "metadata": {
        "colab": {
          "base_uri": "https://localhost:8080/"
        },
        "id": "MSBbN1ieF39R",
        "outputId": "866ba16f-149b-4924-c869-f3b02cf8bdc7"
      },
      "source": [
        "df_no_fraud['qtd_boleto_pago'].value_counts(normalize=True)"
      ],
      "execution_count": 51,
      "outputs": [
        {
          "output_type": "execute_result",
          "data": {
            "text/plain": [
              "1      0.313949\n",
              "0      0.280949\n",
              "2      0.120050\n",
              "3      0.061184\n",
              "4      0.040492\n",
              "         ...   \n",
              "109    0.000178\n",
              "89     0.000178\n",
              "77     0.000178\n",
              "73     0.000178\n",
              "171    0.000178\n",
              "Name: qtd_boleto_pago, Length: 105, dtype: float64"
            ]
          },
          "metadata": {},
          "execution_count": 51
        }
      ]
    },
    {
      "cell_type": "code",
      "metadata": {
        "colab": {
          "base_uri": "https://localhost:8080/"
        },
        "id": "gRtiRhIsGTZA",
        "outputId": "5944022f-3eda-4426-eccd-da3e9697f76c"
      },
      "source": [
        "df_fraud['qtd_boleto_pago'].value_counts(normalize=True)"
      ],
      "execution_count": 52,
      "outputs": [
        {
          "output_type": "execute_result",
          "data": {
            "text/plain": [
              "0     0.894366\n",
              "1     0.063380\n",
              "2     0.014085\n",
              "24    0.007042\n",
              "14    0.007042\n",
              "8     0.007042\n",
              "5     0.007042\n",
              "Name: qtd_boleto_pago, dtype: float64"
            ]
          },
          "metadata": {},
          "execution_count": 52
        }
      ]
    },
    {
      "cell_type": "code",
      "metadata": {
        "colab": {
          "base_uri": "https://localhost:8080/"
        },
        "id": "w6EI9MOPAxzZ",
        "outputId": "be543c41-f0ef-4a6b-da58-52f554fa88c3"
      },
      "source": [
        "df_no_fraud['tipo_doc'].value_counts(normalize=True)"
      ],
      "execution_count": 53,
      "outputs": [
        {
          "output_type": "execute_result",
          "data": {
            "text/plain": [
              "cnpj    0.71031\n",
              "cpf     0.28969\n",
              "Name: tipo_doc, dtype: float64"
            ]
          },
          "metadata": {},
          "execution_count": 53
        }
      ]
    },
    {
      "cell_type": "code",
      "metadata": {
        "colab": {
          "base_uri": "https://localhost:8080/"
        },
        "id": "mjm4xm3_AQc_",
        "outputId": "cef01cc4-740a-4d28-abcf-ff4670775ec5"
      },
      "source": [
        "df_fraud['tipo_doc'].value_counts(normalize=True)"
      ],
      "execution_count": 54,
      "outputs": [
        {
          "output_type": "execute_result",
          "data": {
            "text/plain": [
              "cpf     0.93662\n",
              "cnpj    0.06338\n",
              "Name: tipo_doc, dtype: float64"
            ]
          },
          "metadata": {},
          "execution_count": 54
        }
      ]
    },
    {
      "cell_type": "code",
      "metadata": {
        "colab": {
          "base_uri": "https://localhost:8080/"
        },
        "id": "0aDthhK_cRib",
        "outputId": "4a3d3606-1538-4456-cf79-783dbe66fa79"
      },
      "source": [
        "df_fraud.info()"
      ],
      "execution_count": 55,
      "outputs": [
        {
          "output_type": "stream",
          "name": "stdout",
          "text": [
            "<class 'pandas.core.frame.DataFrame'>\n",
            "Int64Index: 142 entries, 161 to 9272\n",
            "Data columns (total 14 columns):\n",
            " #   Column                Non-Null Count  Dtype  \n",
            "---  ------                --------------  -----  \n",
            " 0   mes_ref               142 non-null    object \n",
            " 1   company_id            142 non-null    object \n",
            " 2   tipo_doc              142 non-null    object \n",
            " 3   max_valor_boleto      142 non-null    float64\n",
            " 4   avg_valor_boleto      142 non-null    float64\n",
            " 5   total_valor_boleto    142 non-null    float64\n",
            " 6   valor_boleto_stdv     142 non-null    float64\n",
            " 7   qtd_boleto_pago       142 non-null    int64  \n",
            " 8   qtd_boleto_total      142 non-null    int64  \n",
            " 9   qtd_boleto_estorno    142 non-null    int64  \n",
            " 10  qnt_cc_total          142 non-null    int64  \n",
            " 11  tempo_credenciamento  142 non-null    int64  \n",
            " 12  conta_bnk_repetida    142 non-null    int64  \n",
            " 13  fraude                142 non-null    int64  \n",
            "dtypes: float64(4), int64(7), object(3)\n",
            "memory usage: 16.6+ KB\n"
          ]
        }
      ]
    },
    {
      "cell_type": "code",
      "metadata": {
        "id": "c7vKTEIW6VLk"
      },
      "source": [
        "a = [df_fraud['tipo_doc'].value_counts(normalize=True)['cpf'], df_fraud['tipo_doc'].value_counts(normalize=True)['cnpj']]\n",
        "b =[df_no_fraud['tipo_doc'].value_counts(normalize=True)['cpf'], df_no_fraud['tipo_doc'].value_counts(normalize=True)['cnpj']]"
      ],
      "execution_count": 95,
      "outputs": []
    },
    {
      "cell_type": "code",
      "metadata": {
        "colab": {
          "base_uri": "https://localhost:8080/",
          "height": 517
        },
        "id": "opZeT-N8AWLo",
        "outputId": "9c69257b-896a-4db0-a2ba-4ea24b7f3adc"
      },
      "source": [
        "fig = go.Figure(go.Bar (x = ['CPF', 'CNPJ'],\n",
        "                        y = a,\n",
        "                        marker = dict(color = [color[0], color[1]],\n",
        ")),             \n",
        ")\n",
        "fig.update_layout(\n",
        "    title=\"\"\"Porcentagem de <b>Fraudes</b> por tipo de Documento\n",
        "            \"\"\",\n",
        "    title_font_size=22,\n",
        "    font_size=13,\n",
        "    plot_bgcolor='white',\n",
        "    legend_x=0.99, legend_xanchor='right', legend_font_size=18,\n",
        "    hovermode='x',\n",
        "    bargap=0.15,\n",
        "    yaxis_tickformat = '%',\n",
        "    width=800, height=500\n",
        ")\n",
        "fig.update_xaxes(type = 'category', title = 'Documento')\n",
        "fig.update_yaxes(title = 'Porcentagem')\n",
        "fig.show()"
      ],
      "execution_count": 109,
      "outputs": [
        {
          "output_type": "display_data",
          "data": {
            "text/html": [
              "<html>\n",
              "<head><meta charset=\"utf-8\" /></head>\n",
              "<body>\n",
              "    <div>\n",
              "            <script src=\"https://cdnjs.cloudflare.com/ajax/libs/mathjax/2.7.5/MathJax.js?config=TeX-AMS-MML_SVG\"></script><script type=\"text/javascript\">if (window.MathJax) {MathJax.Hub.Config({SVG: {font: \"STIX-Web\"}});}</script>\n",
              "                <script type=\"text/javascript\">window.PlotlyConfig = {MathJaxConfig: 'local'};</script>\n",
              "        <script src=\"https://cdn.plot.ly/plotly-latest.min.js\"></script>    \n",
              "            <div id=\"a28fdca2-218e-46dc-9a3d-e49161e31427\" class=\"plotly-graph-div\" style=\"height:500px; width:800px;\"></div>\n",
              "            <script type=\"text/javascript\">\n",
              "                \n",
              "                    window.PLOTLYENV=window.PLOTLYENV || {};\n",
              "                    \n",
              "                if (document.getElementById(\"a28fdca2-218e-46dc-9a3d-e49161e31427\")) {\n",
              "                    Plotly.newPlot(\n",
              "                        'a28fdca2-218e-46dc-9a3d-e49161e31427',\n",
              "                        [{\"marker\": {\"color\": [\"#87B738\", \"#283610\"]}, \"type\": \"bar\", \"x\": [\"CPF\", \"CNPJ\"], \"y\": [0.9366197183098591, 0.06338028169014084]}],\n",
              "                        {\"bargap\": 0.15, \"font\": {\"size\": 13}, \"height\": 500, \"hovermode\": \"x\", \"legend\": {\"font\": {\"size\": 18}, \"x\": 0.99, \"xanchor\": \"right\"}, \"plot_bgcolor\": \"white\", \"template\": {\"data\": {\"bar\": [{\"error_x\": {\"color\": \"#2a3f5f\"}, \"error_y\": {\"color\": \"#2a3f5f\"}, \"marker\": {\"line\": {\"color\": \"#E5ECF6\", \"width\": 0.5}}, \"type\": \"bar\"}], \"barpolar\": [{\"marker\": {\"line\": {\"color\": \"#E5ECF6\", \"width\": 0.5}}, \"type\": \"barpolar\"}], \"carpet\": [{\"aaxis\": {\"endlinecolor\": \"#2a3f5f\", \"gridcolor\": \"white\", \"linecolor\": \"white\", \"minorgridcolor\": \"white\", \"startlinecolor\": \"#2a3f5f\"}, \"baxis\": {\"endlinecolor\": \"#2a3f5f\", \"gridcolor\": \"white\", \"linecolor\": \"white\", \"minorgridcolor\": \"white\", \"startlinecolor\": \"#2a3f5f\"}, \"type\": \"carpet\"}], \"choropleth\": [{\"colorbar\": {\"outlinewidth\": 0, \"ticks\": \"\"}, \"type\": \"choropleth\"}], \"contour\": [{\"colorbar\": {\"outlinewidth\": 0, \"ticks\": \"\"}, \"colorscale\": [[0.0, \"#0d0887\"], [0.1111111111111111, \"#46039f\"], [0.2222222222222222, \"#7201a8\"], [0.3333333333333333, \"#9c179e\"], [0.4444444444444444, \"#bd3786\"], [0.5555555555555556, \"#d8576b\"], [0.6666666666666666, \"#ed7953\"], [0.7777777777777778, \"#fb9f3a\"], [0.8888888888888888, \"#fdca26\"], [1.0, \"#f0f921\"]], \"type\": \"contour\"}], \"contourcarpet\": [{\"colorbar\": {\"outlinewidth\": 0, \"ticks\": \"\"}, \"type\": \"contourcarpet\"}], \"heatmap\": [{\"colorbar\": {\"outlinewidth\": 0, \"ticks\": \"\"}, \"colorscale\": [[0.0, \"#0d0887\"], [0.1111111111111111, \"#46039f\"], [0.2222222222222222, \"#7201a8\"], [0.3333333333333333, \"#9c179e\"], [0.4444444444444444, \"#bd3786\"], [0.5555555555555556, \"#d8576b\"], [0.6666666666666666, \"#ed7953\"], [0.7777777777777778, \"#fb9f3a\"], [0.8888888888888888, \"#fdca26\"], [1.0, \"#f0f921\"]], \"type\": \"heatmap\"}], \"heatmapgl\": [{\"colorbar\": {\"outlinewidth\": 0, \"ticks\": \"\"}, \"colorscale\": [[0.0, \"#0d0887\"], [0.1111111111111111, \"#46039f\"], [0.2222222222222222, \"#7201a8\"], [0.3333333333333333, \"#9c179e\"], [0.4444444444444444, \"#bd3786\"], [0.5555555555555556, \"#d8576b\"], [0.6666666666666666, \"#ed7953\"], [0.7777777777777778, \"#fb9f3a\"], [0.8888888888888888, \"#fdca26\"], [1.0, \"#f0f921\"]], \"type\": \"heatmapgl\"}], \"histogram\": [{\"marker\": {\"colorbar\": {\"outlinewidth\": 0, \"ticks\": \"\"}}, \"type\": \"histogram\"}], \"histogram2d\": [{\"colorbar\": {\"outlinewidth\": 0, \"ticks\": \"\"}, \"colorscale\": [[0.0, \"#0d0887\"], [0.1111111111111111, \"#46039f\"], [0.2222222222222222, \"#7201a8\"], [0.3333333333333333, \"#9c179e\"], [0.4444444444444444, \"#bd3786\"], [0.5555555555555556, \"#d8576b\"], [0.6666666666666666, \"#ed7953\"], [0.7777777777777778, \"#fb9f3a\"], [0.8888888888888888, \"#fdca26\"], [1.0, \"#f0f921\"]], \"type\": \"histogram2d\"}], \"histogram2dcontour\": [{\"colorbar\": {\"outlinewidth\": 0, \"ticks\": \"\"}, \"colorscale\": [[0.0, \"#0d0887\"], [0.1111111111111111, \"#46039f\"], [0.2222222222222222, \"#7201a8\"], [0.3333333333333333, \"#9c179e\"], [0.4444444444444444, \"#bd3786\"], [0.5555555555555556, \"#d8576b\"], [0.6666666666666666, \"#ed7953\"], [0.7777777777777778, \"#fb9f3a\"], [0.8888888888888888, \"#fdca26\"], [1.0, \"#f0f921\"]], \"type\": \"histogram2dcontour\"}], \"mesh3d\": [{\"colorbar\": {\"outlinewidth\": 0, \"ticks\": \"\"}, \"type\": \"mesh3d\"}], \"parcoords\": [{\"line\": {\"colorbar\": {\"outlinewidth\": 0, \"ticks\": \"\"}}, \"type\": \"parcoords\"}], \"pie\": [{\"automargin\": true, \"type\": \"pie\"}], \"scatter\": [{\"marker\": {\"colorbar\": {\"outlinewidth\": 0, \"ticks\": \"\"}}, \"type\": \"scatter\"}], \"scatter3d\": [{\"line\": {\"colorbar\": {\"outlinewidth\": 0, \"ticks\": \"\"}}, \"marker\": {\"colorbar\": {\"outlinewidth\": 0, \"ticks\": \"\"}}, \"type\": \"scatter3d\"}], \"scattercarpet\": [{\"marker\": {\"colorbar\": {\"outlinewidth\": 0, \"ticks\": \"\"}}, \"type\": \"scattercarpet\"}], \"scattergeo\": [{\"marker\": {\"colorbar\": {\"outlinewidth\": 0, \"ticks\": \"\"}}, \"type\": \"scattergeo\"}], \"scattergl\": [{\"marker\": {\"colorbar\": {\"outlinewidth\": 0, \"ticks\": \"\"}}, \"type\": \"scattergl\"}], \"scattermapbox\": [{\"marker\": {\"colorbar\": {\"outlinewidth\": 0, \"ticks\": \"\"}}, \"type\": \"scattermapbox\"}], \"scatterpolar\": [{\"marker\": {\"colorbar\": {\"outlinewidth\": 0, \"ticks\": \"\"}}, \"type\": \"scatterpolar\"}], \"scatterpolargl\": [{\"marker\": {\"colorbar\": {\"outlinewidth\": 0, \"ticks\": \"\"}}, \"type\": \"scatterpolargl\"}], \"scatterternary\": [{\"marker\": {\"colorbar\": {\"outlinewidth\": 0, \"ticks\": \"\"}}, \"type\": \"scatterternary\"}], \"surface\": [{\"colorbar\": {\"outlinewidth\": 0, \"ticks\": \"\"}, \"colorscale\": [[0.0, \"#0d0887\"], [0.1111111111111111, \"#46039f\"], [0.2222222222222222, \"#7201a8\"], [0.3333333333333333, \"#9c179e\"], [0.4444444444444444, \"#bd3786\"], [0.5555555555555556, \"#d8576b\"], [0.6666666666666666, \"#ed7953\"], [0.7777777777777778, \"#fb9f3a\"], [0.8888888888888888, \"#fdca26\"], [1.0, \"#f0f921\"]], \"type\": \"surface\"}], \"table\": [{\"cells\": {\"fill\": {\"color\": \"#EBF0F8\"}, \"line\": {\"color\": \"white\"}}, \"header\": {\"fill\": {\"color\": \"#C8D4E3\"}, \"line\": {\"color\": \"white\"}}, \"type\": \"table\"}]}, \"layout\": {\"annotationdefaults\": {\"arrowcolor\": \"#2a3f5f\", \"arrowhead\": 0, \"arrowwidth\": 1}, \"coloraxis\": {\"colorbar\": {\"outlinewidth\": 0, \"ticks\": \"\"}}, \"colorscale\": {\"diverging\": [[0, \"#8e0152\"], [0.1, \"#c51b7d\"], [0.2, \"#de77ae\"], [0.3, \"#f1b6da\"], [0.4, \"#fde0ef\"], [0.5, \"#f7f7f7\"], [0.6, \"#e6f5d0\"], [0.7, \"#b8e186\"], [0.8, \"#7fbc41\"], [0.9, \"#4d9221\"], [1, \"#276419\"]], \"sequential\": [[0.0, \"#0d0887\"], [0.1111111111111111, \"#46039f\"], [0.2222222222222222, \"#7201a8\"], [0.3333333333333333, \"#9c179e\"], [0.4444444444444444, \"#bd3786\"], [0.5555555555555556, \"#d8576b\"], [0.6666666666666666, \"#ed7953\"], [0.7777777777777778, \"#fb9f3a\"], [0.8888888888888888, \"#fdca26\"], [1.0, \"#f0f921\"]], \"sequentialminus\": [[0.0, \"#0d0887\"], [0.1111111111111111, \"#46039f\"], [0.2222222222222222, \"#7201a8\"], [0.3333333333333333, \"#9c179e\"], [0.4444444444444444, \"#bd3786\"], [0.5555555555555556, \"#d8576b\"], [0.6666666666666666, \"#ed7953\"], [0.7777777777777778, \"#fb9f3a\"], [0.8888888888888888, \"#fdca26\"], [1.0, \"#f0f921\"]]}, \"colorway\": [\"#636efa\", \"#EF553B\", \"#00cc96\", \"#ab63fa\", \"#FFA15A\", \"#19d3f3\", \"#FF6692\", \"#B6E880\", \"#FF97FF\", \"#FECB52\"], \"font\": {\"color\": \"#2a3f5f\"}, \"geo\": {\"bgcolor\": \"white\", \"lakecolor\": \"white\", \"landcolor\": \"#E5ECF6\", \"showlakes\": true, \"showland\": true, \"subunitcolor\": \"white\"}, \"hoverlabel\": {\"align\": \"left\"}, \"hovermode\": \"closest\", \"mapbox\": {\"style\": \"light\"}, \"paper_bgcolor\": \"white\", \"plot_bgcolor\": \"#E5ECF6\", \"polar\": {\"angularaxis\": {\"gridcolor\": \"white\", \"linecolor\": \"white\", \"ticks\": \"\"}, \"bgcolor\": \"#E5ECF6\", \"radialaxis\": {\"gridcolor\": \"white\", \"linecolor\": \"white\", \"ticks\": \"\"}}, \"scene\": {\"xaxis\": {\"backgroundcolor\": \"#E5ECF6\", \"gridcolor\": \"white\", \"gridwidth\": 2, \"linecolor\": \"white\", \"showbackground\": true, \"ticks\": \"\", \"zerolinecolor\": \"white\"}, \"yaxis\": {\"backgroundcolor\": \"#E5ECF6\", \"gridcolor\": \"white\", \"gridwidth\": 2, \"linecolor\": \"white\", \"showbackground\": true, \"ticks\": \"\", \"zerolinecolor\": \"white\"}, \"zaxis\": {\"backgroundcolor\": \"#E5ECF6\", \"gridcolor\": \"white\", \"gridwidth\": 2, \"linecolor\": \"white\", \"showbackground\": true, \"ticks\": \"\", \"zerolinecolor\": \"white\"}}, \"shapedefaults\": {\"line\": {\"color\": \"#2a3f5f\"}}, \"ternary\": {\"aaxis\": {\"gridcolor\": \"white\", \"linecolor\": \"white\", \"ticks\": \"\"}, \"baxis\": {\"gridcolor\": \"white\", \"linecolor\": \"white\", \"ticks\": \"\"}, \"bgcolor\": \"#E5ECF6\", \"caxis\": {\"gridcolor\": \"white\", \"linecolor\": \"white\", \"ticks\": \"\"}}, \"title\": {\"x\": 0.05}, \"xaxis\": {\"automargin\": true, \"gridcolor\": \"white\", \"linecolor\": \"white\", \"ticks\": \"\", \"title\": {\"standoff\": 15}, \"zerolinecolor\": \"white\", \"zerolinewidth\": 2}, \"yaxis\": {\"automargin\": true, \"gridcolor\": \"white\", \"linecolor\": \"white\", \"ticks\": \"\", \"title\": {\"standoff\": 15}, \"zerolinecolor\": \"white\", \"zerolinewidth\": 2}}}, \"title\": {\"font\": {\"size\": 22}, \"text\": \"Porcentagem de <b>Fraudes</b> por tipo de Documento\\n            \"}, \"width\": 800, \"xaxis\": {\"title\": {\"text\": \"Documento\"}, \"type\": \"category\"}, \"yaxis\": {\"tickformat\": \"%\", \"title\": {\"text\": \"Porcentagem\"}}},\n",
              "                        {\"responsive\": true}\n",
              "                    ).then(function(){\n",
              "                            \n",
              "var gd = document.getElementById('a28fdca2-218e-46dc-9a3d-e49161e31427');\n",
              "var x = new MutationObserver(function (mutations, observer) {{\n",
              "        var display = window.getComputedStyle(gd).display;\n",
              "        if (!display || display === 'none') {{\n",
              "            console.log([gd, 'removed!']);\n",
              "            Plotly.purge(gd);\n",
              "            observer.disconnect();\n",
              "        }}\n",
              "}});\n",
              "\n",
              "// Listen for the removal of the full notebook cells\n",
              "var notebookContainer = gd.closest('#notebook-container');\n",
              "if (notebookContainer) {{\n",
              "    x.observe(notebookContainer, {childList: true});\n",
              "}}\n",
              "\n",
              "// Listen for the clearing of the current output cell\n",
              "var outputEl = gd.closest('.output');\n",
              "if (outputEl) {{\n",
              "    x.observe(outputEl, {childList: true});\n",
              "}}\n",
              "\n",
              "                        })\n",
              "                };\n",
              "                \n",
              "            </script>\n",
              "        </div>\n",
              "</body>\n",
              "</html>"
            ]
          },
          "metadata": {}
        }
      ]
    },
    {
      "cell_type": "code",
      "metadata": {
        "colab": {
          "base_uri": "https://localhost:8080/",
          "height": 517
        },
        "id": "ER1ZC1TnDZcV",
        "outputId": "283cd86e-4454-4e32-bab1-fb3b1c482864"
      },
      "source": [
        "fig = go.Figure(go.Bar (x = ['cpj', 'cnpj'],\n",
        "                        y = b,\n",
        "                        marker = dict(color = [color[0], color[1]],\n",
        ")))\n",
        "\n",
        "fig.update_layout(\n",
        "    title=\"\"\"Porcentagem de <b>Não </b>Fraudes por tipo de Documento\n",
        "            \"\"\",\n",
        "    title_font_size=22,\n",
        "    font_size=13,\n",
        "    plot_bgcolor='white',\n",
        "    legend_x=0.99, legend_xanchor='right', legend_font_size=18,\n",
        "    hovermode='x',\n",
        "    bargap=0.15,\n",
        "    yaxis_tickformat = '%',\n",
        "    width=800, height=500\n",
        ")\n",
        "fig.update_xaxes(type = 'category', title = 'Documento')\n",
        "fig.update_yaxes(title = 'Porcentagem')\n",
        "fig.show()"
      ],
      "execution_count": 104,
      "outputs": [
        {
          "output_type": "display_data",
          "data": {
            "text/html": [
              "<html>\n",
              "<head><meta charset=\"utf-8\" /></head>\n",
              "<body>\n",
              "    <div>\n",
              "            <script src=\"https://cdnjs.cloudflare.com/ajax/libs/mathjax/2.7.5/MathJax.js?config=TeX-AMS-MML_SVG\"></script><script type=\"text/javascript\">if (window.MathJax) {MathJax.Hub.Config({SVG: {font: \"STIX-Web\"}});}</script>\n",
              "                <script type=\"text/javascript\">window.PlotlyConfig = {MathJaxConfig: 'local'};</script>\n",
              "        <script src=\"https://cdn.plot.ly/plotly-latest.min.js\"></script>    \n",
              "            <div id=\"62967073-801c-4776-8882-726ab2a14f3b\" class=\"plotly-graph-div\" style=\"height:500px; width:800px;\"></div>\n",
              "            <script type=\"text/javascript\">\n",
              "                \n",
              "                    window.PLOTLYENV=window.PLOTLYENV || {};\n",
              "                    \n",
              "                if (document.getElementById(\"62967073-801c-4776-8882-726ab2a14f3b\")) {\n",
              "                    Plotly.newPlot(\n",
              "                        '62967073-801c-4776-8882-726ab2a14f3b',\n",
              "                        [{\"marker\": {\"color\": [\"#87B738\", \"#283610\"]}, \"type\": \"bar\", \"x\": [\"cpj\", \"cnpj\"], \"y\": [0.2896896182661434, 0.7103103817338566]}],\n",
              "                        {\"bargap\": 0.15, \"font\": {\"size\": 13}, \"height\": 500, \"hovermode\": \"x\", \"legend\": {\"font\": {\"size\": 18}, \"x\": 0.99, \"xanchor\": \"right\"}, \"plot_bgcolor\": \"white\", \"template\": {\"data\": {\"bar\": [{\"error_x\": {\"color\": \"#2a3f5f\"}, \"error_y\": {\"color\": \"#2a3f5f\"}, \"marker\": {\"line\": {\"color\": \"#E5ECF6\", \"width\": 0.5}}, \"type\": \"bar\"}], \"barpolar\": [{\"marker\": {\"line\": {\"color\": \"#E5ECF6\", \"width\": 0.5}}, \"type\": \"barpolar\"}], \"carpet\": [{\"aaxis\": {\"endlinecolor\": \"#2a3f5f\", \"gridcolor\": \"white\", \"linecolor\": \"white\", \"minorgridcolor\": \"white\", \"startlinecolor\": \"#2a3f5f\"}, \"baxis\": {\"endlinecolor\": \"#2a3f5f\", \"gridcolor\": \"white\", \"linecolor\": \"white\", \"minorgridcolor\": \"white\", \"startlinecolor\": \"#2a3f5f\"}, \"type\": \"carpet\"}], \"choropleth\": [{\"colorbar\": {\"outlinewidth\": 0, \"ticks\": \"\"}, \"type\": \"choropleth\"}], \"contour\": [{\"colorbar\": {\"outlinewidth\": 0, \"ticks\": \"\"}, \"colorscale\": [[0.0, \"#0d0887\"], [0.1111111111111111, \"#46039f\"], [0.2222222222222222, \"#7201a8\"], [0.3333333333333333, \"#9c179e\"], [0.4444444444444444, \"#bd3786\"], [0.5555555555555556, \"#d8576b\"], [0.6666666666666666, \"#ed7953\"], [0.7777777777777778, \"#fb9f3a\"], [0.8888888888888888, \"#fdca26\"], [1.0, \"#f0f921\"]], \"type\": \"contour\"}], \"contourcarpet\": [{\"colorbar\": {\"outlinewidth\": 0, \"ticks\": \"\"}, \"type\": \"contourcarpet\"}], \"heatmap\": [{\"colorbar\": {\"outlinewidth\": 0, \"ticks\": \"\"}, \"colorscale\": [[0.0, \"#0d0887\"], [0.1111111111111111, \"#46039f\"], [0.2222222222222222, \"#7201a8\"], [0.3333333333333333, \"#9c179e\"], [0.4444444444444444, \"#bd3786\"], [0.5555555555555556, \"#d8576b\"], [0.6666666666666666, \"#ed7953\"], [0.7777777777777778, \"#fb9f3a\"], [0.8888888888888888, \"#fdca26\"], [1.0, \"#f0f921\"]], \"type\": \"heatmap\"}], \"heatmapgl\": [{\"colorbar\": {\"outlinewidth\": 0, \"ticks\": \"\"}, \"colorscale\": [[0.0, \"#0d0887\"], [0.1111111111111111, \"#46039f\"], [0.2222222222222222, \"#7201a8\"], [0.3333333333333333, \"#9c179e\"], [0.4444444444444444, \"#bd3786\"], [0.5555555555555556, \"#d8576b\"], [0.6666666666666666, \"#ed7953\"], [0.7777777777777778, \"#fb9f3a\"], [0.8888888888888888, \"#fdca26\"], [1.0, \"#f0f921\"]], \"type\": \"heatmapgl\"}], \"histogram\": [{\"marker\": {\"colorbar\": {\"outlinewidth\": 0, \"ticks\": \"\"}}, \"type\": \"histogram\"}], \"histogram2d\": [{\"colorbar\": {\"outlinewidth\": 0, \"ticks\": \"\"}, \"colorscale\": [[0.0, \"#0d0887\"], [0.1111111111111111, \"#46039f\"], [0.2222222222222222, \"#7201a8\"], [0.3333333333333333, \"#9c179e\"], [0.4444444444444444, \"#bd3786\"], [0.5555555555555556, \"#d8576b\"], [0.6666666666666666, \"#ed7953\"], [0.7777777777777778, \"#fb9f3a\"], [0.8888888888888888, \"#fdca26\"], [1.0, \"#f0f921\"]], \"type\": \"histogram2d\"}], \"histogram2dcontour\": [{\"colorbar\": {\"outlinewidth\": 0, \"ticks\": \"\"}, \"colorscale\": [[0.0, \"#0d0887\"], [0.1111111111111111, \"#46039f\"], [0.2222222222222222, \"#7201a8\"], [0.3333333333333333, \"#9c179e\"], [0.4444444444444444, \"#bd3786\"], [0.5555555555555556, \"#d8576b\"], [0.6666666666666666, \"#ed7953\"], [0.7777777777777778, \"#fb9f3a\"], [0.8888888888888888, \"#fdca26\"], [1.0, \"#f0f921\"]], \"type\": \"histogram2dcontour\"}], \"mesh3d\": [{\"colorbar\": {\"outlinewidth\": 0, \"ticks\": \"\"}, \"type\": \"mesh3d\"}], \"parcoords\": [{\"line\": {\"colorbar\": {\"outlinewidth\": 0, \"ticks\": \"\"}}, \"type\": \"parcoords\"}], \"pie\": [{\"automargin\": true, \"type\": \"pie\"}], \"scatter\": [{\"marker\": {\"colorbar\": {\"outlinewidth\": 0, \"ticks\": \"\"}}, \"type\": \"scatter\"}], \"scatter3d\": [{\"line\": {\"colorbar\": {\"outlinewidth\": 0, \"ticks\": \"\"}}, \"marker\": {\"colorbar\": {\"outlinewidth\": 0, \"ticks\": \"\"}}, \"type\": \"scatter3d\"}], \"scattercarpet\": [{\"marker\": {\"colorbar\": {\"outlinewidth\": 0, \"ticks\": \"\"}}, \"type\": \"scattercarpet\"}], \"scattergeo\": [{\"marker\": {\"colorbar\": {\"outlinewidth\": 0, \"ticks\": \"\"}}, \"type\": \"scattergeo\"}], \"scattergl\": [{\"marker\": {\"colorbar\": {\"outlinewidth\": 0, \"ticks\": \"\"}}, \"type\": \"scattergl\"}], \"scattermapbox\": [{\"marker\": {\"colorbar\": {\"outlinewidth\": 0, \"ticks\": \"\"}}, \"type\": \"scattermapbox\"}], \"scatterpolar\": [{\"marker\": {\"colorbar\": {\"outlinewidth\": 0, \"ticks\": \"\"}}, \"type\": \"scatterpolar\"}], \"scatterpolargl\": [{\"marker\": {\"colorbar\": {\"outlinewidth\": 0, \"ticks\": \"\"}}, \"type\": \"scatterpolargl\"}], \"scatterternary\": [{\"marker\": {\"colorbar\": {\"outlinewidth\": 0, \"ticks\": \"\"}}, \"type\": \"scatterternary\"}], \"surface\": [{\"colorbar\": {\"outlinewidth\": 0, \"ticks\": \"\"}, \"colorscale\": [[0.0, \"#0d0887\"], [0.1111111111111111, \"#46039f\"], [0.2222222222222222, \"#7201a8\"], [0.3333333333333333, \"#9c179e\"], [0.4444444444444444, \"#bd3786\"], [0.5555555555555556, \"#d8576b\"], [0.6666666666666666, \"#ed7953\"], [0.7777777777777778, \"#fb9f3a\"], [0.8888888888888888, \"#fdca26\"], [1.0, \"#f0f921\"]], \"type\": \"surface\"}], \"table\": [{\"cells\": {\"fill\": {\"color\": \"#EBF0F8\"}, \"line\": {\"color\": \"white\"}}, \"header\": {\"fill\": {\"color\": \"#C8D4E3\"}, \"line\": {\"color\": \"white\"}}, \"type\": \"table\"}]}, \"layout\": {\"annotationdefaults\": {\"arrowcolor\": \"#2a3f5f\", \"arrowhead\": 0, \"arrowwidth\": 1}, \"coloraxis\": {\"colorbar\": {\"outlinewidth\": 0, \"ticks\": \"\"}}, \"colorscale\": {\"diverging\": [[0, \"#8e0152\"], [0.1, \"#c51b7d\"], [0.2, \"#de77ae\"], [0.3, \"#f1b6da\"], [0.4, \"#fde0ef\"], [0.5, \"#f7f7f7\"], [0.6, \"#e6f5d0\"], [0.7, \"#b8e186\"], [0.8, \"#7fbc41\"], [0.9, \"#4d9221\"], [1, \"#276419\"]], \"sequential\": [[0.0, \"#0d0887\"], [0.1111111111111111, \"#46039f\"], [0.2222222222222222, \"#7201a8\"], [0.3333333333333333, \"#9c179e\"], [0.4444444444444444, \"#bd3786\"], [0.5555555555555556, \"#d8576b\"], [0.6666666666666666, \"#ed7953\"], [0.7777777777777778, \"#fb9f3a\"], [0.8888888888888888, \"#fdca26\"], [1.0, \"#f0f921\"]], \"sequentialminus\": [[0.0, \"#0d0887\"], [0.1111111111111111, \"#46039f\"], [0.2222222222222222, \"#7201a8\"], [0.3333333333333333, \"#9c179e\"], [0.4444444444444444, \"#bd3786\"], [0.5555555555555556, \"#d8576b\"], [0.6666666666666666, \"#ed7953\"], [0.7777777777777778, \"#fb9f3a\"], [0.8888888888888888, \"#fdca26\"], [1.0, \"#f0f921\"]]}, \"colorway\": [\"#636efa\", \"#EF553B\", \"#00cc96\", \"#ab63fa\", \"#FFA15A\", \"#19d3f3\", \"#FF6692\", \"#B6E880\", \"#FF97FF\", \"#FECB52\"], \"font\": {\"color\": \"#2a3f5f\"}, \"geo\": {\"bgcolor\": \"white\", \"lakecolor\": \"white\", \"landcolor\": \"#E5ECF6\", \"showlakes\": true, \"showland\": true, \"subunitcolor\": \"white\"}, \"hoverlabel\": {\"align\": \"left\"}, \"hovermode\": \"closest\", \"mapbox\": {\"style\": \"light\"}, \"paper_bgcolor\": \"white\", \"plot_bgcolor\": \"#E5ECF6\", \"polar\": {\"angularaxis\": {\"gridcolor\": \"white\", \"linecolor\": \"white\", \"ticks\": \"\"}, \"bgcolor\": \"#E5ECF6\", \"radialaxis\": {\"gridcolor\": \"white\", \"linecolor\": \"white\", \"ticks\": \"\"}}, \"scene\": {\"xaxis\": {\"backgroundcolor\": \"#E5ECF6\", \"gridcolor\": \"white\", \"gridwidth\": 2, \"linecolor\": \"white\", \"showbackground\": true, \"ticks\": \"\", \"zerolinecolor\": \"white\"}, \"yaxis\": {\"backgroundcolor\": \"#E5ECF6\", \"gridcolor\": \"white\", \"gridwidth\": 2, \"linecolor\": \"white\", \"showbackground\": true, \"ticks\": \"\", \"zerolinecolor\": \"white\"}, \"zaxis\": {\"backgroundcolor\": \"#E5ECF6\", \"gridcolor\": \"white\", \"gridwidth\": 2, \"linecolor\": \"white\", \"showbackground\": true, \"ticks\": \"\", \"zerolinecolor\": \"white\"}}, \"shapedefaults\": {\"line\": {\"color\": \"#2a3f5f\"}}, \"ternary\": {\"aaxis\": {\"gridcolor\": \"white\", \"linecolor\": \"white\", \"ticks\": \"\"}, \"baxis\": {\"gridcolor\": \"white\", \"linecolor\": \"white\", \"ticks\": \"\"}, \"bgcolor\": \"#E5ECF6\", \"caxis\": {\"gridcolor\": \"white\", \"linecolor\": \"white\", \"ticks\": \"\"}}, \"title\": {\"x\": 0.05}, \"xaxis\": {\"automargin\": true, \"gridcolor\": \"white\", \"linecolor\": \"white\", \"ticks\": \"\", \"title\": {\"standoff\": 15}, \"zerolinecolor\": \"white\", \"zerolinewidth\": 2}, \"yaxis\": {\"automargin\": true, \"gridcolor\": \"white\", \"linecolor\": \"white\", \"ticks\": \"\", \"title\": {\"standoff\": 15}, \"zerolinecolor\": \"white\", \"zerolinewidth\": 2}}}, \"title\": {\"font\": {\"size\": 22}, \"text\": \"Porcentagem de <b>N\\u00e3o </b>Fraudes por tipo de Documento\\n            \"}, \"width\": 800, \"xaxis\": {\"title\": {\"text\": \"Tipo de Documento\"}, \"type\": \"category\"}, \"yaxis\": {\"tickformat\": \"%\", \"title\": {\"text\": \"Porcentagem\"}}},\n",
              "                        {\"responsive\": true}\n",
              "                    ).then(function(){\n",
              "                            \n",
              "var gd = document.getElementById('62967073-801c-4776-8882-726ab2a14f3b');\n",
              "var x = new MutationObserver(function (mutations, observer) {{\n",
              "        var display = window.getComputedStyle(gd).display;\n",
              "        if (!display || display === 'none') {{\n",
              "            console.log([gd, 'removed!']);\n",
              "            Plotly.purge(gd);\n",
              "            observer.disconnect();\n",
              "        }}\n",
              "}});\n",
              "\n",
              "// Listen for the removal of the full notebook cells\n",
              "var notebookContainer = gd.closest('#notebook-container');\n",
              "if (notebookContainer) {{\n",
              "    x.observe(notebookContainer, {childList: true});\n",
              "}}\n",
              "\n",
              "// Listen for the clearing of the current output cell\n",
              "var outputEl = gd.closest('.output');\n",
              "if (outputEl) {{\n",
              "    x.observe(outputEl, {childList: true});\n",
              "}}\n",
              "\n",
              "                        })\n",
              "                };\n",
              "                \n",
              "            </script>\n",
              "        </div>\n",
              "</body>\n",
              "</html>"
            ]
          },
          "metadata": {}
        }
      ]
    }
  ]
}